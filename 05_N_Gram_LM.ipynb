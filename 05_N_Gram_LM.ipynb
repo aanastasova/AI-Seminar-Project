{
  "nbformat": 4,
  "nbformat_minor": 0,
  "metadata": {
    "colab": {
      "provenance": []
    },
    "kernelspec": {
      "name": "python3",
      "display_name": "Python 3"
    },
    "widgets": {
      "application/vnd.jupyter.widget-state+json": {
        "56a66c0111f248ac9da57896e05264bb": {
          "model_module": "@jupyter-widgets/controls",
          "model_name": "HBoxModel",
          "model_module_version": "1.5.0",
          "state": {
            "_dom_classes": [],
            "_model_module": "@jupyter-widgets/controls",
            "_model_module_version": "1.5.0",
            "_model_name": "HBoxModel",
            "_view_count": null,
            "_view_module": "@jupyter-widgets/controls",
            "_view_module_version": "1.5.0",
            "_view_name": "HBoxView",
            "box_style": "",
            "children": [
              "IPY_MODEL_29d5437408844ff4a5091f283eac067a",
              "IPY_MODEL_8d360664ed1249778c805109c5cc0592",
              "IPY_MODEL_3fd07c0a4224458ab45a218f99da0dcb"
            ],
            "layout": "IPY_MODEL_b75aa77955f94107b5549783634596ff"
          }
        },
        "29d5437408844ff4a5091f283eac067a": {
          "model_module": "@jupyter-widgets/controls",
          "model_name": "HTMLModel",
          "model_module_version": "1.5.0",
          "state": {
            "_dom_classes": [],
            "_model_module": "@jupyter-widgets/controls",
            "_model_module_version": "1.5.0",
            "_model_name": "HTMLModel",
            "_view_count": null,
            "_view_module": "@jupyter-widgets/controls",
            "_view_module_version": "1.5.0",
            "_view_name": "HTMLView",
            "description": "",
            "description_tooltip": null,
            "layout": "IPY_MODEL_fc3238b88c7d4315a2a5b30cf3b2238b",
            "placeholder": "​",
            "style": "IPY_MODEL_85ef593582c147639f4e594753c57c28",
            "value": "100%"
          }
        },
        "8d360664ed1249778c805109c5cc0592": {
          "model_module": "@jupyter-widgets/controls",
          "model_name": "FloatProgressModel",
          "model_module_version": "1.5.0",
          "state": {
            "_dom_classes": [],
            "_model_module": "@jupyter-widgets/controls",
            "_model_module_version": "1.5.0",
            "_model_name": "FloatProgressModel",
            "_view_count": null,
            "_view_module": "@jupyter-widgets/controls",
            "_view_module_version": "1.5.0",
            "_view_name": "ProgressView",
            "bar_style": "success",
            "description": "",
            "description_tooltip": null,
            "layout": "IPY_MODEL_6a8f3e98d176446c89d103a00a7dd1b9",
            "max": 57340,
            "min": 0,
            "orientation": "horizontal",
            "style": "IPY_MODEL_d9dc7ea1a75e4990a23c15be4b5ff435",
            "value": 57340
          }
        },
        "3fd07c0a4224458ab45a218f99da0dcb": {
          "model_module": "@jupyter-widgets/controls",
          "model_name": "HTMLModel",
          "model_module_version": "1.5.0",
          "state": {
            "_dom_classes": [],
            "_model_module": "@jupyter-widgets/controls",
            "_model_module_version": "1.5.0",
            "_model_name": "HTMLModel",
            "_view_count": null,
            "_view_module": "@jupyter-widgets/controls",
            "_view_module_version": "1.5.0",
            "_view_name": "HTMLView",
            "description": "",
            "description_tooltip": null,
            "layout": "IPY_MODEL_e5f2815168b14bbcafabdf024125f29e",
            "placeholder": "​",
            "style": "IPY_MODEL_9cb12ef4fbfe4217b4a77214f24fb548",
            "value": " 57340/57340 [00:00&lt;00:00, 895371.98it/s]"
          }
        },
        "b75aa77955f94107b5549783634596ff": {
          "model_module": "@jupyter-widgets/base",
          "model_name": "LayoutModel",
          "model_module_version": "1.2.0",
          "state": {
            "_model_module": "@jupyter-widgets/base",
            "_model_module_version": "1.2.0",
            "_model_name": "LayoutModel",
            "_view_count": null,
            "_view_module": "@jupyter-widgets/base",
            "_view_module_version": "1.2.0",
            "_view_name": "LayoutView",
            "align_content": null,
            "align_items": null,
            "align_self": null,
            "border": null,
            "bottom": null,
            "display": null,
            "flex": null,
            "flex_flow": null,
            "grid_area": null,
            "grid_auto_columns": null,
            "grid_auto_flow": null,
            "grid_auto_rows": null,
            "grid_column": null,
            "grid_gap": null,
            "grid_row": null,
            "grid_template_areas": null,
            "grid_template_columns": null,
            "grid_template_rows": null,
            "height": null,
            "justify_content": null,
            "justify_items": null,
            "left": null,
            "margin": null,
            "max_height": null,
            "max_width": null,
            "min_height": null,
            "min_width": null,
            "object_fit": null,
            "object_position": null,
            "order": null,
            "overflow": null,
            "overflow_x": null,
            "overflow_y": null,
            "padding": null,
            "right": null,
            "top": null,
            "visibility": null,
            "width": null
          }
        },
        "fc3238b88c7d4315a2a5b30cf3b2238b": {
          "model_module": "@jupyter-widgets/base",
          "model_name": "LayoutModel",
          "model_module_version": "1.2.0",
          "state": {
            "_model_module": "@jupyter-widgets/base",
            "_model_module_version": "1.2.0",
            "_model_name": "LayoutModel",
            "_view_count": null,
            "_view_module": "@jupyter-widgets/base",
            "_view_module_version": "1.2.0",
            "_view_name": "LayoutView",
            "align_content": null,
            "align_items": null,
            "align_self": null,
            "border": null,
            "bottom": null,
            "display": null,
            "flex": null,
            "flex_flow": null,
            "grid_area": null,
            "grid_auto_columns": null,
            "grid_auto_flow": null,
            "grid_auto_rows": null,
            "grid_column": null,
            "grid_gap": null,
            "grid_row": null,
            "grid_template_areas": null,
            "grid_template_columns": null,
            "grid_template_rows": null,
            "height": null,
            "justify_content": null,
            "justify_items": null,
            "left": null,
            "margin": null,
            "max_height": null,
            "max_width": null,
            "min_height": null,
            "min_width": null,
            "object_fit": null,
            "object_position": null,
            "order": null,
            "overflow": null,
            "overflow_x": null,
            "overflow_y": null,
            "padding": null,
            "right": null,
            "top": null,
            "visibility": null,
            "width": null
          }
        },
        "85ef593582c147639f4e594753c57c28": {
          "model_module": "@jupyter-widgets/controls",
          "model_name": "DescriptionStyleModel",
          "model_module_version": "1.5.0",
          "state": {
            "_model_module": "@jupyter-widgets/controls",
            "_model_module_version": "1.5.0",
            "_model_name": "DescriptionStyleModel",
            "_view_count": null,
            "_view_module": "@jupyter-widgets/base",
            "_view_module_version": "1.2.0",
            "_view_name": "StyleView",
            "description_width": ""
          }
        },
        "6a8f3e98d176446c89d103a00a7dd1b9": {
          "model_module": "@jupyter-widgets/base",
          "model_name": "LayoutModel",
          "model_module_version": "1.2.0",
          "state": {
            "_model_module": "@jupyter-widgets/base",
            "_model_module_version": "1.2.0",
            "_model_name": "LayoutModel",
            "_view_count": null,
            "_view_module": "@jupyter-widgets/base",
            "_view_module_version": "1.2.0",
            "_view_name": "LayoutView",
            "align_content": null,
            "align_items": null,
            "align_self": null,
            "border": null,
            "bottom": null,
            "display": null,
            "flex": null,
            "flex_flow": null,
            "grid_area": null,
            "grid_auto_columns": null,
            "grid_auto_flow": null,
            "grid_auto_rows": null,
            "grid_column": null,
            "grid_gap": null,
            "grid_row": null,
            "grid_template_areas": null,
            "grid_template_columns": null,
            "grid_template_rows": null,
            "height": null,
            "justify_content": null,
            "justify_items": null,
            "left": null,
            "margin": null,
            "max_height": null,
            "max_width": null,
            "min_height": null,
            "min_width": null,
            "object_fit": null,
            "object_position": null,
            "order": null,
            "overflow": null,
            "overflow_x": null,
            "overflow_y": null,
            "padding": null,
            "right": null,
            "top": null,
            "visibility": null,
            "width": null
          }
        },
        "d9dc7ea1a75e4990a23c15be4b5ff435": {
          "model_module": "@jupyter-widgets/controls",
          "model_name": "ProgressStyleModel",
          "model_module_version": "1.5.0",
          "state": {
            "_model_module": "@jupyter-widgets/controls",
            "_model_module_version": "1.5.0",
            "_model_name": "ProgressStyleModel",
            "_view_count": null,
            "_view_module": "@jupyter-widgets/base",
            "_view_module_version": "1.2.0",
            "_view_name": "StyleView",
            "bar_color": null,
            "description_width": ""
          }
        },
        "e5f2815168b14bbcafabdf024125f29e": {
          "model_module": "@jupyter-widgets/base",
          "model_name": "LayoutModel",
          "model_module_version": "1.2.0",
          "state": {
            "_model_module": "@jupyter-widgets/base",
            "_model_module_version": "1.2.0",
            "_model_name": "LayoutModel",
            "_view_count": null,
            "_view_module": "@jupyter-widgets/base",
            "_view_module_version": "1.2.0",
            "_view_name": "LayoutView",
            "align_content": null,
            "align_items": null,
            "align_self": null,
            "border": null,
            "bottom": null,
            "display": null,
            "flex": null,
            "flex_flow": null,
            "grid_area": null,
            "grid_auto_columns": null,
            "grid_auto_flow": null,
            "grid_auto_rows": null,
            "grid_column": null,
            "grid_gap": null,
            "grid_row": null,
            "grid_template_areas": null,
            "grid_template_columns": null,
            "grid_template_rows": null,
            "height": null,
            "justify_content": null,
            "justify_items": null,
            "left": null,
            "margin": null,
            "max_height": null,
            "max_width": null,
            "min_height": null,
            "min_width": null,
            "object_fit": null,
            "object_position": null,
            "order": null,
            "overflow": null,
            "overflow_x": null,
            "overflow_y": null,
            "padding": null,
            "right": null,
            "top": null,
            "visibility": null,
            "width": null
          }
        },
        "9cb12ef4fbfe4217b4a77214f24fb548": {
          "model_module": "@jupyter-widgets/controls",
          "model_name": "DescriptionStyleModel",
          "model_module_version": "1.5.0",
          "state": {
            "_model_module": "@jupyter-widgets/controls",
            "_model_module_version": "1.5.0",
            "_model_name": "DescriptionStyleModel",
            "_view_count": null,
            "_view_module": "@jupyter-widgets/base",
            "_view_module_version": "1.2.0",
            "_view_name": "StyleView",
            "description_width": ""
          }
        },
        "7aee5aff60a2456c91a4d01e7189b496": {
          "model_module": "@jupyter-widgets/controls",
          "model_name": "HBoxModel",
          "model_module_version": "1.5.0",
          "state": {
            "_dom_classes": [],
            "_model_module": "@jupyter-widgets/controls",
            "_model_module_version": "1.5.0",
            "_model_name": "HBoxModel",
            "_view_count": null,
            "_view_module": "@jupyter-widgets/controls",
            "_view_module_version": "1.5.0",
            "_view_name": "HBoxView",
            "box_style": "",
            "children": [
              "IPY_MODEL_136d5e26143243c285da8d50872c68ab",
              "IPY_MODEL_14404047b01d471388b6936a4aae775c",
              "IPY_MODEL_b0d4ea414ee14597a8cdf5e0704589cd"
            ],
            "layout": "IPY_MODEL_b091d300069b4051bf8ee225c2f0179f"
          }
        },
        "136d5e26143243c285da8d50872c68ab": {
          "model_module": "@jupyter-widgets/controls",
          "model_name": "HTMLModel",
          "model_module_version": "1.5.0",
          "state": {
            "_dom_classes": [],
            "_model_module": "@jupyter-widgets/controls",
            "_model_module_version": "1.5.0",
            "_model_name": "HTMLModel",
            "_view_count": null,
            "_view_module": "@jupyter-widgets/controls",
            "_view_module_version": "1.5.0",
            "_view_name": "HTMLView",
            "description": "",
            "description_tooltip": null,
            "layout": "IPY_MODEL_f6af19e908fe420e981d9c969c1cfa7e",
            "placeholder": "​",
            "style": "IPY_MODEL_70e6b23a5df948f1a7c31fd6af3524c9",
            "value": "100%"
          }
        },
        "14404047b01d471388b6936a4aae775c": {
          "model_module": "@jupyter-widgets/controls",
          "model_name": "FloatProgressModel",
          "model_module_version": "1.5.0",
          "state": {
            "_dom_classes": [],
            "_model_module": "@jupyter-widgets/controls",
            "_model_module_version": "1.5.0",
            "_model_name": "FloatProgressModel",
            "_view_count": null,
            "_view_module": "@jupyter-widgets/controls",
            "_view_module_version": "1.5.0",
            "_view_name": "ProgressView",
            "bar_style": "success",
            "description": "",
            "description_tooltip": null,
            "layout": "IPY_MODEL_a3d5939976fc42f6840e7b6602af4e25",
            "max": 54716,
            "min": 0,
            "orientation": "horizontal",
            "style": "IPY_MODEL_7509bbc5a5be405da80315490def7fd6",
            "value": 54716
          }
        },
        "b0d4ea414ee14597a8cdf5e0704589cd": {
          "model_module": "@jupyter-widgets/controls",
          "model_name": "HTMLModel",
          "model_module_version": "1.5.0",
          "state": {
            "_dom_classes": [],
            "_model_module": "@jupyter-widgets/controls",
            "_model_module_version": "1.5.0",
            "_model_name": "HTMLModel",
            "_view_count": null,
            "_view_module": "@jupyter-widgets/controls",
            "_view_module_version": "1.5.0",
            "_view_name": "HTMLView",
            "description": "",
            "description_tooltip": null,
            "layout": "IPY_MODEL_faacb82f41e34067abfbb1ed0ebf79e2",
            "placeholder": "​",
            "style": "IPY_MODEL_112a365847ca4812891d0a843f33a56f",
            "value": " 54716/54716 [00:00&lt;00:00, 795723.94it/s]"
          }
        },
        "b091d300069b4051bf8ee225c2f0179f": {
          "model_module": "@jupyter-widgets/base",
          "model_name": "LayoutModel",
          "model_module_version": "1.2.0",
          "state": {
            "_model_module": "@jupyter-widgets/base",
            "_model_module_version": "1.2.0",
            "_model_name": "LayoutModel",
            "_view_count": null,
            "_view_module": "@jupyter-widgets/base",
            "_view_module_version": "1.2.0",
            "_view_name": "LayoutView",
            "align_content": null,
            "align_items": null,
            "align_self": null,
            "border": null,
            "bottom": null,
            "display": null,
            "flex": null,
            "flex_flow": null,
            "grid_area": null,
            "grid_auto_columns": null,
            "grid_auto_flow": null,
            "grid_auto_rows": null,
            "grid_column": null,
            "grid_gap": null,
            "grid_row": null,
            "grid_template_areas": null,
            "grid_template_columns": null,
            "grid_template_rows": null,
            "height": null,
            "justify_content": null,
            "justify_items": null,
            "left": null,
            "margin": null,
            "max_height": null,
            "max_width": null,
            "min_height": null,
            "min_width": null,
            "object_fit": null,
            "object_position": null,
            "order": null,
            "overflow": null,
            "overflow_x": null,
            "overflow_y": null,
            "padding": null,
            "right": null,
            "top": null,
            "visibility": null,
            "width": null
          }
        },
        "f6af19e908fe420e981d9c969c1cfa7e": {
          "model_module": "@jupyter-widgets/base",
          "model_name": "LayoutModel",
          "model_module_version": "1.2.0",
          "state": {
            "_model_module": "@jupyter-widgets/base",
            "_model_module_version": "1.2.0",
            "_model_name": "LayoutModel",
            "_view_count": null,
            "_view_module": "@jupyter-widgets/base",
            "_view_module_version": "1.2.0",
            "_view_name": "LayoutView",
            "align_content": null,
            "align_items": null,
            "align_self": null,
            "border": null,
            "bottom": null,
            "display": null,
            "flex": null,
            "flex_flow": null,
            "grid_area": null,
            "grid_auto_columns": null,
            "grid_auto_flow": null,
            "grid_auto_rows": null,
            "grid_column": null,
            "grid_gap": null,
            "grid_row": null,
            "grid_template_areas": null,
            "grid_template_columns": null,
            "grid_template_rows": null,
            "height": null,
            "justify_content": null,
            "justify_items": null,
            "left": null,
            "margin": null,
            "max_height": null,
            "max_width": null,
            "min_height": null,
            "min_width": null,
            "object_fit": null,
            "object_position": null,
            "order": null,
            "overflow": null,
            "overflow_x": null,
            "overflow_y": null,
            "padding": null,
            "right": null,
            "top": null,
            "visibility": null,
            "width": null
          }
        },
        "70e6b23a5df948f1a7c31fd6af3524c9": {
          "model_module": "@jupyter-widgets/controls",
          "model_name": "DescriptionStyleModel",
          "model_module_version": "1.5.0",
          "state": {
            "_model_module": "@jupyter-widgets/controls",
            "_model_module_version": "1.5.0",
            "_model_name": "DescriptionStyleModel",
            "_view_count": null,
            "_view_module": "@jupyter-widgets/base",
            "_view_module_version": "1.2.0",
            "_view_name": "StyleView",
            "description_width": ""
          }
        },
        "a3d5939976fc42f6840e7b6602af4e25": {
          "model_module": "@jupyter-widgets/base",
          "model_name": "LayoutModel",
          "model_module_version": "1.2.0",
          "state": {
            "_model_module": "@jupyter-widgets/base",
            "_model_module_version": "1.2.0",
            "_model_name": "LayoutModel",
            "_view_count": null,
            "_view_module": "@jupyter-widgets/base",
            "_view_module_version": "1.2.0",
            "_view_name": "LayoutView",
            "align_content": null,
            "align_items": null,
            "align_self": null,
            "border": null,
            "bottom": null,
            "display": null,
            "flex": null,
            "flex_flow": null,
            "grid_area": null,
            "grid_auto_columns": null,
            "grid_auto_flow": null,
            "grid_auto_rows": null,
            "grid_column": null,
            "grid_gap": null,
            "grid_row": null,
            "grid_template_areas": null,
            "grid_template_columns": null,
            "grid_template_rows": null,
            "height": null,
            "justify_content": null,
            "justify_items": null,
            "left": null,
            "margin": null,
            "max_height": null,
            "max_width": null,
            "min_height": null,
            "min_width": null,
            "object_fit": null,
            "object_position": null,
            "order": null,
            "overflow": null,
            "overflow_x": null,
            "overflow_y": null,
            "padding": null,
            "right": null,
            "top": null,
            "visibility": null,
            "width": null
          }
        },
        "7509bbc5a5be405da80315490def7fd6": {
          "model_module": "@jupyter-widgets/controls",
          "model_name": "ProgressStyleModel",
          "model_module_version": "1.5.0",
          "state": {
            "_model_module": "@jupyter-widgets/controls",
            "_model_module_version": "1.5.0",
            "_model_name": "ProgressStyleModel",
            "_view_count": null,
            "_view_module": "@jupyter-widgets/base",
            "_view_module_version": "1.2.0",
            "_view_name": "StyleView",
            "bar_color": null,
            "description_width": ""
          }
        },
        "faacb82f41e34067abfbb1ed0ebf79e2": {
          "model_module": "@jupyter-widgets/base",
          "model_name": "LayoutModel",
          "model_module_version": "1.2.0",
          "state": {
            "_model_module": "@jupyter-widgets/base",
            "_model_module_version": "1.2.0",
            "_model_name": "LayoutModel",
            "_view_count": null,
            "_view_module": "@jupyter-widgets/base",
            "_view_module_version": "1.2.0",
            "_view_name": "LayoutView",
            "align_content": null,
            "align_items": null,
            "align_self": null,
            "border": null,
            "bottom": null,
            "display": null,
            "flex": null,
            "flex_flow": null,
            "grid_area": null,
            "grid_auto_columns": null,
            "grid_auto_flow": null,
            "grid_auto_rows": null,
            "grid_column": null,
            "grid_gap": null,
            "grid_row": null,
            "grid_template_areas": null,
            "grid_template_columns": null,
            "grid_template_rows": null,
            "height": null,
            "justify_content": null,
            "justify_items": null,
            "left": null,
            "margin": null,
            "max_height": null,
            "max_width": null,
            "min_height": null,
            "min_width": null,
            "object_fit": null,
            "object_position": null,
            "order": null,
            "overflow": null,
            "overflow_x": null,
            "overflow_y": null,
            "padding": null,
            "right": null,
            "top": null,
            "visibility": null,
            "width": null
          }
        },
        "112a365847ca4812891d0a843f33a56f": {
          "model_module": "@jupyter-widgets/controls",
          "model_name": "DescriptionStyleModel",
          "model_module_version": "1.5.0",
          "state": {
            "_model_module": "@jupyter-widgets/controls",
            "_model_module_version": "1.5.0",
            "_model_name": "DescriptionStyleModel",
            "_view_count": null,
            "_view_module": "@jupyter-widgets/base",
            "_view_module_version": "1.2.0",
            "_view_name": "StyleView",
            "description_width": ""
          }
        },
        "904cee1db7a64d099f66afd91414cb72": {
          "model_module": "@jupyter-widgets/controls",
          "model_name": "HBoxModel",
          "model_module_version": "1.5.0",
          "state": {
            "_dom_classes": [],
            "_model_module": "@jupyter-widgets/controls",
            "_model_module_version": "1.5.0",
            "_model_name": "HBoxModel",
            "_view_count": null,
            "_view_module": "@jupyter-widgets/controls",
            "_view_module_version": "1.5.0",
            "_view_name": "HBoxView",
            "box_style": "",
            "children": [
              "IPY_MODEL_2a31738873444612af2594208faa0eef",
              "IPY_MODEL_0ea4e92c7b494ef98ff6b7ec0a096a58",
              "IPY_MODEL_4c4b90afb82d41b2affb7fd1cd850799"
            ],
            "layout": "IPY_MODEL_10c3a3d7fa434f6694367f36ca828576"
          }
        },
        "2a31738873444612af2594208faa0eef": {
          "model_module": "@jupyter-widgets/controls",
          "model_name": "HTMLModel",
          "model_module_version": "1.5.0",
          "state": {
            "_dom_classes": [],
            "_model_module": "@jupyter-widgets/controls",
            "_model_module_version": "1.5.0",
            "_model_name": "HTMLModel",
            "_view_count": null,
            "_view_module": "@jupyter-widgets/controls",
            "_view_module_version": "1.5.0",
            "_view_name": "HTMLView",
            "description": "",
            "description_tooltip": null,
            "layout": "IPY_MODEL_268e5ab940a24bfa8ce9232c13d8ada5",
            "placeholder": "​",
            "style": "IPY_MODEL_6118b45907cf464bbceab6341d6f7437",
            "value": "Create Dictionary: 100%"
          }
        },
        "0ea4e92c7b494ef98ff6b7ec0a096a58": {
          "model_module": "@jupyter-widgets/controls",
          "model_name": "FloatProgressModel",
          "model_module_version": "1.5.0",
          "state": {
            "_dom_classes": [],
            "_model_module": "@jupyter-widgets/controls",
            "_model_module_version": "1.5.0",
            "_model_name": "FloatProgressModel",
            "_view_count": null,
            "_view_module": "@jupyter-widgets/controls",
            "_view_module_version": "1.5.0",
            "_view_name": "ProgressView",
            "bar_style": "success",
            "description": "",
            "description_tooltip": null,
            "layout": "IPY_MODEL_41b8a8a3dd2344ee803e7274d4a9f14c",
            "max": 51606,
            "min": 0,
            "orientation": "horizontal",
            "style": "IPY_MODEL_f6aafde2359440fcb1a54ecb5581978b",
            "value": 51606
          }
        },
        "4c4b90afb82d41b2affb7fd1cd850799": {
          "model_module": "@jupyter-widgets/controls",
          "model_name": "HTMLModel",
          "model_module_version": "1.5.0",
          "state": {
            "_dom_classes": [],
            "_model_module": "@jupyter-widgets/controls",
            "_model_module_version": "1.5.0",
            "_model_name": "HTMLModel",
            "_view_count": null,
            "_view_module": "@jupyter-widgets/controls",
            "_view_module_version": "1.5.0",
            "_view_name": "HTMLView",
            "description": "",
            "description_tooltip": null,
            "layout": "IPY_MODEL_59062592e33a45fc83b0b63418869755",
            "placeholder": "​",
            "style": "IPY_MODEL_43582e4ccea94cde86b0a56e52fa2935",
            "value": " 51606/51606 [00:04&lt;00:00, 10929.71it/s]"
          }
        },
        "10c3a3d7fa434f6694367f36ca828576": {
          "model_module": "@jupyter-widgets/base",
          "model_name": "LayoutModel",
          "model_module_version": "1.2.0",
          "state": {
            "_model_module": "@jupyter-widgets/base",
            "_model_module_version": "1.2.0",
            "_model_name": "LayoutModel",
            "_view_count": null,
            "_view_module": "@jupyter-widgets/base",
            "_view_module_version": "1.2.0",
            "_view_name": "LayoutView",
            "align_content": null,
            "align_items": null,
            "align_self": null,
            "border": null,
            "bottom": null,
            "display": null,
            "flex": null,
            "flex_flow": null,
            "grid_area": null,
            "grid_auto_columns": null,
            "grid_auto_flow": null,
            "grid_auto_rows": null,
            "grid_column": null,
            "grid_gap": null,
            "grid_row": null,
            "grid_template_areas": null,
            "grid_template_columns": null,
            "grid_template_rows": null,
            "height": null,
            "justify_content": null,
            "justify_items": null,
            "left": null,
            "margin": null,
            "max_height": null,
            "max_width": null,
            "min_height": null,
            "min_width": null,
            "object_fit": null,
            "object_position": null,
            "order": null,
            "overflow": null,
            "overflow_x": null,
            "overflow_y": null,
            "padding": null,
            "right": null,
            "top": null,
            "visibility": null,
            "width": null
          }
        },
        "268e5ab940a24bfa8ce9232c13d8ada5": {
          "model_module": "@jupyter-widgets/base",
          "model_name": "LayoutModel",
          "model_module_version": "1.2.0",
          "state": {
            "_model_module": "@jupyter-widgets/base",
            "_model_module_version": "1.2.0",
            "_model_name": "LayoutModel",
            "_view_count": null,
            "_view_module": "@jupyter-widgets/base",
            "_view_module_version": "1.2.0",
            "_view_name": "LayoutView",
            "align_content": null,
            "align_items": null,
            "align_self": null,
            "border": null,
            "bottom": null,
            "display": null,
            "flex": null,
            "flex_flow": null,
            "grid_area": null,
            "grid_auto_columns": null,
            "grid_auto_flow": null,
            "grid_auto_rows": null,
            "grid_column": null,
            "grid_gap": null,
            "grid_row": null,
            "grid_template_areas": null,
            "grid_template_columns": null,
            "grid_template_rows": null,
            "height": null,
            "justify_content": null,
            "justify_items": null,
            "left": null,
            "margin": null,
            "max_height": null,
            "max_width": null,
            "min_height": null,
            "min_width": null,
            "object_fit": null,
            "object_position": null,
            "order": null,
            "overflow": null,
            "overflow_x": null,
            "overflow_y": null,
            "padding": null,
            "right": null,
            "top": null,
            "visibility": null,
            "width": null
          }
        },
        "6118b45907cf464bbceab6341d6f7437": {
          "model_module": "@jupyter-widgets/controls",
          "model_name": "DescriptionStyleModel",
          "model_module_version": "1.5.0",
          "state": {
            "_model_module": "@jupyter-widgets/controls",
            "_model_module_version": "1.5.0",
            "_model_name": "DescriptionStyleModel",
            "_view_count": null,
            "_view_module": "@jupyter-widgets/base",
            "_view_module_version": "1.2.0",
            "_view_name": "StyleView",
            "description_width": ""
          }
        },
        "41b8a8a3dd2344ee803e7274d4a9f14c": {
          "model_module": "@jupyter-widgets/base",
          "model_name": "LayoutModel",
          "model_module_version": "1.2.0",
          "state": {
            "_model_module": "@jupyter-widgets/base",
            "_model_module_version": "1.2.0",
            "_model_name": "LayoutModel",
            "_view_count": null,
            "_view_module": "@jupyter-widgets/base",
            "_view_module_version": "1.2.0",
            "_view_name": "LayoutView",
            "align_content": null,
            "align_items": null,
            "align_self": null,
            "border": null,
            "bottom": null,
            "display": null,
            "flex": null,
            "flex_flow": null,
            "grid_area": null,
            "grid_auto_columns": null,
            "grid_auto_flow": null,
            "grid_auto_rows": null,
            "grid_column": null,
            "grid_gap": null,
            "grid_row": null,
            "grid_template_areas": null,
            "grid_template_columns": null,
            "grid_template_rows": null,
            "height": null,
            "justify_content": null,
            "justify_items": null,
            "left": null,
            "margin": null,
            "max_height": null,
            "max_width": null,
            "min_height": null,
            "min_width": null,
            "object_fit": null,
            "object_position": null,
            "order": null,
            "overflow": null,
            "overflow_x": null,
            "overflow_y": null,
            "padding": null,
            "right": null,
            "top": null,
            "visibility": null,
            "width": null
          }
        },
        "f6aafde2359440fcb1a54ecb5581978b": {
          "model_module": "@jupyter-widgets/controls",
          "model_name": "ProgressStyleModel",
          "model_module_version": "1.5.0",
          "state": {
            "_model_module": "@jupyter-widgets/controls",
            "_model_module_version": "1.5.0",
            "_model_name": "ProgressStyleModel",
            "_view_count": null,
            "_view_module": "@jupyter-widgets/base",
            "_view_module_version": "1.2.0",
            "_view_name": "StyleView",
            "bar_color": null,
            "description_width": ""
          }
        },
        "59062592e33a45fc83b0b63418869755": {
          "model_module": "@jupyter-widgets/base",
          "model_name": "LayoutModel",
          "model_module_version": "1.2.0",
          "state": {
            "_model_module": "@jupyter-widgets/base",
            "_model_module_version": "1.2.0",
            "_model_name": "LayoutModel",
            "_view_count": null,
            "_view_module": "@jupyter-widgets/base",
            "_view_module_version": "1.2.0",
            "_view_name": "LayoutView",
            "align_content": null,
            "align_items": null,
            "align_self": null,
            "border": null,
            "bottom": null,
            "display": null,
            "flex": null,
            "flex_flow": null,
            "grid_area": null,
            "grid_auto_columns": null,
            "grid_auto_flow": null,
            "grid_auto_rows": null,
            "grid_column": null,
            "grid_gap": null,
            "grid_row": null,
            "grid_template_areas": null,
            "grid_template_columns": null,
            "grid_template_rows": null,
            "height": null,
            "justify_content": null,
            "justify_items": null,
            "left": null,
            "margin": null,
            "max_height": null,
            "max_width": null,
            "min_height": null,
            "min_width": null,
            "object_fit": null,
            "object_position": null,
            "order": null,
            "overflow": null,
            "overflow_x": null,
            "overflow_y": null,
            "padding": null,
            "right": null,
            "top": null,
            "visibility": null,
            "width": null
          }
        },
        "43582e4ccea94cde86b0a56e52fa2935": {
          "model_module": "@jupyter-widgets/controls",
          "model_name": "DescriptionStyleModel",
          "model_module_version": "1.5.0",
          "state": {
            "_model_module": "@jupyter-widgets/controls",
            "_model_module_version": "1.5.0",
            "_model_name": "DescriptionStyleModel",
            "_view_count": null,
            "_view_module": "@jupyter-widgets/base",
            "_view_module_version": "1.2.0",
            "_view_name": "StyleView",
            "description_width": ""
          }
        },
        "0d2c4329bdb54187becb83d09e56067f": {
          "model_module": "@jupyter-widgets/controls",
          "model_name": "HBoxModel",
          "model_module_version": "1.5.0",
          "state": {
            "_dom_classes": [],
            "_model_module": "@jupyter-widgets/controls",
            "_model_module_version": "1.5.0",
            "_model_name": "HBoxModel",
            "_view_count": null,
            "_view_module": "@jupyter-widgets/controls",
            "_view_module_version": "1.5.0",
            "_view_name": "HBoxView",
            "box_style": "",
            "children": [
              "IPY_MODEL_b852d6d51f5341f6801a97c47f26ac8e",
              "IPY_MODEL_a3557ac5505b43979428e2a0f46c09c7",
              "IPY_MODEL_0c84b93ce25d4a288e18c422e938fbdc"
            ],
            "layout": "IPY_MODEL_45fdc5fe07f448689a9440b3a32e5b86"
          }
        },
        "b852d6d51f5341f6801a97c47f26ac8e": {
          "model_module": "@jupyter-widgets/controls",
          "model_name": "HTMLModel",
          "model_module_version": "1.5.0",
          "state": {
            "_dom_classes": [],
            "_model_module": "@jupyter-widgets/controls",
            "_model_module_version": "1.5.0",
            "_model_name": "HTMLModel",
            "_view_count": null,
            "_view_module": "@jupyter-widgets/controls",
            "_view_module_version": "1.5.0",
            "_view_name": "HTMLView",
            "description": "",
            "description_tooltip": null,
            "layout": "IPY_MODEL_b6c753c946d1401a9df805bd2af305c3",
            "placeholder": "​",
            "style": "IPY_MODEL_25eadce57a014604b60028d146746471",
            "value": "Update Probabilities: 100%"
          }
        },
        "a3557ac5505b43979428e2a0f46c09c7": {
          "model_module": "@jupyter-widgets/controls",
          "model_name": "FloatProgressModel",
          "model_module_version": "1.5.0",
          "state": {
            "_dom_classes": [],
            "_model_module": "@jupyter-widgets/controls",
            "_model_module_version": "1.5.0",
            "_model_name": "FloatProgressModel",
            "_view_count": null,
            "_view_module": "@jupyter-widgets/controls",
            "_view_module_version": "1.5.0",
            "_view_name": "ProgressView",
            "bar_style": "success",
            "description": "",
            "description_tooltip": null,
            "layout": "IPY_MODEL_d22f252c1ffa4af8bc9c3595314cafae",
            "max": 401819,
            "min": 0,
            "orientation": "horizontal",
            "style": "IPY_MODEL_f45d7b732ad04ba1af3ae8346243ef56",
            "value": 401819
          }
        },
        "0c84b93ce25d4a288e18c422e938fbdc": {
          "model_module": "@jupyter-widgets/controls",
          "model_name": "HTMLModel",
          "model_module_version": "1.5.0",
          "state": {
            "_dom_classes": [],
            "_model_module": "@jupyter-widgets/controls",
            "_model_module_version": "1.5.0",
            "_model_name": "HTMLModel",
            "_view_count": null,
            "_view_module": "@jupyter-widgets/controls",
            "_view_module_version": "1.5.0",
            "_view_name": "HTMLView",
            "description": "",
            "description_tooltip": null,
            "layout": "IPY_MODEL_06193a90e1ef4adba025708c648acb13",
            "placeholder": "​",
            "style": "IPY_MODEL_972deafe8b96430f97777a2c88134e7a",
            "value": " 401819/401819 [00:01&lt;00:00, 385099.83it/s]"
          }
        },
        "45fdc5fe07f448689a9440b3a32e5b86": {
          "model_module": "@jupyter-widgets/base",
          "model_name": "LayoutModel",
          "model_module_version": "1.2.0",
          "state": {
            "_model_module": "@jupyter-widgets/base",
            "_model_module_version": "1.2.0",
            "_model_name": "LayoutModel",
            "_view_count": null,
            "_view_module": "@jupyter-widgets/base",
            "_view_module_version": "1.2.0",
            "_view_name": "LayoutView",
            "align_content": null,
            "align_items": null,
            "align_self": null,
            "border": null,
            "bottom": null,
            "display": null,
            "flex": null,
            "flex_flow": null,
            "grid_area": null,
            "grid_auto_columns": null,
            "grid_auto_flow": null,
            "grid_auto_rows": null,
            "grid_column": null,
            "grid_gap": null,
            "grid_row": null,
            "grid_template_areas": null,
            "grid_template_columns": null,
            "grid_template_rows": null,
            "height": null,
            "justify_content": null,
            "justify_items": null,
            "left": null,
            "margin": null,
            "max_height": null,
            "max_width": null,
            "min_height": null,
            "min_width": null,
            "object_fit": null,
            "object_position": null,
            "order": null,
            "overflow": null,
            "overflow_x": null,
            "overflow_y": null,
            "padding": null,
            "right": null,
            "top": null,
            "visibility": null,
            "width": null
          }
        },
        "b6c753c946d1401a9df805bd2af305c3": {
          "model_module": "@jupyter-widgets/base",
          "model_name": "LayoutModel",
          "model_module_version": "1.2.0",
          "state": {
            "_model_module": "@jupyter-widgets/base",
            "_model_module_version": "1.2.0",
            "_model_name": "LayoutModel",
            "_view_count": null,
            "_view_module": "@jupyter-widgets/base",
            "_view_module_version": "1.2.0",
            "_view_name": "LayoutView",
            "align_content": null,
            "align_items": null,
            "align_self": null,
            "border": null,
            "bottom": null,
            "display": null,
            "flex": null,
            "flex_flow": null,
            "grid_area": null,
            "grid_auto_columns": null,
            "grid_auto_flow": null,
            "grid_auto_rows": null,
            "grid_column": null,
            "grid_gap": null,
            "grid_row": null,
            "grid_template_areas": null,
            "grid_template_columns": null,
            "grid_template_rows": null,
            "height": null,
            "justify_content": null,
            "justify_items": null,
            "left": null,
            "margin": null,
            "max_height": null,
            "max_width": null,
            "min_height": null,
            "min_width": null,
            "object_fit": null,
            "object_position": null,
            "order": null,
            "overflow": null,
            "overflow_x": null,
            "overflow_y": null,
            "padding": null,
            "right": null,
            "top": null,
            "visibility": null,
            "width": null
          }
        },
        "25eadce57a014604b60028d146746471": {
          "model_module": "@jupyter-widgets/controls",
          "model_name": "DescriptionStyleModel",
          "model_module_version": "1.5.0",
          "state": {
            "_model_module": "@jupyter-widgets/controls",
            "_model_module_version": "1.5.0",
            "_model_name": "DescriptionStyleModel",
            "_view_count": null,
            "_view_module": "@jupyter-widgets/base",
            "_view_module_version": "1.2.0",
            "_view_name": "StyleView",
            "description_width": ""
          }
        },
        "d22f252c1ffa4af8bc9c3595314cafae": {
          "model_module": "@jupyter-widgets/base",
          "model_name": "LayoutModel",
          "model_module_version": "1.2.0",
          "state": {
            "_model_module": "@jupyter-widgets/base",
            "_model_module_version": "1.2.0",
            "_model_name": "LayoutModel",
            "_view_count": null,
            "_view_module": "@jupyter-widgets/base",
            "_view_module_version": "1.2.0",
            "_view_name": "LayoutView",
            "align_content": null,
            "align_items": null,
            "align_self": null,
            "border": null,
            "bottom": null,
            "display": null,
            "flex": null,
            "flex_flow": null,
            "grid_area": null,
            "grid_auto_columns": null,
            "grid_auto_flow": null,
            "grid_auto_rows": null,
            "grid_column": null,
            "grid_gap": null,
            "grid_row": null,
            "grid_template_areas": null,
            "grid_template_columns": null,
            "grid_template_rows": null,
            "height": null,
            "justify_content": null,
            "justify_items": null,
            "left": null,
            "margin": null,
            "max_height": null,
            "max_width": null,
            "min_height": null,
            "min_width": null,
            "object_fit": null,
            "object_position": null,
            "order": null,
            "overflow": null,
            "overflow_x": null,
            "overflow_y": null,
            "padding": null,
            "right": null,
            "top": null,
            "visibility": null,
            "width": null
          }
        },
        "f45d7b732ad04ba1af3ae8346243ef56": {
          "model_module": "@jupyter-widgets/controls",
          "model_name": "ProgressStyleModel",
          "model_module_version": "1.5.0",
          "state": {
            "_model_module": "@jupyter-widgets/controls",
            "_model_module_version": "1.5.0",
            "_model_name": "ProgressStyleModel",
            "_view_count": null,
            "_view_module": "@jupyter-widgets/base",
            "_view_module_version": "1.2.0",
            "_view_name": "StyleView",
            "bar_color": null,
            "description_width": ""
          }
        },
        "06193a90e1ef4adba025708c648acb13": {
          "model_module": "@jupyter-widgets/base",
          "model_name": "LayoutModel",
          "model_module_version": "1.2.0",
          "state": {
            "_model_module": "@jupyter-widgets/base",
            "_model_module_version": "1.2.0",
            "_model_name": "LayoutModel",
            "_view_count": null,
            "_view_module": "@jupyter-widgets/base",
            "_view_module_version": "1.2.0",
            "_view_name": "LayoutView",
            "align_content": null,
            "align_items": null,
            "align_self": null,
            "border": null,
            "bottom": null,
            "display": null,
            "flex": null,
            "flex_flow": null,
            "grid_area": null,
            "grid_auto_columns": null,
            "grid_auto_flow": null,
            "grid_auto_rows": null,
            "grid_column": null,
            "grid_gap": null,
            "grid_row": null,
            "grid_template_areas": null,
            "grid_template_columns": null,
            "grid_template_rows": null,
            "height": null,
            "justify_content": null,
            "justify_items": null,
            "left": null,
            "margin": null,
            "max_height": null,
            "max_width": null,
            "min_height": null,
            "min_width": null,
            "object_fit": null,
            "object_position": null,
            "order": null,
            "overflow": null,
            "overflow_x": null,
            "overflow_y": null,
            "padding": null,
            "right": null,
            "top": null,
            "visibility": null,
            "width": null
          }
        },
        "972deafe8b96430f97777a2c88134e7a": {
          "model_module": "@jupyter-widgets/controls",
          "model_name": "DescriptionStyleModel",
          "model_module_version": "1.5.0",
          "state": {
            "_model_module": "@jupyter-widgets/controls",
            "_model_module_version": "1.5.0",
            "_model_name": "DescriptionStyleModel",
            "_view_count": null,
            "_view_module": "@jupyter-widgets/base",
            "_view_module_version": "1.2.0",
            "_view_name": "StyleView",
            "description_width": ""
          }
        },
        "5a221a085ee94cdd8f141133bd79b996": {
          "model_module": "@jupyter-widgets/controls",
          "model_name": "HBoxModel",
          "model_module_version": "1.5.0",
          "state": {
            "_dom_classes": [],
            "_model_module": "@jupyter-widgets/controls",
            "_model_module_version": "1.5.0",
            "_model_name": "HBoxModel",
            "_view_count": null,
            "_view_module": "@jupyter-widgets/controls",
            "_view_module_version": "1.5.0",
            "_view_name": "HBoxView",
            "box_style": "",
            "children": [
              "IPY_MODEL_70bfa7bea92b4b6ebb77f2f64ad8b799",
              "IPY_MODEL_873c080b5a7d49b2bfc68b2cbd410325",
              "IPY_MODEL_29bfa4d4cad74559bda51640de37eb72"
            ],
            "layout": "IPY_MODEL_b63410e169dd42f9a0dd642162e3a3c0"
          }
        },
        "70bfa7bea92b4b6ebb77f2f64ad8b799": {
          "model_module": "@jupyter-widgets/controls",
          "model_name": "HTMLModel",
          "model_module_version": "1.5.0",
          "state": {
            "_dom_classes": [],
            "_model_module": "@jupyter-widgets/controls",
            "_model_module_version": "1.5.0",
            "_model_name": "HTMLModel",
            "_view_count": null,
            "_view_module": "@jupyter-widgets/controls",
            "_view_module_version": "1.5.0",
            "_view_name": "HTMLView",
            "description": "",
            "description_tooltip": null,
            "layout": "IPY_MODEL_291936fea4914b39af7afdfb58ad9e7e",
            "placeholder": "​",
            "style": "IPY_MODEL_fb644df535994b92902e063084f6cab1",
            "value": "Create Dictionary: 100%"
          }
        },
        "873c080b5a7d49b2bfc68b2cbd410325": {
          "model_module": "@jupyter-widgets/controls",
          "model_name": "FloatProgressModel",
          "model_module_version": "1.5.0",
          "state": {
            "_dom_classes": [],
            "_model_module": "@jupyter-widgets/controls",
            "_model_module_version": "1.5.0",
            "_model_name": "FloatProgressModel",
            "_view_count": null,
            "_view_module": "@jupyter-widgets/controls",
            "_view_module_version": "1.5.0",
            "_view_name": "ProgressView",
            "bar_style": "success",
            "description": "",
            "description_tooltip": null,
            "layout": "IPY_MODEL_c481d2da3e7b4400a9d716c7ebcb8883",
            "max": 49244,
            "min": 0,
            "orientation": "horizontal",
            "style": "IPY_MODEL_cbc606b6cdf74dcda7fecd4d800955e4",
            "value": 49244
          }
        },
        "29bfa4d4cad74559bda51640de37eb72": {
          "model_module": "@jupyter-widgets/controls",
          "model_name": "HTMLModel",
          "model_module_version": "1.5.0",
          "state": {
            "_dom_classes": [],
            "_model_module": "@jupyter-widgets/controls",
            "_model_module_version": "1.5.0",
            "_model_name": "HTMLModel",
            "_view_count": null,
            "_view_module": "@jupyter-widgets/controls",
            "_view_module_version": "1.5.0",
            "_view_name": "HTMLView",
            "description": "",
            "description_tooltip": null,
            "layout": "IPY_MODEL_0101b52ce32e4a37932866a0f81b0cb6",
            "placeholder": "​",
            "style": "IPY_MODEL_2b7cbb0937d843aeb271beffd073946c",
            "value": " 49244/49244 [00:04&lt;00:00, 13660.85it/s]"
          }
        },
        "b63410e169dd42f9a0dd642162e3a3c0": {
          "model_module": "@jupyter-widgets/base",
          "model_name": "LayoutModel",
          "model_module_version": "1.2.0",
          "state": {
            "_model_module": "@jupyter-widgets/base",
            "_model_module_version": "1.2.0",
            "_model_name": "LayoutModel",
            "_view_count": null,
            "_view_module": "@jupyter-widgets/base",
            "_view_module_version": "1.2.0",
            "_view_name": "LayoutView",
            "align_content": null,
            "align_items": null,
            "align_self": null,
            "border": null,
            "bottom": null,
            "display": null,
            "flex": null,
            "flex_flow": null,
            "grid_area": null,
            "grid_auto_columns": null,
            "grid_auto_flow": null,
            "grid_auto_rows": null,
            "grid_column": null,
            "grid_gap": null,
            "grid_row": null,
            "grid_template_areas": null,
            "grid_template_columns": null,
            "grid_template_rows": null,
            "height": null,
            "justify_content": null,
            "justify_items": null,
            "left": null,
            "margin": null,
            "max_height": null,
            "max_width": null,
            "min_height": null,
            "min_width": null,
            "object_fit": null,
            "object_position": null,
            "order": null,
            "overflow": null,
            "overflow_x": null,
            "overflow_y": null,
            "padding": null,
            "right": null,
            "top": null,
            "visibility": null,
            "width": null
          }
        },
        "291936fea4914b39af7afdfb58ad9e7e": {
          "model_module": "@jupyter-widgets/base",
          "model_name": "LayoutModel",
          "model_module_version": "1.2.0",
          "state": {
            "_model_module": "@jupyter-widgets/base",
            "_model_module_version": "1.2.0",
            "_model_name": "LayoutModel",
            "_view_count": null,
            "_view_module": "@jupyter-widgets/base",
            "_view_module_version": "1.2.0",
            "_view_name": "LayoutView",
            "align_content": null,
            "align_items": null,
            "align_self": null,
            "border": null,
            "bottom": null,
            "display": null,
            "flex": null,
            "flex_flow": null,
            "grid_area": null,
            "grid_auto_columns": null,
            "grid_auto_flow": null,
            "grid_auto_rows": null,
            "grid_column": null,
            "grid_gap": null,
            "grid_row": null,
            "grid_template_areas": null,
            "grid_template_columns": null,
            "grid_template_rows": null,
            "height": null,
            "justify_content": null,
            "justify_items": null,
            "left": null,
            "margin": null,
            "max_height": null,
            "max_width": null,
            "min_height": null,
            "min_width": null,
            "object_fit": null,
            "object_position": null,
            "order": null,
            "overflow": null,
            "overflow_x": null,
            "overflow_y": null,
            "padding": null,
            "right": null,
            "top": null,
            "visibility": null,
            "width": null
          }
        },
        "fb644df535994b92902e063084f6cab1": {
          "model_module": "@jupyter-widgets/controls",
          "model_name": "DescriptionStyleModel",
          "model_module_version": "1.5.0",
          "state": {
            "_model_module": "@jupyter-widgets/controls",
            "_model_module_version": "1.5.0",
            "_model_name": "DescriptionStyleModel",
            "_view_count": null,
            "_view_module": "@jupyter-widgets/base",
            "_view_module_version": "1.2.0",
            "_view_name": "StyleView",
            "description_width": ""
          }
        },
        "c481d2da3e7b4400a9d716c7ebcb8883": {
          "model_module": "@jupyter-widgets/base",
          "model_name": "LayoutModel",
          "model_module_version": "1.2.0",
          "state": {
            "_model_module": "@jupyter-widgets/base",
            "_model_module_version": "1.2.0",
            "_model_name": "LayoutModel",
            "_view_count": null,
            "_view_module": "@jupyter-widgets/base",
            "_view_module_version": "1.2.0",
            "_view_name": "LayoutView",
            "align_content": null,
            "align_items": null,
            "align_self": null,
            "border": null,
            "bottom": null,
            "display": null,
            "flex": null,
            "flex_flow": null,
            "grid_area": null,
            "grid_auto_columns": null,
            "grid_auto_flow": null,
            "grid_auto_rows": null,
            "grid_column": null,
            "grid_gap": null,
            "grid_row": null,
            "grid_template_areas": null,
            "grid_template_columns": null,
            "grid_template_rows": null,
            "height": null,
            "justify_content": null,
            "justify_items": null,
            "left": null,
            "margin": null,
            "max_height": null,
            "max_width": null,
            "min_height": null,
            "min_width": null,
            "object_fit": null,
            "object_position": null,
            "order": null,
            "overflow": null,
            "overflow_x": null,
            "overflow_y": null,
            "padding": null,
            "right": null,
            "top": null,
            "visibility": null,
            "width": null
          }
        },
        "cbc606b6cdf74dcda7fecd4d800955e4": {
          "model_module": "@jupyter-widgets/controls",
          "model_name": "ProgressStyleModel",
          "model_module_version": "1.5.0",
          "state": {
            "_model_module": "@jupyter-widgets/controls",
            "_model_module_version": "1.5.0",
            "_model_name": "ProgressStyleModel",
            "_view_count": null,
            "_view_module": "@jupyter-widgets/base",
            "_view_module_version": "1.2.0",
            "_view_name": "StyleView",
            "bar_color": null,
            "description_width": ""
          }
        },
        "0101b52ce32e4a37932866a0f81b0cb6": {
          "model_module": "@jupyter-widgets/base",
          "model_name": "LayoutModel",
          "model_module_version": "1.2.0",
          "state": {
            "_model_module": "@jupyter-widgets/base",
            "_model_module_version": "1.2.0",
            "_model_name": "LayoutModel",
            "_view_count": null,
            "_view_module": "@jupyter-widgets/base",
            "_view_module_version": "1.2.0",
            "_view_name": "LayoutView",
            "align_content": null,
            "align_items": null,
            "align_self": null,
            "border": null,
            "bottom": null,
            "display": null,
            "flex": null,
            "flex_flow": null,
            "grid_area": null,
            "grid_auto_columns": null,
            "grid_auto_flow": null,
            "grid_auto_rows": null,
            "grid_column": null,
            "grid_gap": null,
            "grid_row": null,
            "grid_template_areas": null,
            "grid_template_columns": null,
            "grid_template_rows": null,
            "height": null,
            "justify_content": null,
            "justify_items": null,
            "left": null,
            "margin": null,
            "max_height": null,
            "max_width": null,
            "min_height": null,
            "min_width": null,
            "object_fit": null,
            "object_position": null,
            "order": null,
            "overflow": null,
            "overflow_x": null,
            "overflow_y": null,
            "padding": null,
            "right": null,
            "top": null,
            "visibility": null,
            "width": null
          }
        },
        "2b7cbb0937d843aeb271beffd073946c": {
          "model_module": "@jupyter-widgets/controls",
          "model_name": "DescriptionStyleModel",
          "model_module_version": "1.5.0",
          "state": {
            "_model_module": "@jupyter-widgets/controls",
            "_model_module_version": "1.5.0",
            "_model_name": "DescriptionStyleModel",
            "_view_count": null,
            "_view_module": "@jupyter-widgets/base",
            "_view_module_version": "1.2.0",
            "_view_name": "StyleView",
            "description_width": ""
          }
        },
        "a2ca78a1fe9f4c86b94f6056b4c33ab3": {
          "model_module": "@jupyter-widgets/controls",
          "model_name": "HBoxModel",
          "model_module_version": "1.5.0",
          "state": {
            "_dom_classes": [],
            "_model_module": "@jupyter-widgets/controls",
            "_model_module_version": "1.5.0",
            "_model_name": "HBoxModel",
            "_view_count": null,
            "_view_module": "@jupyter-widgets/controls",
            "_view_module_version": "1.5.0",
            "_view_name": "HBoxView",
            "box_style": "",
            "children": [
              "IPY_MODEL_41cdfa447b724ff9ad71ae5294b025a4",
              "IPY_MODEL_2c59b2b83b354508ba9e3a3bec5f31d0",
              "IPY_MODEL_3615326aa2224e2aae593f2e03ea83e5"
            ],
            "layout": "IPY_MODEL_49e87f53ec7646efb1fe1aeb87c23439"
          }
        },
        "41cdfa447b724ff9ad71ae5294b025a4": {
          "model_module": "@jupyter-widgets/controls",
          "model_name": "HTMLModel",
          "model_module_version": "1.5.0",
          "state": {
            "_dom_classes": [],
            "_model_module": "@jupyter-widgets/controls",
            "_model_module_version": "1.5.0",
            "_model_name": "HTMLModel",
            "_view_count": null,
            "_view_module": "@jupyter-widgets/controls",
            "_view_module_version": "1.5.0",
            "_view_name": "HTMLView",
            "description": "",
            "description_tooltip": null,
            "layout": "IPY_MODEL_793cddc117d44f5caa3ee023555140ff",
            "placeholder": "​",
            "style": "IPY_MODEL_77d176f9b36043138605fbf084143d52",
            "value": "Update Probabilities: 100%"
          }
        },
        "2c59b2b83b354508ba9e3a3bec5f31d0": {
          "model_module": "@jupyter-widgets/controls",
          "model_name": "FloatProgressModel",
          "model_module_version": "1.5.0",
          "state": {
            "_dom_classes": [],
            "_model_module": "@jupyter-widgets/controls",
            "_model_module_version": "1.5.0",
            "_model_name": "FloatProgressModel",
            "_view_count": null,
            "_view_module": "@jupyter-widgets/controls",
            "_view_module_version": "1.5.0",
            "_view_name": "ProgressView",
            "bar_style": "success",
            "description": "",
            "description_tooltip": null,
            "layout": "IPY_MODEL_1b4e838d1837450c8ce68698951ab0fa",
            "max": 342862,
            "min": 0,
            "orientation": "horizontal",
            "style": "IPY_MODEL_e714b5aa20984334879156350aa3ea7a",
            "value": 342862
          }
        },
        "3615326aa2224e2aae593f2e03ea83e5": {
          "model_module": "@jupyter-widgets/controls",
          "model_name": "HTMLModel",
          "model_module_version": "1.5.0",
          "state": {
            "_dom_classes": [],
            "_model_module": "@jupyter-widgets/controls",
            "_model_module_version": "1.5.0",
            "_model_name": "HTMLModel",
            "_view_count": null,
            "_view_module": "@jupyter-widgets/controls",
            "_view_module_version": "1.5.0",
            "_view_name": "HTMLView",
            "description": "",
            "description_tooltip": null,
            "layout": "IPY_MODEL_784fc217466942e28c364855e433c297",
            "placeholder": "​",
            "style": "IPY_MODEL_9574b2b4e430486394bf48ec93b9fa96",
            "value": " 342862/342862 [00:00&lt;00:00, 545463.27it/s]"
          }
        },
        "49e87f53ec7646efb1fe1aeb87c23439": {
          "model_module": "@jupyter-widgets/base",
          "model_name": "LayoutModel",
          "model_module_version": "1.2.0",
          "state": {
            "_model_module": "@jupyter-widgets/base",
            "_model_module_version": "1.2.0",
            "_model_name": "LayoutModel",
            "_view_count": null,
            "_view_module": "@jupyter-widgets/base",
            "_view_module_version": "1.2.0",
            "_view_name": "LayoutView",
            "align_content": null,
            "align_items": null,
            "align_self": null,
            "border": null,
            "bottom": null,
            "display": null,
            "flex": null,
            "flex_flow": null,
            "grid_area": null,
            "grid_auto_columns": null,
            "grid_auto_flow": null,
            "grid_auto_rows": null,
            "grid_column": null,
            "grid_gap": null,
            "grid_row": null,
            "grid_template_areas": null,
            "grid_template_columns": null,
            "grid_template_rows": null,
            "height": null,
            "justify_content": null,
            "justify_items": null,
            "left": null,
            "margin": null,
            "max_height": null,
            "max_width": null,
            "min_height": null,
            "min_width": null,
            "object_fit": null,
            "object_position": null,
            "order": null,
            "overflow": null,
            "overflow_x": null,
            "overflow_y": null,
            "padding": null,
            "right": null,
            "top": null,
            "visibility": null,
            "width": null
          }
        },
        "793cddc117d44f5caa3ee023555140ff": {
          "model_module": "@jupyter-widgets/base",
          "model_name": "LayoutModel",
          "model_module_version": "1.2.0",
          "state": {
            "_model_module": "@jupyter-widgets/base",
            "_model_module_version": "1.2.0",
            "_model_name": "LayoutModel",
            "_view_count": null,
            "_view_module": "@jupyter-widgets/base",
            "_view_module_version": "1.2.0",
            "_view_name": "LayoutView",
            "align_content": null,
            "align_items": null,
            "align_self": null,
            "border": null,
            "bottom": null,
            "display": null,
            "flex": null,
            "flex_flow": null,
            "grid_area": null,
            "grid_auto_columns": null,
            "grid_auto_flow": null,
            "grid_auto_rows": null,
            "grid_column": null,
            "grid_gap": null,
            "grid_row": null,
            "grid_template_areas": null,
            "grid_template_columns": null,
            "grid_template_rows": null,
            "height": null,
            "justify_content": null,
            "justify_items": null,
            "left": null,
            "margin": null,
            "max_height": null,
            "max_width": null,
            "min_height": null,
            "min_width": null,
            "object_fit": null,
            "object_position": null,
            "order": null,
            "overflow": null,
            "overflow_x": null,
            "overflow_y": null,
            "padding": null,
            "right": null,
            "top": null,
            "visibility": null,
            "width": null
          }
        },
        "77d176f9b36043138605fbf084143d52": {
          "model_module": "@jupyter-widgets/controls",
          "model_name": "DescriptionStyleModel",
          "model_module_version": "1.5.0",
          "state": {
            "_model_module": "@jupyter-widgets/controls",
            "_model_module_version": "1.5.0",
            "_model_name": "DescriptionStyleModel",
            "_view_count": null,
            "_view_module": "@jupyter-widgets/base",
            "_view_module_version": "1.2.0",
            "_view_name": "StyleView",
            "description_width": ""
          }
        },
        "1b4e838d1837450c8ce68698951ab0fa": {
          "model_module": "@jupyter-widgets/base",
          "model_name": "LayoutModel",
          "model_module_version": "1.2.0",
          "state": {
            "_model_module": "@jupyter-widgets/base",
            "_model_module_version": "1.2.0",
            "_model_name": "LayoutModel",
            "_view_count": null,
            "_view_module": "@jupyter-widgets/base",
            "_view_module_version": "1.2.0",
            "_view_name": "LayoutView",
            "align_content": null,
            "align_items": null,
            "align_self": null,
            "border": null,
            "bottom": null,
            "display": null,
            "flex": null,
            "flex_flow": null,
            "grid_area": null,
            "grid_auto_columns": null,
            "grid_auto_flow": null,
            "grid_auto_rows": null,
            "grid_column": null,
            "grid_gap": null,
            "grid_row": null,
            "grid_template_areas": null,
            "grid_template_columns": null,
            "grid_template_rows": null,
            "height": null,
            "justify_content": null,
            "justify_items": null,
            "left": null,
            "margin": null,
            "max_height": null,
            "max_width": null,
            "min_height": null,
            "min_width": null,
            "object_fit": null,
            "object_position": null,
            "order": null,
            "overflow": null,
            "overflow_x": null,
            "overflow_y": null,
            "padding": null,
            "right": null,
            "top": null,
            "visibility": null,
            "width": null
          }
        },
        "e714b5aa20984334879156350aa3ea7a": {
          "model_module": "@jupyter-widgets/controls",
          "model_name": "ProgressStyleModel",
          "model_module_version": "1.5.0",
          "state": {
            "_model_module": "@jupyter-widgets/controls",
            "_model_module_version": "1.5.0",
            "_model_name": "ProgressStyleModel",
            "_view_count": null,
            "_view_module": "@jupyter-widgets/base",
            "_view_module_version": "1.2.0",
            "_view_name": "StyleView",
            "bar_color": null,
            "description_width": ""
          }
        },
        "784fc217466942e28c364855e433c297": {
          "model_module": "@jupyter-widgets/base",
          "model_name": "LayoutModel",
          "model_module_version": "1.2.0",
          "state": {
            "_model_module": "@jupyter-widgets/base",
            "_model_module_version": "1.2.0",
            "_model_name": "LayoutModel",
            "_view_count": null,
            "_view_module": "@jupyter-widgets/base",
            "_view_module_version": "1.2.0",
            "_view_name": "LayoutView",
            "align_content": null,
            "align_items": null,
            "align_self": null,
            "border": null,
            "bottom": null,
            "display": null,
            "flex": null,
            "flex_flow": null,
            "grid_area": null,
            "grid_auto_columns": null,
            "grid_auto_flow": null,
            "grid_auto_rows": null,
            "grid_column": null,
            "grid_gap": null,
            "grid_row": null,
            "grid_template_areas": null,
            "grid_template_columns": null,
            "grid_template_rows": null,
            "height": null,
            "justify_content": null,
            "justify_items": null,
            "left": null,
            "margin": null,
            "max_height": null,
            "max_width": null,
            "min_height": null,
            "min_width": null,
            "object_fit": null,
            "object_position": null,
            "order": null,
            "overflow": null,
            "overflow_x": null,
            "overflow_y": null,
            "padding": null,
            "right": null,
            "top": null,
            "visibility": null,
            "width": null
          }
        },
        "9574b2b4e430486394bf48ec93b9fa96": {
          "model_module": "@jupyter-widgets/controls",
          "model_name": "DescriptionStyleModel",
          "model_module_version": "1.5.0",
          "state": {
            "_model_module": "@jupyter-widgets/controls",
            "_model_module_version": "1.5.0",
            "_model_name": "DescriptionStyleModel",
            "_view_count": null,
            "_view_module": "@jupyter-widgets/base",
            "_view_module_version": "1.2.0",
            "_view_name": "StyleView",
            "description_width": ""
          }
        },
        "3a5cc3fd2e7549ce8d5c66a7f7ad0b35": {
          "model_module": "@jupyter-widgets/controls",
          "model_name": "HBoxModel",
          "model_module_version": "1.5.0",
          "state": {
            "_dom_classes": [],
            "_model_module": "@jupyter-widgets/controls",
            "_model_module_version": "1.5.0",
            "_model_name": "HBoxModel",
            "_view_count": null,
            "_view_module": "@jupyter-widgets/controls",
            "_view_module_version": "1.5.0",
            "_view_name": "HBoxView",
            "box_style": "",
            "children": [
              "IPY_MODEL_cea3e4664f484e2898a33ccf0be2e0ca",
              "IPY_MODEL_d038f6aac51c45a0b3e6909296699860",
              "IPY_MODEL_585a45c377944f338c844cee51e4123b"
            ],
            "layout": "IPY_MODEL_a74d00479fa84dd8a0dab5de5d1e28b5"
          }
        },
        "cea3e4664f484e2898a33ccf0be2e0ca": {
          "model_module": "@jupyter-widgets/controls",
          "model_name": "HTMLModel",
          "model_module_version": "1.5.0",
          "state": {
            "_dom_classes": [],
            "_model_module": "@jupyter-widgets/controls",
            "_model_module_version": "1.5.0",
            "_model_name": "HTMLModel",
            "_view_count": null,
            "_view_module": "@jupyter-widgets/controls",
            "_view_module_version": "1.5.0",
            "_view_name": "HTMLView",
            "description": "",
            "description_tooltip": null,
            "layout": "IPY_MODEL_eed0186f44a946f28c388f4a3cb375e9",
            "placeholder": "​",
            "style": "IPY_MODEL_552f206442264ae082eda2e83b2419db",
            "value": "100%"
          }
        },
        "d038f6aac51c45a0b3e6909296699860": {
          "model_module": "@jupyter-widgets/controls",
          "model_name": "FloatProgressModel",
          "model_module_version": "1.5.0",
          "state": {
            "_dom_classes": [],
            "_model_module": "@jupyter-widgets/controls",
            "_model_module_version": "1.5.0",
            "_model_name": "FloatProgressModel",
            "_view_count": null,
            "_view_module": "@jupyter-widgets/controls",
            "_view_module_version": "1.5.0",
            "_view_name": "ProgressView",
            "bar_style": "success",
            "description": "",
            "description_tooltip": null,
            "layout": "IPY_MODEL_68682a5bdb13488486dca2b0eb03b43b",
            "max": 11206,
            "min": 0,
            "orientation": "horizontal",
            "style": "IPY_MODEL_0ad13e2ff6ff452db17b30d184f6f3f5",
            "value": 11206
          }
        },
        "585a45c377944f338c844cee51e4123b": {
          "model_module": "@jupyter-widgets/controls",
          "model_name": "HTMLModel",
          "model_module_version": "1.5.0",
          "state": {
            "_dom_classes": [],
            "_model_module": "@jupyter-widgets/controls",
            "_model_module_version": "1.5.0",
            "_model_name": "HTMLModel",
            "_view_count": null,
            "_view_module": "@jupyter-widgets/controls",
            "_view_module_version": "1.5.0",
            "_view_name": "HTMLView",
            "description": "",
            "description_tooltip": null,
            "layout": "IPY_MODEL_aabd32ecad854f498999ee94d2cd8c39",
            "placeholder": "​",
            "style": "IPY_MODEL_5132fec8f3df46ee9b7b76dc94dc2585",
            "value": " 11206/11206 [00:03&lt;00:00, 3926.97it/s]"
          }
        },
        "a74d00479fa84dd8a0dab5de5d1e28b5": {
          "model_module": "@jupyter-widgets/base",
          "model_name": "LayoutModel",
          "model_module_version": "1.2.0",
          "state": {
            "_model_module": "@jupyter-widgets/base",
            "_model_module_version": "1.2.0",
            "_model_name": "LayoutModel",
            "_view_count": null,
            "_view_module": "@jupyter-widgets/base",
            "_view_module_version": "1.2.0",
            "_view_name": "LayoutView",
            "align_content": null,
            "align_items": null,
            "align_self": null,
            "border": null,
            "bottom": null,
            "display": null,
            "flex": null,
            "flex_flow": null,
            "grid_area": null,
            "grid_auto_columns": null,
            "grid_auto_flow": null,
            "grid_auto_rows": null,
            "grid_column": null,
            "grid_gap": null,
            "grid_row": null,
            "grid_template_areas": null,
            "grid_template_columns": null,
            "grid_template_rows": null,
            "height": null,
            "justify_content": null,
            "justify_items": null,
            "left": null,
            "margin": null,
            "max_height": null,
            "max_width": null,
            "min_height": null,
            "min_width": null,
            "object_fit": null,
            "object_position": null,
            "order": null,
            "overflow": null,
            "overflow_x": null,
            "overflow_y": null,
            "padding": null,
            "right": null,
            "top": null,
            "visibility": null,
            "width": null
          }
        },
        "eed0186f44a946f28c388f4a3cb375e9": {
          "model_module": "@jupyter-widgets/base",
          "model_name": "LayoutModel",
          "model_module_version": "1.2.0",
          "state": {
            "_model_module": "@jupyter-widgets/base",
            "_model_module_version": "1.2.0",
            "_model_name": "LayoutModel",
            "_view_count": null,
            "_view_module": "@jupyter-widgets/base",
            "_view_module_version": "1.2.0",
            "_view_name": "LayoutView",
            "align_content": null,
            "align_items": null,
            "align_self": null,
            "border": null,
            "bottom": null,
            "display": null,
            "flex": null,
            "flex_flow": null,
            "grid_area": null,
            "grid_auto_columns": null,
            "grid_auto_flow": null,
            "grid_auto_rows": null,
            "grid_column": null,
            "grid_gap": null,
            "grid_row": null,
            "grid_template_areas": null,
            "grid_template_columns": null,
            "grid_template_rows": null,
            "height": null,
            "justify_content": null,
            "justify_items": null,
            "left": null,
            "margin": null,
            "max_height": null,
            "max_width": null,
            "min_height": null,
            "min_width": null,
            "object_fit": null,
            "object_position": null,
            "order": null,
            "overflow": null,
            "overflow_x": null,
            "overflow_y": null,
            "padding": null,
            "right": null,
            "top": null,
            "visibility": null,
            "width": null
          }
        },
        "552f206442264ae082eda2e83b2419db": {
          "model_module": "@jupyter-widgets/controls",
          "model_name": "DescriptionStyleModel",
          "model_module_version": "1.5.0",
          "state": {
            "_model_module": "@jupyter-widgets/controls",
            "_model_module_version": "1.5.0",
            "_model_name": "DescriptionStyleModel",
            "_view_count": null,
            "_view_module": "@jupyter-widgets/base",
            "_view_module_version": "1.2.0",
            "_view_name": "StyleView",
            "description_width": ""
          }
        },
        "68682a5bdb13488486dca2b0eb03b43b": {
          "model_module": "@jupyter-widgets/base",
          "model_name": "LayoutModel",
          "model_module_version": "1.2.0",
          "state": {
            "_model_module": "@jupyter-widgets/base",
            "_model_module_version": "1.2.0",
            "_model_name": "LayoutModel",
            "_view_count": null,
            "_view_module": "@jupyter-widgets/base",
            "_view_module_version": "1.2.0",
            "_view_name": "LayoutView",
            "align_content": null,
            "align_items": null,
            "align_self": null,
            "border": null,
            "bottom": null,
            "display": null,
            "flex": null,
            "flex_flow": null,
            "grid_area": null,
            "grid_auto_columns": null,
            "grid_auto_flow": null,
            "grid_auto_rows": null,
            "grid_column": null,
            "grid_gap": null,
            "grid_row": null,
            "grid_template_areas": null,
            "grid_template_columns": null,
            "grid_template_rows": null,
            "height": null,
            "justify_content": null,
            "justify_items": null,
            "left": null,
            "margin": null,
            "max_height": null,
            "max_width": null,
            "min_height": null,
            "min_width": null,
            "object_fit": null,
            "object_position": null,
            "order": null,
            "overflow": null,
            "overflow_x": null,
            "overflow_y": null,
            "padding": null,
            "right": null,
            "top": null,
            "visibility": null,
            "width": null
          }
        },
        "0ad13e2ff6ff452db17b30d184f6f3f5": {
          "model_module": "@jupyter-widgets/controls",
          "model_name": "ProgressStyleModel",
          "model_module_version": "1.5.0",
          "state": {
            "_model_module": "@jupyter-widgets/controls",
            "_model_module_version": "1.5.0",
            "_model_name": "ProgressStyleModel",
            "_view_count": null,
            "_view_module": "@jupyter-widgets/base",
            "_view_module_version": "1.2.0",
            "_view_name": "StyleView",
            "bar_color": null,
            "description_width": ""
          }
        },
        "aabd32ecad854f498999ee94d2cd8c39": {
          "model_module": "@jupyter-widgets/base",
          "model_name": "LayoutModel",
          "model_module_version": "1.2.0",
          "state": {
            "_model_module": "@jupyter-widgets/base",
            "_model_module_version": "1.2.0",
            "_model_name": "LayoutModel",
            "_view_count": null,
            "_view_module": "@jupyter-widgets/base",
            "_view_module_version": "1.2.0",
            "_view_name": "LayoutView",
            "align_content": null,
            "align_items": null,
            "align_self": null,
            "border": null,
            "bottom": null,
            "display": null,
            "flex": null,
            "flex_flow": null,
            "grid_area": null,
            "grid_auto_columns": null,
            "grid_auto_flow": null,
            "grid_auto_rows": null,
            "grid_column": null,
            "grid_gap": null,
            "grid_row": null,
            "grid_template_areas": null,
            "grid_template_columns": null,
            "grid_template_rows": null,
            "height": null,
            "justify_content": null,
            "justify_items": null,
            "left": null,
            "margin": null,
            "max_height": null,
            "max_width": null,
            "min_height": null,
            "min_width": null,
            "object_fit": null,
            "object_position": null,
            "order": null,
            "overflow": null,
            "overflow_x": null,
            "overflow_y": null,
            "padding": null,
            "right": null,
            "top": null,
            "visibility": null,
            "width": null
          }
        },
        "5132fec8f3df46ee9b7b76dc94dc2585": {
          "model_module": "@jupyter-widgets/controls",
          "model_name": "DescriptionStyleModel",
          "model_module_version": "1.5.0",
          "state": {
            "_model_module": "@jupyter-widgets/controls",
            "_model_module_version": "1.5.0",
            "_model_name": "DescriptionStyleModel",
            "_view_count": null,
            "_view_module": "@jupyter-widgets/base",
            "_view_module_version": "1.2.0",
            "_view_name": "StyleView",
            "description_width": ""
          }
        }
      }
    }
  },
  "cells": [
    {
      "cell_type": "markdown",
      "metadata": {
        "id": "LkYpFAOry3ht"
      },
      "source": [
        "# 3-Gram Language Model\n",
        "* Text Retrieval and Mining, BSc BAN, 2023-2024\n",
        "* Author: [Julien Rossi](mailto:j.rossi@uva.nl)\n",
        "\n"
      ]
    },
    {
      "cell_type": "markdown",
      "metadata": {
        "id": "z89cA4aky6Ve"
      },
      "source": [
        "We will use the **Reuters** dataset, included in nltk.\n",
        "\n",
        "It is a collection of business-related short articles."
      ]
    },
    {
      "cell_type": "markdown",
      "metadata": {
        "id": "hc30rFGt5Err"
      },
      "source": [
        "# Import and Prepare Data"
      ]
    },
    {
      "cell_type": "markdown",
      "metadata": {
        "id": "Ii6oN2DA5Hm9"
      },
      "source": [
        "As it is a builtin dataset, it is easy to retrieve."
      ]
    },
    {
      "cell_type": "code",
      "metadata": {
        "id": "6EM60WJpl7Xg",
        "colab": {
          "base_uri": "https://localhost:8080/"
        },
        "outputId": "0610257f-e689-4a27-ad18-ad684285bd75"
      },
      "source": [
        "import nltk\n",
        "nltk.download('reuters')\n",
        "nltk.download('punkt')"
      ],
      "execution_count": null,
      "outputs": [
        {
          "output_type": "stream",
          "name": "stderr",
          "text": [
            "[nltk_data] Downloading package reuters to /root/nltk_data...\n",
            "[nltk_data] Downloading package punkt to /root/nltk_data...\n",
            "[nltk_data]   Unzipping tokenizers/punkt.zip.\n"
          ]
        },
        {
          "output_type": "execute_result",
          "data": {
            "text/plain": [
              "True"
            ]
          },
          "metadata": {},
          "execution_count": 1
        }
      ]
    },
    {
      "cell_type": "code",
      "metadata": {
        "id": "lDLOi6_F2vEV"
      },
      "source": [
        "import pandas as pd\n",
        "\n",
        "from nltk.corpus import reuters\n",
        "\n",
        "data = [{'id': i, 'fulltext': ' '.join(s), 'nbwords': len(s), 'tokens': s} for i, s in enumerate(reuters.sents())]\n",
        "df = pd.DataFrame(data)"
      ],
      "execution_count": null,
      "outputs": []
    },
    {
      "cell_type": "code",
      "metadata": {
        "id": "8JLAaSdI4TuR",
        "colab": {
          "base_uri": "https://localhost:8080/"
        },
        "outputId": "32e8283f-9d6d-4022-886e-5c87696751fa"
      },
      "source": [
        "print(f'There are {df.shape[0]} documents in the corpus.')"
      ],
      "execution_count": null,
      "outputs": [
        {
          "output_type": "stream",
          "name": "stdout",
          "text": [
            "There are 54716 documents in the corpus.\n"
          ]
        }
      ]
    },
    {
      "cell_type": "code",
      "source": [
        "df.iloc[1][\"fulltext\"]"
      ],
      "metadata": {
        "colab": {
          "base_uri": "https://localhost:8080/",
          "height": 35
        },
        "id": "E8Udy3HTIB8f",
        "outputId": "47fba282-1f3e-4dd2-d0eb-ba277df49f79"
      },
      "execution_count": null,
      "outputs": [
        {
          "output_type": "execute_result",
          "data": {
            "text/plain": [
              "'They told Reuter correspondents in Asian capitals a U . S . Move against Japan might boost protectionist sentiment in the U . S . And lead to curbs on American imports of their products .'"
            ],
            "application/vnd.google.colaboratory.intrinsic+json": {
              "type": "string"
            }
          },
          "metadata": {},
          "execution_count": 4
        }
      ]
    },
    {
      "cell_type": "code",
      "source": [],
      "metadata": {
        "id": "eOOt7TQkIQlE"
      },
      "execution_count": null,
      "outputs": []
    },
    {
      "cell_type": "code",
      "metadata": {
        "id": "91QcosNI3O67",
        "colab": {
          "base_uri": "https://localhost:8080/",
          "height": 1000
        },
        "outputId": "692b211a-8414-4245-e83b-00df09f13403"
      },
      "source": [
        "import matplotlib.pyplot as plt\n",
        "\n",
        "fig, axs = plt.subplots(nrows=1, ncols=2, figsize=(24, 12))\n",
        "\n",
        "_ = df['nbwords'].plot.hist(bins=50, ax=axs[0])\n",
        "_ = df['nbwords'].plot.hist(cumulative=True, density=1, bins=50, ax=axs[1])\n",
        "\n",
        "_ = axs[0].set_title('PDF')\n",
        "_ = axs[1].set_title('CDF')"
      ],
      "execution_count": null,
      "outputs": [
        {
          "output_type": "display_data",
          "data": {
            "text/plain": [
              "<Figure size 2400x1200 with 2 Axes>"
            ],
            "image/png": "[encoded data removed]"
          },
          "metadata": {}
        }
      ]
    },
    {
      "cell_type": "code",
      "metadata": {
        "id": "vf549YjbzZai",
        "colab": {
          "base_uri": "https://localhost:8080/"
        },
        "outputId": "d0f06dff-a307-41fc-974a-8537d7916786"
      },
      "source": [
        "from termcolor import colored\n",
        "from textwrap import fill\n",
        "\n",
        "# Reuters corpus is already tokenized\n",
        "sample = df.sample(n=1).iloc[0]\n",
        "index = sample['id']\n",
        "document = sample['tokens']\n",
        "\n",
        "print(f'{colored(\"Sample text from Reuters:\", attrs=[\"bold\"])} #{index}')\n",
        "print('*' * 80)\n",
        "print(f'{colored(\"Original Data:\", color=\"blue\", attrs=[\"bold\"])}\\n{document[:5]} (...)\\n(...) {document[-5:]}')\n",
        "print('*' * 80)\n",
        "print(f'{colored(\"Full Text:\", color=\"blue\", attrs=[\"bold\"])}')\n",
        "print(fill(' '.join(document), width=80))\n"
      ],
      "execution_count": null,
      "outputs": [
        {
          "output_type": "stream",
          "name": "stdout",
          "text": [
            "Sample text from Reuters: #46735\n",
            "********************************************************************************\n",
            "Original Data:\n",
            "['Yesterday', ',', 'the', 'federal', 'department'] (...)\n",
            "(...) ['and', '30', 'last', 'year', '.']\n",
            "********************************************************************************\n",
            "Full Text:\n",
            "Yesterday , the federal department of energy charged Gulf Canada with eight\n",
            "counts of illegal dumping for discharging powdered cement and drilling mud\n",
            "between September 23 and 30 last year .\n"
          ]
        }
      ]
    },
    {
      "cell_type": "markdown",
      "metadata": {
        "id": "0-biwm3K5MSz"
      },
      "source": [
        "# Bigrams / TriGrams"
      ]
    },
    {
      "cell_type": "markdown",
      "metadata": {
        "id": "DL_nTqOP5Qk4"
      },
      "source": [
        "NLTK has special functions that can generate the list of 2-grams and 3-grams of a document.\n",
        "\n",
        "Padded 2-grams add `(None, 'The')` as a 2-gram when the sentence starts with 'The'.\n",
        "\n",
        "As we build a 3-Gram LM, we focus on padded 3-grams from the corpus."
      ]
    },
    {
      "cell_type": "code",
      "metadata": {
        "id": "LURpg7ZolxHm",
        "colab": {
          "base_uri": "https://localhost:8080/"
        },
        "outputId": "1743ceff-ae80-4c37-9e0f-1b8b3a008bd1"
      },
      "source": [
        "from nltk import bigrams, trigrams\n",
        "from collections import Counter, defaultdict\n",
        "\n",
        "# Get the bigrams\n",
        "print(colored('BIGRAMS: ', attrs=['bold']), list(bigrams(document))) # [(u'ASIAN', u'EXPORTERS'), (u'EXPORTERS', u'FEAR'), (u'FEAR', u'DAMAGE'), (u'DAMAGE', u'FROM'), ...\n",
        "\n",
        "# Get the padded bigrams\n",
        "print(colored('PADDED BIGRAMS: ', attrs=['bold']), list(bigrams(document, pad_left=True, pad_right=True))) # [(None, u'ASIAN'), (u'ASIAN', u'EXPORTERS'), (u'EXPORTERS', u'FEAR'), (u'FEAR', u'DAMAGE'), (u'DAMAGE', u'FROM'),\n",
        "print()\n",
        "# Get the trigrams\n",
        "print(colored('TRIGRAMS: ', attrs=['bold']), list(trigrams(document))) # [(u'ASIAN', u'EXPORTERS', u'FEAR'), (u'EXPORTERS', u'FEAR', u'DAMAGE'), (u'FEAR', u'DAMAGE', u'FROM'), ...\n",
        "\n",
        "# Get the padded trigrams\n",
        "print(colored('PADDED TRIGRAMS: ', attrs=['bold']), list(trigrams(document, pad_left=True, pad_right=True))) # [(None, None, u'ASIAN'), (None, u'ASIAN', u'EXPORTERS'), (u'ASIAN', u'EXPORTERS', u'FEAR'), (u'EXPORTERS', u'FEAR', u'DAMAGE'), (u'FEAR', u'DAMAGE', u'FROM') ...\n"
      ],
      "execution_count": null,
      "outputs": [
        {
          "output_type": "stream",
          "name": "stdout",
          "text": [
            "BIGRAMS:  [('Yesterday', ','), (',', 'the'), ('the', 'federal'), ('federal', 'department'), ('department', 'of'), ('of', 'energy'), ('energy', 'charged'), ('charged', 'Gulf'), ('Gulf', 'Canada'), ('Canada', 'with'), ('with', 'eight'), ('eight', 'counts'), ('counts', 'of'), ('of', 'illegal'), ('illegal', 'dumping'), ('dumping', 'for'), ('for', 'discharging'), ('discharging', 'powdered'), ('powdered', 'cement'), ('cement', 'and'), ('and', 'drilling'), ('drilling', 'mud'), ('mud', 'between'), ('between', 'September'), ('September', '23'), ('23', 'and'), ('and', '30'), ('30', 'last'), ('last', 'year'), ('year', '.')]\n",
            "PADDED BIGRAMS:  [(None, 'Yesterday'), ('Yesterday', ','), (',', 'the'), ('the', 'federal'), ('federal', 'department'), ('department', 'of'), ('of', 'energy'), ('energy', 'charged'), ('charged', 'Gulf'), ('Gulf', 'Canada'), ('Canada', 'with'), ('with', 'eight'), ('eight', 'counts'), ('counts', 'of'), ('of', 'illegal'), ('illegal', 'dumping'), ('dumping', 'for'), ('for', 'discharging'), ('discharging', 'powdered'), ('powdered', 'cement'), ('cement', 'and'), ('and', 'drilling'), ('drilling', 'mud'), ('mud', 'between'), ('between', 'September'), ('September', '23'), ('23', 'and'), ('and', '30'), ('30', 'last'), ('last', 'year'), ('year', '.'), ('.', None)]\n",
            "\n",
            "TRIGRAMS:  [('Yesterday', ',', 'the'), (',', 'the', 'federal'), ('the', 'federal', 'department'), ('federal', 'department', 'of'), ('department', 'of', 'energy'), ('of', 'energy', 'charged'), ('energy', 'charged', 'Gulf'), ('charged', 'Gulf', 'Canada'), ('Gulf', 'Canada', 'with'), ('Canada', 'with', 'eight'), ('with', 'eight', 'counts'), ('eight', 'counts', 'of'), ('counts', 'of', 'illegal'), ('of', 'illegal', 'dumping'), ('illegal', 'dumping', 'for'), ('dumping', 'for', 'discharging'), ('for', 'discharging', 'powdered'), ('discharging', 'powdered', 'cement'), ('powdered', 'cement', 'and'), ('cement', 'and', 'drilling'), ('and', 'drilling', 'mud'), ('drilling', 'mud', 'between'), ('mud', 'between', 'September'), ('between', 'September', '23'), ('September', '23', 'and'), ('23', 'and', '30'), ('and', '30', 'last'), ('30', 'last', 'year'), ('last', 'year', '.')]\n",
            "PADDED TRIGRAMS:  [(None, None, 'Yesterday'), (None, 'Yesterday', ','), ('Yesterday', ',', 'the'), (',', 'the', 'federal'), ('the', 'federal', 'department'), ('federal', 'department', 'of'), ('department', 'of', 'energy'), ('of', 'energy', 'charged'), ('energy', 'charged', 'Gulf'), ('charged', 'Gulf', 'Canada'), ('Gulf', 'Canada', 'with'), ('Canada', 'with', 'eight'), ('with', 'eight', 'counts'), ('eight', 'counts', 'of'), ('counts', 'of', 'illegal'), ('of', 'illegal', 'dumping'), ('illegal', 'dumping', 'for'), ('dumping', 'for', 'discharging'), ('for', 'discharging', 'powdered'), ('discharging', 'powdered', 'cement'), ('powdered', 'cement', 'and'), ('cement', 'and', 'drilling'), ('and', 'drilling', 'mud'), ('drilling', 'mud', 'between'), ('mud', 'between', 'September'), ('between', 'September', '23'), ('September', '23', 'and'), ('23', 'and', '30'), ('and', '30', 'last'), ('30', 'last', 'year'), ('last', 'year', '.'), ('year', '.', None), ('.', None, None)]\n"
          ]
        }
      ]
    },
    {
      "cell_type": "code",
      "metadata": {
        "id": "QYBCpsrcl3Jq"
      },
      "source": [
        "model = defaultdict(lambda: defaultdict(lambda: 0))\n",
        "\n",
        "for tokens in df['tokens']:\n",
        "    for w1, w2, w3 in trigrams(tokens, pad_right=True, pad_left=True):\n",
        "        model[(w1.lower() if w1 is not None else None, w2.lower() if w2 is not None else None)][w3.lower() if w3 is not None else None] += 1"
      ],
      "execution_count": null,
      "outputs": []
    },
    {
      "cell_type": "code",
      "metadata": {
        "id": "NJYsRnNJjO8H",
        "colab": {
          "base_uri": "https://localhost:8080/"
        },
        "outputId": "04fce546-b964-4060-def9-308e3debdc1f"
      },
      "source": [
        "print(f'Number of times \"economists\" followed \"what the\": {model[\"what\", \"the\"][\"economists\"]}') # \"economists\" follows \"what the\" 2 times\n",
        "print(f'Number of sentences starting with \"the\": {model[None, None][\"the\"]}')"
      ],
      "execution_count": null,
      "outputs": [
        {
          "output_type": "stream",
          "name": "stdout",
          "text": [
            "Number of times \"economists\" followed \"what the\": 2\n",
            "Number of sentences starting with \"the\": 8865\n"
          ]
        }
      ]
    },
    {
      "cell_type": "code",
      "metadata": {
        "id": "1Kl-nz2at1WL",
        "colab": {
          "base_uri": "https://localhost:8080/"
        },
        "outputId": "0e718f1e-a934-4978-fe72-71c219daabf0"
      },
      "source": [
        "print(model[\"what\", \"the\"][\"nonexistingword\"]) # 0 times, thanks to the defaultdict definition"
      ],
      "execution_count": null,
      "outputs": [
        {
          "output_type": "stream",
          "name": "stdout",
          "text": [
            "0\n"
          ]
        }
      ]
    },
    {
      "cell_type": "code",
      "metadata": {
        "id": "SNZhlkwyjRsw"
      },
      "source": [
        "# Let's transform the counts to probabilities\n",
        "for w1_w2 in model:\n",
        "    total_count = float(sum(model[w1_w2].values()))\n",
        "    for w3 in model[w1_w2]:\n",
        "        model[w1_w2][w3] /= total_count"
      ],
      "execution_count": null,
      "outputs": []
    },
    {
      "cell_type": "code",
      "metadata": {
        "id": "tXLbVq5cjHDv",
        "colab": {
          "base_uri": "https://localhost:8080/"
        },
        "outputId": "f5af2896-d692-4472-83a0-8a48dcfd1c74"
      },
      "source": [
        "print(f'Probability of \"economists\" given \"what the\": {model[\"what\", \"the\"][\"economists\"]}') # \"economists\" follows \"what the\" 2 times\n",
        "print(f'Probability of \"the\" given Start_of_Sentence: {model[None, None][\"the\"]}') # 8839 sentences start with \"The\""
      ],
      "execution_count": null,
      "outputs": [
        {
          "output_type": "stream",
          "name": "stdout",
          "text": [
            "Probability of \"economists\" given \"what the\": 0.041666666666666664\n",
            "Probability of \"the\" given Start_of_Sentence: 0.1620184223992982\n"
          ]
        }
      ]
    },
    {
      "cell_type": "code",
      "metadata": {
        "id": "-8C9gV8jFrPm",
        "colab": {
          "base_uri": "https://localhost:8080/"
        },
        "outputId": "6cdc457f-5a31-44aa-9605-92c12429e5ef"
      },
      "source": [
        "model['what', 'the']"
      ],
      "execution_count": null,
      "outputs": [
        {
          "output_type": "execute_result",
          "data": {
            "text/plain": [
              "defaultdict(<function __main__.<lambda>.<locals>.<lambda>()>,\n",
              "            {'communique': 0.020833333333333332,\n",
              "             'chance': 0.020833333333333332,\n",
              "             'manager': 0.020833333333333332,\n",
              "             'central': 0.041666666666666664,\n",
              "             'announcement': 0.020833333333333332,\n",
              "             'minister': 0.020833333333333332,\n",
              "             'minimum': 0.020833333333333332,\n",
              "             'administration': 0.041666666666666664,\n",
              "             'united': 0.020833333333333332,\n",
              "             'u': 0.0625,\n",
              "             'decision': 0.0625,\n",
              "             'japanese': 0.020833333333333332,\n",
              "             'mps': 0.020833333333333332,\n",
              "             'differential': 0.020833333333333332,\n",
              "             'british': 0.041666666666666664,\n",
              "             'paris': 0.020833333333333332,\n",
              "             'state': 0.041666666666666664,\n",
              "             'buffer': 0.020833333333333332,\n",
              "             'markets': 0.020833333333333332,\n",
              "             'fed': 0.041666666666666664,\n",
              "             'company': 0.020833333333333332,\n",
              "             'offer': 0.020833333333333332,\n",
              "             'result': 0.020833333333333332,\n",
              "             'pressure': 0.020833333333333332,\n",
              "             'outcome': 0.020833333333333332,\n",
              "             'union': 0.020833333333333332,\n",
              "             'financial': 0.020833333333333332,\n",
              "             'government': 0.041666666666666664,\n",
              "             'parameters': 0.020833333333333332,\n",
              "             'economists': 0.041666666666666664,\n",
              "             'trade': 0.020833333333333332,\n",
              "             'chief': 0.020833333333333332,\n",
              "             'group': 0.020833333333333332,\n",
              "             'equity': 0.020833333333333332,\n",
              "             'soviets': 0.020833333333333332,\n",
              "             'conversation': 0.020833333333333332,\n",
              "             'the': 0.020833333333333332,\n",
              "             'nonexistingword': 0.0})"
            ]
          },
          "metadata": {},
          "execution_count": 13
        }
      ]
    },
    {
      "cell_type": "markdown",
      "metadata": {
        "id": "jLmrJ5H96Aq3"
      },
      "source": [
        "# Text Generation"
      ]
    },
    {
      "cell_type": "markdown",
      "metadata": {
        "id": "bLETubzT6CrI"
      },
      "source": [
        "We use a greedy algorithm:\n",
        "* The first 2-gram is `(None, None)`\n",
        "* Repeat:\n",
        " * Draw 1 word from the probability distribution of the 2-gram\n",
        " * Add it to the text\n",
        " * Change the 2-gram to be the last 2 words of the text\n",
        " * if these words are `(None, None)` we have drawn the end of the sentence\n",
        " * else we repeat"
      ]
    },
    {
      "cell_type": "code",
      "metadata": {
        "id": "QB2QxuYAmaBT",
        "colab": {
          "base_uri": "https://localhost:8080/"
        },
        "outputId": "58f94e1b-fca7-4025-ad5f-7b98a749f24f"
      },
      "source": [
        "import math\n",
        "import random\n",
        "\n",
        "import numpy as np\n",
        "\n",
        "from termcolor import colored\n",
        "from textwrap import fill\n",
        "\n",
        "text = [None, None]\n",
        "prob = 1.0  # <- Init probability\n",
        "log_prob = 0.0\n",
        "\n",
        "sentence_finished = False\n",
        "\n",
        "while not sentence_finished:\n",
        "    words_before = tuple(text[-2:])\n",
        "    word = np.random.choice(list(model[words_before].keys()), p=list(model[words_before].values()))\n",
        "\n",
        "    prob *= model[words_before][word]  # <- Update the probability with the conditional probability of the new word\n",
        "    log_prob += math.log(model[words_before][word]) # log prob is easier to compute for computers\n",
        "    text.append(word)\n",
        "\n",
        "    sentence_finished = text[-2:] == [None, None]\n",
        "\n",
        "words = list(filter(lambda x: x is not None, text))\n",
        "generated_text = ' '.join(words)\n",
        "text_len = len(words)\n",
        "\n",
        "print(f\"{colored('Generated Text', attrs=['bold'])} - {colored('{:d} words'.format(text_len), color='blue', attrs=['bold'])} - {colored('Pr[Text]={:.1E}'.format(prob), color='green', attrs=['bold'])} - {colored('LogPr[Text]={:0.2f}'.format(log_prob), color='green', attrs=['bold'])}\")\n",
        "print('*' * 80)\n",
        "print(fill(generated_text, width=80))\n",
        "print('*' * 80)\n",
        "\n"
      ],
      "execution_count": null,
      "outputs": [
        {
          "output_type": "stream",
          "name": "stdout",
          "text": [
            "Generated Text - 41 words - Pr[Text]=2.0E-38 - LogPr[Text]=-86.80\n",
            "********************************************************************************\n",
            "16 - 1 / 2 cts vs profit one ct net 113 , 500 , 000 vs 15 cts vs 38 cts net 4 ,\n",
            "000 vs 10 . 0 mln vs 37 cts vs 51 . 8 mln bpd .\n",
            "********************************************************************************\n"
          ]
        }
      ]
    },
    {
      "cell_type": "markdown",
      "metadata": {
        "id": "Fh7vWdXp7XDY"
      },
      "source": [
        "# Classification"
      ]
    },
    {
      "cell_type": "markdown",
      "metadata": {
        "id": "7XjoWMqY7YuE"
      },
      "source": [
        "Given 2 N-Gram Language Model:\n",
        "* Probabilities coming from observing 2 classes of documents\n",
        "* We can use them for a classification task\n",
        "* Just by observing under which model a given text has the highest probability\n",
        "* This is Naïve Bayes\n",
        "\n",
        "See also this [Link](https://web.stanford.edu/~jurafsky/slp3/4.pdf) to the Jurafsky book (also mentioned in the class additional resources)\n",
        "\n",
        "* Train a 3-Gram LM on Brown Corpus (books)\n",
        "* Use the 2 LM to predict \"Reuters or Brown\" on any text"
      ]
    },
    {
      "cell_type": "code",
      "metadata": {
        "id": "u6dQjR9c92ZS",
        "colab": {
          "base_uri": "https://localhost:8080/"
        },
        "outputId": "57d793d7-f9d5-4d99-de5a-d19d16b5bcec"
      },
      "source": [
        "import pandas as pd\n",
        "\n",
        "from nltk.corpus import brown, reuters\n",
        "\n",
        "nltk.download('brown')\n",
        "nltk.download('reuters')"
      ],
      "execution_count": null,
      "outputs": [
        {
          "output_type": "stream",
          "name": "stderr",
          "text": [
            "[nltk_data] Downloading package brown to /root/nltk_data...\n",
            "[nltk_data]   Unzipping corpora/brown.zip.\n",
            "[nltk_data] Downloading package reuters to /root/nltk_data...\n",
            "[nltk_data]   Package reuters is already up-to-date!\n"
          ]
        },
        {
          "output_type": "execute_result",
          "data": {
            "text/plain": [
              "True"
            ]
          },
          "metadata": {},
          "execution_count": 15
        }
      ]
    },
    {
      "cell_type": "code",
      "metadata": {
        "id": "0KKkG8amMgmm"
      },
      "source": [
        "import math\n",
        "import random\n",
        "\n",
        "from tqdm.notebook import tqdm\n",
        "\n",
        "class TriGramLM:\n",
        "    \"\"\"\n",
        "    Helper class to create and manipulate a 3-Gram LM\n",
        "    \"\"\"\n",
        "    def __init__(self, label: str):\n",
        "        self.label = label\n",
        "\n",
        "    def fit(self, corpus):\n",
        "        \"\"\"\n",
        "        Assuming corpus is list of list of strings ([['I', 'love', 'tea'], ['NYC', 'rules']])\n",
        "        \"\"\"\n",
        "        self.documents = corpus\n",
        "\n",
        "        model = defaultdict(lambda: defaultdict(lambda: 1e-6))\n",
        "\n",
        "        for tokens in tqdm(self.documents, desc='Create Dictionary'):\n",
        "            for w1, w2, w3 in trigrams(tokens, pad_right=True, pad_left=True):\n",
        "                model[(w1.lower() if w1 is not None else None, w2.lower() if w2 is not None else None)][w3.lower() if w3 is not None else None] += 1\n",
        "\n",
        "        # Let's transform the counts to probabilities\n",
        "        for w1_w2 in tqdm(model, desc='Update Probabilities'):\n",
        "            total_count = float(sum(model[w1_w2].values()))\n",
        "            for w3 in model[w1_w2]:\n",
        "                model[w1_w2][w3] /= total_count\n",
        "\n",
        "        self.model = model\n",
        "\n",
        "        return self\n",
        "\n",
        "    def corpus_sample(self):\n",
        "        sample = random.choice(self.documents)\n",
        "\n",
        "        print(f'{colored(self.label, attrs=[\"bold\"])}')\n",
        "        print('*' * 80)\n",
        "        print(f'{colored(\"Original Data:\", color=\"blue\", attrs=[\"bold\"])}\\n{sample[:5]} (...)\\n(...) {sample[-5:]}')\n",
        "        print('*' * 80)\n",
        "        print(f'{colored(\"Full Text:\", color=\"blue\", attrs=[\"bold\"])}')\n",
        "        print(fill(' '.join(sample), width=80))\n",
        "        print(flush=True)\n",
        "\n",
        "    def compute_proba(self, padded_ngrams):\n",
        "        log_prob = 0.0\n",
        "        for p in padded_ngrams:\n",
        "            log_prob += math.log(self.model[p[:-1]][p[-1]])\n",
        "\n",
        "        return log_prob\n",
        "\n",
        "\n",
        "\n"
      ],
      "execution_count": null,
      "outputs": []
    },
    {
      "cell_type": "code",
      "metadata": {
        "id": "ZEaoDpdtRXlJ"
      },
      "source": [
        "class NaiveClassifier:\n",
        "    \"\"\"\n",
        "    Based on 2 3-Gram models.\n",
        "    \"\"\"\n",
        "    def __init__(self, models):\n",
        "        self.models = models\n",
        "\n",
        "    def predict(self, x):\n",
        "        predictions = []\n",
        "        for sample in tqdm(x):\n",
        "            probs = np.array([m.compute_proba(trigrams(sample, pad_right=True, pad_left=True)) for m in self.models])\n",
        "            prediction = self.models[np.argmax(probs)].label\n",
        "            predictions.append(prediction)\n",
        "        return predictions\n",
        "\n"
      ],
      "execution_count": null,
      "outputs": []
    },
    {
      "cell_type": "code",
      "metadata": {
        "id": "_XA847QSPbWu",
        "colab": {
          "base_uri": "https://localhost:8080/",
          "height": 81,
          "referenced_widgets": [
            "56a66c0111f248ac9da57896e05264bb",
            "29d5437408844ff4a5091f283eac067a",
            "8d360664ed1249778c805109c5cc0592",
            "3fd07c0a4224458ab45a218f99da0dcb",
            "b75aa77955f94107b5549783634596ff",
            "fc3238b88c7d4315a2a5b30cf3b2238b",
            "85ef593582c147639f4e594753c57c28",
            "6a8f3e98d176446c89d103a00a7dd1b9",
            "d9dc7ea1a75e4990a23c15be4b5ff435",
            "e5f2815168b14bbcafabdf024125f29e",
            "9cb12ef4fbfe4217b4a77214f24fb548",
            "7aee5aff60a2456c91a4d01e7189b496",
            "136d5e26143243c285da8d50872c68ab",
            "14404047b01d471388b6936a4aae775c",
            "b0d4ea414ee14597a8cdf5e0704589cd",
            "b091d300069b4051bf8ee225c2f0179f",
            "f6af19e908fe420e981d9c969c1cfa7e",
            "70e6b23a5df948f1a7c31fd6af3524c9",
            "a3d5939976fc42f6840e7b6602af4e25",
            "7509bbc5a5be405da80315490def7fd6",
            "faacb82f41e34067abfbb1ed0ebf79e2",
            "112a365847ca4812891d0a843f33a56f"
          ]
        },
        "outputId": "07165ded-c80f-4e41-e829-eb8456b84024"
      },
      "source": [
        "brown_all = pd.DataFrame(tqdm([{'tokens': t, 'label': 'BROWN'} for t in brown.sents()]))\n",
        "reuters_all = pd.DataFrame(tqdm([{'tokens': t, 'label': 'REUTERS'} for t in reuters.sents()]))"
      ],
      "execution_count": null,
      "outputs": [
        {
          "output_type": "display_data",
          "data": {
            "text/plain": [
              "  0%|          | 0/57340 [00:00<?, ?it/s]"
            ],
            "application/vnd.jupyter.widget-view+json": {
              "version_major": 2,
              "version_minor": 0,
              "model_id": "56a66c0111f248ac9da57896e05264bb"
            }
          },
          "metadata": {}
        },
        {
          "output_type": "display_data",
          "data": {
            "text/plain": [
              "  0%|          | 0/54716 [00:00<?, ?it/s]"
            ],
            "application/vnd.jupyter.widget-view+json": {
              "version_major": 2,
              "version_minor": 0,
              "model_id": "7aee5aff60a2456c91a4d01e7189b496"
            }
          },
          "metadata": {}
        }
      ]
    },
    {
      "cell_type": "code",
      "metadata": {
        "id": "LjxJmMyRP88O"
      },
      "source": [
        "from sklearn.model_selection import train_test_split\n",
        "\n",
        "brown_train, brown_test = train_test_split(brown_all, test_size=0.1)\n",
        "reuters_train, reuters_test = train_test_split(reuters_all, test_size=0.1)\n",
        "\n",
        "test = pd.concat([brown_test, reuters_test])\n",
        "X_test = test['tokens']\n",
        "y_test = test['label']"
      ],
      "execution_count": null,
      "outputs": []
    },
    {
      "cell_type": "code",
      "metadata": {
        "id": "p2NPcnJpOzTV",
        "colab": {
          "base_uri": "https://localhost:8080/",
          "height": 260,
          "referenced_widgets": [
            "904cee1db7a64d099f66afd91414cb72",
            "2a31738873444612af2594208faa0eef",
            "0ea4e92c7b494ef98ff6b7ec0a096a58",
            "4c4b90afb82d41b2affb7fd1cd850799",
            "10c3a3d7fa434f6694367f36ca828576",
            "268e5ab940a24bfa8ce9232c13d8ada5",
            "6118b45907cf464bbceab6341d6f7437",
            "41b8a8a3dd2344ee803e7274d4a9f14c",
            "f6aafde2359440fcb1a54ecb5581978b",
            "59062592e33a45fc83b0b63418869755",
            "43582e4ccea94cde86b0a56e52fa2935",
            "0d2c4329bdb54187becb83d09e56067f",
            "b852d6d51f5341f6801a97c47f26ac8e",
            "a3557ac5505b43979428e2a0f46c09c7",
            "0c84b93ce25d4a288e18c422e938fbdc",
            "45fdc5fe07f448689a9440b3a32e5b86",
            "b6c753c946d1401a9df805bd2af305c3",
            "25eadce57a014604b60028d146746471",
            "d22f252c1ffa4af8bc9c3595314cafae",
            "f45d7b732ad04ba1af3ae8346243ef56",
            "06193a90e1ef4adba025708c648acb13",
            "972deafe8b96430f97777a2c88134e7a"
          ]
        },
        "outputId": "afab692a-6e93-46cf-b817-ed3ba5e90ba9"
      },
      "source": [
        "brown_model = TriGramLM('BROWN')\n",
        "brown_model.fit(brown_train['tokens'])\n",
        "brown_model.corpus_sample()"
      ],
      "execution_count": null,
      "outputs": [
        {
          "output_type": "display_data",
          "data": {
            "text/plain": [
              "Create Dictionary:   0%|          | 0/51606 [00:00<?, ?it/s]"
            ],
            "application/vnd.jupyter.widget-view+json": {
              "version_major": 2,
              "version_minor": 0,
              "model_id": "904cee1db7a64d099f66afd91414cb72"
            }
          },
          "metadata": {}
        },
        {
          "output_type": "display_data",
          "data": {
            "text/plain": [
              "Update Probabilities:   0%|          | 0/401819 [00:00<?, ?it/s]"
            ],
            "application/vnd.jupyter.widget-view+json": {
              "version_major": 2,
              "version_minor": 0,
              "model_id": "0d2c4329bdb54187becb83d09e56067f"
            }
          },
          "metadata": {}
        },
        {
          "output_type": "stream",
          "name": "stdout",
          "text": [
            "BROWN\n",
            "********************************************************************************\n",
            "Original Data:\n",
            "['He', 'looked', 'very', 'carefully', 'at'] (...)\n",
            "(...) ['carefully', 'in', 'his', 'mind', '.']\n",
            "********************************************************************************\n",
            "Full Text:\n",
            "He looked very carefully at every piece of furnishing , as though hoping to\n",
            "store this information carefully in his mind .\n",
            "\n"
          ]
        }
      ]
    },
    {
      "cell_type": "code",
      "metadata": {
        "id": "yvDeoqrHSStB",
        "colab": {
          "base_uri": "https://localhost:8080/",
          "height": 278,
          "referenced_widgets": [
            "5a221a085ee94cdd8f141133bd79b996",
            "70bfa7bea92b4b6ebb77f2f64ad8b799",
            "873c080b5a7d49b2bfc68b2cbd410325",
            "29bfa4d4cad74559bda51640de37eb72",
            "b63410e169dd42f9a0dd642162e3a3c0",
            "291936fea4914b39af7afdfb58ad9e7e",
            "fb644df535994b92902e063084f6cab1",
            "c481d2da3e7b4400a9d716c7ebcb8883",
            "cbc606b6cdf74dcda7fecd4d800955e4",
            "0101b52ce32e4a37932866a0f81b0cb6",
            "2b7cbb0937d843aeb271beffd073946c",
            "a2ca78a1fe9f4c86b94f6056b4c33ab3",
            "41cdfa447b724ff9ad71ae5294b025a4",
            "2c59b2b83b354508ba9e3a3bec5f31d0",
            "3615326aa2224e2aae593f2e03ea83e5",
            "49e87f53ec7646efb1fe1aeb87c23439",
            "793cddc117d44f5caa3ee023555140ff",
            "77d176f9b36043138605fbf084143d52",
            "1b4e838d1837450c8ce68698951ab0fa",
            "e714b5aa20984334879156350aa3ea7a",
            "784fc217466942e28c364855e433c297",
            "9574b2b4e430486394bf48ec93b9fa96"
          ]
        },
        "outputId": "4b2f59bf-5b0c-47c0-f4c3-3b169bbf1bed"
      },
      "source": [
        "reuters_model = TriGramLM('REUTERS')\n",
        "reuters_model.fit(reuters_train['tokens'])\n",
        "reuters_model.corpus_sample()"
      ],
      "execution_count": null,
      "outputs": [
        {
          "output_type": "display_data",
          "data": {
            "text/plain": [
              "Create Dictionary:   0%|          | 0/49244 [00:00<?, ?it/s]"
            ],
            "application/vnd.jupyter.widget-view+json": {
              "version_major": 2,
              "version_minor": 0,
              "model_id": "5a221a085ee94cdd8f141133bd79b996"
            }
          },
          "metadata": {}
        },
        {
          "output_type": "display_data",
          "data": {
            "text/plain": [
              "Update Probabilities:   0%|          | 0/342862 [00:00<?, ?it/s]"
            ],
            "application/vnd.jupyter.widget-view+json": {
              "version_major": 2,
              "version_minor": 0,
              "model_id": "a2ca78a1fe9f4c86b94f6056b4c33ab3"
            }
          },
          "metadata": {}
        },
        {
          "output_type": "stream",
          "name": "stdout",
          "text": [
            "REUTERS\n",
            "********************************************************************************\n",
            "Original Data:\n",
            "['It', 'said', 'the', 'increase', 'is'] (...)\n",
            "(...) ['other', 'specialty', 'end', 'uses', '.']\n",
            "********************************************************************************\n",
            "Full Text:\n",
            "It said the increase is in addition to recently announced increases and applies\n",
            "to carpet , paper , nonwovens , textiles , adhesives and other specialty end\n",
            "uses .\n",
            "\n"
          ]
        }
      ]
    },
    {
      "cell_type": "code",
      "metadata": {
        "id": "RpCpeSA4ScV-"
      },
      "source": [
        "clf = NaiveClassifier([brown_model, reuters_model])"
      ],
      "execution_count": null,
      "outputs": []
    },
    {
      "cell_type": "code",
      "metadata": {
        "id": "wJee0st4ShrH",
        "colab": {
          "base_uri": "https://localhost:8080/",
          "height": 49,
          "referenced_widgets": [
            "3a5cc3fd2e7549ce8d5c66a7f7ad0b35",
            "cea3e4664f484e2898a33ccf0be2e0ca",
            "d038f6aac51c45a0b3e6909296699860",
            "585a45c377944f338c844cee51e4123b",
            "a74d00479fa84dd8a0dab5de5d1e28b5",
            "eed0186f44a946f28c388f4a3cb375e9",
            "552f206442264ae082eda2e83b2419db",
            "68682a5bdb13488486dca2b0eb03b43b",
            "0ad13e2ff6ff452db17b30d184f6f3f5",
            "aabd32ecad854f498999ee94d2cd8c39",
            "5132fec8f3df46ee9b7b76dc94dc2585"
          ]
        },
        "outputId": "85917c95-8cbc-4349-8aa8-73338377e32b"
      },
      "source": [
        "y_pred = clf.predict(X_test)"
      ],
      "execution_count": null,
      "outputs": [
        {
          "output_type": "display_data",
          "data": {
            "text/plain": [
              "  0%|          | 0/11206 [00:00<?, ?it/s]"
            ],
            "application/vnd.jupyter.widget-view+json": {
              "version_major": 2,
              "version_minor": 0,
              "model_id": "3a5cc3fd2e7549ce8d5c66a7f7ad0b35"
            }
          },
          "metadata": {}
        }
      ]
    },
    {
      "cell_type": "code",
      "metadata": {
        "id": "V__KT72aS7eC",
        "colab": {
          "base_uri": "https://localhost:8080/"
        },
        "outputId": "6f385649-5c70-4ecb-df06-636003ed034e"
      },
      "source": [
        "from sklearn.metrics import classification_report\n",
        "\n",
        "print(classification_report(y_true=y_test, y_pred=y_pred))"
      ],
      "execution_count": null,
      "outputs": [
        {
          "output_type": "stream",
          "name": "stdout",
          "text": [
            "              precision    recall  f1-score   support\n",
            "\n",
            "       BROWN       0.93      0.92      0.93      5734\n",
            "     REUTERS       0.92      0.93      0.93      5472\n",
            "\n",
            "    accuracy                           0.93     11206\n",
            "   macro avg       0.93      0.93      0.93     11206\n",
            "weighted avg       0.93      0.93      0.93     11206\n",
            "\n"
          ]
        }
      ]
    },
    {
      "cell_type": "code",
      "source": [],
      "metadata": {
        "id": "Q9P0ISGN327F"
      },
      "execution_count": null,
      "outputs": []
    }
  ]
}