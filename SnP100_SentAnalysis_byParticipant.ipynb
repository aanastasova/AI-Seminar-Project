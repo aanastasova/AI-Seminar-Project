{
 "cells": [
  {
   "cell_type": "code",
   "execution_count": 1,
   "id": "e49c3dc3-8b1b-493c-8c52-fd08494b18b3",
   "metadata": {},
   "outputs": [
    {
     "name": "stderr",
     "output_type": "stream",
     "text": [
      "/Library/Frameworks/Python.framework/Versions/3.12/lib/python3.12/site-packages/tqdm/auto.py:21: TqdmWarning: IProgress not found. Please update jupyter and ipywidgets. See https://ipywidgets.readthedocs.io/en/stable/user_install.html\n",
      "  from .autonotebook import tqdm as notebook_tqdm\n"
     ]
    }
   ],
   "source": [
    "import pandas as pd\n",
    "import numpy as np\n",
    "import matplotlib.pyplot as plt\n",
    "import seaborn as sns\n",
    "from matplotlib.ticker import FuncFormatter\n",
    "import matplotlib.pyplot as plt\n",
    "import logging\n",
    "import datetime\n",
    "from datetime import datetime\n",
    "import nltk\n",
    "from nltk.corpus import stopwords\n",
    "from nltk.tokenize import word_tokenize\n",
    "from nltk.stem import PorterStemmer\n",
    "# Tokenizer and stemmer initialized once\n",
    "stemmer = PorterStemmer()\n",
    "import concurrent.futures\n",
    "from textblob import TextBlob\n",
    "from transformers import BertTokenizer, BertForSequenceClassification\n",
    "import torch\n",
    "import tensorflow as tf\n",
    "import contractions, re\n",
    "import string\n",
    "from transformers import TFBertForSequenceClassification, BertTokenizer\n",
    "import tensorflow as tf\n",
    "from nltk.tokenize import sent_tokenize\n",
    "import spacy\n",
    "# Loading Spacy small model as nlp\n",
    "nlp = spacy.load('en_core_web_sm')\n",
    "from collections import Counter\n",
    "from wordcloud import WordCloud\n",
    "import math\n",
    "# import warnings\n",
    "# warnings.filterwarnings(\"ignore\")\n"
   ]
  },
  {
   "cell_type": "code",
   "execution_count": 2,
   "id": "e9084cb4-cf59-4769-b60f-f5f9d77b477f",
   "metadata": {},
   "outputs": [],
   "source": [
    "transcripts_data = pd.read_pickle(\"motley-fool-data.pkl\")"
   ]
  },
  {
   "cell_type": "code",
   "execution_count": 3,
   "id": "bca2af28-74a6-4b33-a0bf-07c3379092a1",
   "metadata": {
    "scrolled": true
   },
   "outputs": [
    {
     "data": {
      "text/html": [
       "<div>\n",
       "<style scoped>\n",
       "    .dataframe tbody tr th:only-of-type {\n",
       "        vertical-align: middle;\n",
       "    }\n",
       "\n",
       "    .dataframe tbody tr th {\n",
       "        vertical-align: top;\n",
       "    }\n",
       "\n",
       "    .dataframe thead th {\n",
       "        text-align: right;\n",
       "    }\n",
       "</style>\n",
       "<table border=\"1\" class=\"dataframe\">\n",
       "  <thead>\n",
       "    <tr style=\"text-align: right;\">\n",
       "      <th></th>\n",
       "      <th>date</th>\n",
       "      <th>exchange</th>\n",
       "      <th>q</th>\n",
       "      <th>ticker</th>\n",
       "      <th>transcript</th>\n",
       "    </tr>\n",
       "  </thead>\n",
       "  <tbody>\n",
       "    <tr>\n",
       "      <th>0</th>\n",
       "      <td>Aug 27, 2020, 9:00 p.m. ET</td>\n",
       "      <td>NASDAQ: BILI</td>\n",
       "      <td>2020-Q2</td>\n",
       "      <td>BILI</td>\n",
       "      <td>Prepared Remarks:\\nOperator\\nGood day, and wel...</td>\n",
       "    </tr>\n",
       "    <tr>\n",
       "      <th>1</th>\n",
       "      <td>Jul 30, 2020, 4:30 p.m. ET</td>\n",
       "      <td>NYSE: GFF</td>\n",
       "      <td>2020-Q3</td>\n",
       "      <td>GFF</td>\n",
       "      <td>Prepared Remarks:\\nOperator\\nThank you for sta...</td>\n",
       "    </tr>\n",
       "    <tr>\n",
       "      <th>2</th>\n",
       "      <td>Oct 23, 2019, 5:00 p.m. ET</td>\n",
       "      <td>NASDAQ: LRCX</td>\n",
       "      <td>2020-Q1</td>\n",
       "      <td>LRCX</td>\n",
       "      <td>Prepared Remarks:\\nOperator\\nGood day and welc...</td>\n",
       "    </tr>\n",
       "    <tr>\n",
       "      <th>3</th>\n",
       "      <td>Nov 6, 2019, 12:00 p.m. ET</td>\n",
       "      <td>NASDAQ: BBSI</td>\n",
       "      <td>2019-Q3</td>\n",
       "      <td>BBSI</td>\n",
       "      <td>Prepared Remarks:\\nOperator\\nGood day, everyon...</td>\n",
       "    </tr>\n",
       "    <tr>\n",
       "      <th>4</th>\n",
       "      <td>Aug 7, 2019, 8:30 a.m. ET</td>\n",
       "      <td>NASDAQ: CSTE</td>\n",
       "      <td>2019-Q2</td>\n",
       "      <td>CSTE</td>\n",
       "      <td>Prepared Remarks:\\nOperator\\nGreetings and wel...</td>\n",
       "    </tr>\n",
       "  </tbody>\n",
       "</table>\n",
       "</div>"
      ],
      "text/plain": [
       "                         date      exchange        q ticker  \\\n",
       "0  Aug 27, 2020, 9:00 p.m. ET  NASDAQ: BILI  2020-Q2   BILI   \n",
       "1  Jul 30, 2020, 4:30 p.m. ET     NYSE: GFF  2020-Q3    GFF   \n",
       "2  Oct 23, 2019, 5:00 p.m. ET  NASDAQ: LRCX  2020-Q1   LRCX   \n",
       "3  Nov 6, 2019, 12:00 p.m. ET  NASDAQ: BBSI  2019-Q3   BBSI   \n",
       "4   Aug 7, 2019, 8:30 a.m. ET  NASDAQ: CSTE  2019-Q2   CSTE   \n",
       "\n",
       "                                          transcript  \n",
       "0  Prepared Remarks:\\nOperator\\nGood day, and wel...  \n",
       "1  Prepared Remarks:\\nOperator\\nThank you for sta...  \n",
       "2  Prepared Remarks:\\nOperator\\nGood day and welc...  \n",
       "3  Prepared Remarks:\\nOperator\\nGood day, everyon...  \n",
       "4  Prepared Remarks:\\nOperator\\nGreetings and wel...  "
      ]
     },
     "execution_count": 3,
     "metadata": {},
     "output_type": "execute_result"
    }
   ],
   "source": [
    "transcripts_data.head()"
   ]
  },
  {
   "cell_type": "code",
   "execution_count": 4,
   "id": "21777317-0e69-4925-aeb6-4bb576226d47",
   "metadata": {},
   "outputs": [],
   "source": [
    "transcripts_data=transcripts_data[~transcripts_data.duplicated([\"transcript\"])].reset_index(drop=True)"
   ]
  },
  {
   "cell_type": "code",
   "execution_count": 5,
   "id": "56aaeedc-63c9-4212-a0f9-48cc21593bf0",
   "metadata": {
    "scrolled": true
   },
   "outputs": [
    {
     "data": {
      "text/plain": [
       "\"Prepared Remarks:\\nOperator\\nGood day, and welcome to the Bilibili 2020 Second Quarter Earnings Conference Call. Today's conference is being recorded.\\nAt this time, I would like to turn the conference over to Juliet Yang, Senior Director of Investor Relations. Please go ahead.\\nJuliet Yang -- Senior Director of Investor Relations\\nThank you, operator.\\nPlease note the discussion today will contain forward-looking statements relating to the Company's future performance, and are intended to qualify for the Safe Harbor from liability, as established by the US Private Securities Litigation Reform Act. Such statements are not guarantees of future performance and are subject to certain risks and uncertainties, assumptions and other factors. Some of these risks are beyond the Company's control and could cause actual results to differ materially from those mentioned in today's press release and this discussion. A general discussion of the risk factors that could affect Bilibili's business and financial results is included in certain filings of the Company with the Securities and Exchange Commission. The Company does not undertake any obligation to update this forward-looking information, except as required by law.\\nDuring today's call, management will also discuss certain non-GAAP financial measures, for comparison purposes only. For a definition of non-GAAP financial measures and the reconciliation of GAAP to non-GAAP financial results, please see the 2020 second quarter financial results news release issued earlier today.\\nAs a reminder, this conference call is being recorded. In addition, an investor presentation and a webcast replay of this conference call will be available on the Bilibili investor relations website at ir.bilibili.com.\\nJoining us today on the call from Bilibili's senior management are Mr. Rui Chen, Chairman of the Board and Chief Executive Officer; Ms. Carly Lee, Vice Chairwoman of the Board and Chief Operating Officer; and Mr. Sam Fan, Chief Financial Officer.\\nAnd I will now turn the call over to Mr. Fan, who will read the prepared remarks on behalf of Mr. Chen.\\nXin Fan -- Chief Financial Officer\\nThank you, Juliet, and thank you, everyone, for participating in our 2020 second quarter conference call. I'm pleased to deliver today's opening remarks on behalf of Mr. Chen.\\nThe second quarter was another strong quarter of growth for Bilibili. Owing to our increasing diverse content and wider awareness of our brand, we are reaching a much broader audience. For the second quarter, MAUs were 172 million, up 55% and DAUs were up 52% to 51 million, both on a year-over-year basis. Mobile MAUs continued to be our fastest grower, reaching 153 million in the period, up 59% compared to the same period in 2019.\\nAlong with the expanded user base, user engagement continues to be strong. In the second quarter, our users spent an average of 79 minutes per day on our Bilibili app, making us one of the most popular platforms among our peers. As we move into our peak summer season, with solid execution of our initiatives, we're looking forward to further building on our user growth momentum.\\nWe continue to rollout more premium content and services, strengthen our monetization capabilities, and we are increasingly converting traffic to paid users. Our MPUs were up 105% year-over-year, reaching 12.9 million in the second quarter, and our paying ratio improved to 7.5%, compared to 5.7% from the same period last year. These increases fueled our top line growth and we once again reached record high revenues of RMB2.6 billion, beating the high-end of our guidance.\\nOur gross margin expanded to 23% from 16% in the second quarter of last year as we continued to realize more operating leverage.\\nWe remain committed to our user growth focused strategy. After 11 years of cultivation, we believe our content pool is deep and diverse enough to accommodate a much larger user base, and our community is friendly and robust enough to retain those newcomers. Hence, we have made more proactive user growth plans. Our primary areas of focus are on creating additional brand awareness and targeted channel acquisition. In the second quarter, we launched a series of campaigns aimed at spreading the Bilibili brand name among a broader audience, in tandem with expanding our content appeal to a mass market. During our 11th anniversary, we introduced a new slogan Bilibili-All the Videos You Like, helping to define our brand proposition and appeal to a wider base. With this vision in mind, we launched a branding campaign series that started with our blockbuster New Year's Eve gala in the first quarter, followed by the Hou Lang, Ru Hai, Xi Xiang Feng trilogy videos, which all have been widely successful, and we are seeing a clear uptick in brand perception and brand awareness across different demographics. This strategy is working well for us and we are determined to carry on as we move into the summer peak season.\\nLooking ahead, a number of positive industry trends are working in our favor. The adoption of a faster network and smarter hardware is making content creation easier and more accessible to everyone. Particularly, the video industry is emerging as the biggest beneficiary. Video is rapidly becoming the most interactive and influential method to convey information. Building on a decade of experience and leadership in the video community, we are well positioned to capture the growth opportunity.\\nWith that overview, I would like to walk through the latest updates of our content, community, commercialization and strategic growth plans. First, our content. Our PUGV ecosystem remains the cornerstone of our business. For the past decade, we have carefully cultivated our PUGV community, and risen as the clear industry leader. Our effective traffic distribution mechanism and friendly community environment make Bilibili an increasingly attractive platform for content creators. In addition to easy-to-use tools that make the content creation process simpler and more accessible, we launched our new ad platform to bring more commercial opportunities to our content creators. For the second quarter, we had approximately 1.9 million content creators uploading 6 million videos per month, representing increases of 123% and 148%, respectively, both year-over-year.\\nFor the second quarter, our most heavily trafficked verticals were lifestyle, game, entertainment, animation and tech and knowledge. With rapid trends in video content, newcomers and key opinion leaders from other platforms are turning to Bilibili. In the first half of 2020, the number of content creators who submitted their first video creation trial grew by 139% year-over-year. These creative minds open Bilibili up to expanded content categories. For instance, we officially launched a knowledge sector to encourage content creators to share their insights, such as business stories, how-to skills and professional experiences. With our effective operational campaigns and welcoming community atmosphere, knowledge has quickly become the fastest growing sector and we have ever seen -- we have seen excellent traction.\\nTurning to our OGV. We remain as the dominant leader in the animation field with one of China's largest anime libraries. Since beginning of this year, there were three new Chinese animes joined our 100 million video views club, including White Cat Legend, Da Li Si Rizhi, and our self-produced The Daily Life of the Immortal King, Xian Wang de Richang Shenghuo, and Carp Reborn, Yuan Long. Additionally, we plan to rollout more Bilibili-produced Chinese animes, including Ling Cage, Ling Long, A Mortal's Journey, [Foreign Speech] and The Legend of Tang [Foreign Speech]. We believe these new series will attract even more Chinese anime lovers to our platform in this summer.\\nAs a supplement to our vast content library, we expanded variety shows and documentaries continued to resonate with fans and provide good advertising avenues to our business partners. In August, we were excited to introduce our very first self-produced music variety show Rap for Youth [Foreign Speech], sponsored by Alibaba's Juhuasuan. We hope this rap-themed talent show will help further expand our content offerings, while inspiring our content creators and young generations alike.\\nIn the documentary department, we are pleased to have received wide recognition, not only from our users, but also professional institutions. Two of our Bilibili-produced documentaries were nominated by Bai Yu Lan for the Best Documentary Award, including And Yet the Books [Foreign Speech] and Police Stories [Foreign Speech]. The Hidden Kingdoms of China, a documentary that we co-produced with National Geographic, was nominated as the Best Limited Series-Long Form documentary by Jackson Wild Media Award.\\nTurning to our community. Our community size and engagement have been accelerating rapidly. Our platform is more robust than ever, and we are seeing record highs across all of our primary engagement metrics. In the second quarter, our daily video views reached 1.2 billion, up 97% year-over-year. And our users generated nearly 5.2 billion monthly interactions through bullet chats, comments, likes and Bilibili moment posts, nearly three times the amount from the same period in 2019.\\nOur official membership program is on a similar growth track. By the end of the second quarter, we had 89 million official members who passed our 100-question exam, up 65% year-over-year. Retention for this group remains well above 80%, demonstrating the loyalty of our users.\\nTurning to our commercialization progress, I will first review the status of our game business. Revenues from our mobile games business were up 36% year-over-year to RMB1.2 billion, accounting for 48% of our total revenues. Building on our massive and expanding gamer community, our distribution power in the ACG sector is becoming even stronger. In the second quarter, we were excited to add the new blockbuster title Princess Connect! [Foreign Speech] to our game portfolio. This exclusively licensed Japanese RPG was an instant hit after its release in April, and topped China's iOS download and grossing charts multiple times. Our legacy title Fate Grand Order, or FGO, continues to hold a considerable draw for its stable fan base. At the end of June, we were excited to celebrate Azur Lane's three-year anniversary with a major content update and accompanying offline activities. The long life cycles of these games continues to be a strong testimony to our ability to operate and sustain high quality games.\\nLooking at our game pipeline. Currently, we have 11 games that have acquired approvals and are scheduled to be released in the coming months. These include Magia Record, [Foreign Speech], a highly anticipated ACG title adapted by a popular Japanese anime, and Sword Art Online, [Foreign Speech], an exciting MMORPG. Additionally, while strengthening our ACG game operation, we continue to expand offerings in high-quality games. At the end of June -- July, we hosted our first-ever game release event Enter Your Fantasy World, where we introduced 11 exciting titles across different genres. These included simulation game Dark Boom, [Foreign Speech], a self-developed ACG game; [Foreign Speech], a highly anticipated title adapted from our self-owned Chinese anime IP; and, several high-quality ACG titles, [Foreign Speech] and [Foreign Speech]. In August, we are delighted to announce we are going to bring Chinese audiences the mobile version of Fall Guys, [Foreign Speech], an exciting casual Battle Royale game.\\nAs we solidify our game-related content offerings and welcome more game lovers to our platform, Bilibili has become the go-to place for joint operating partners. In the second half of the year, we will continue to work with leading game developers to bring our users premium games such as Mihoyo's Genshin Impact and NetEase's Harry Potter.\\nTurning to our VAS business. Revenues from VAS increased by 153% year-over-year, reaching RMB825 million in the second quarter. Our growth was mainly driven by increased contribution from premium memberships, live broadcasting and other value-added services. We continued to enrich our live broadcasting content and increase the penetration among our growing traffic. As our platform becomes more influential in China's online entertainment industry, we have seen more hosts and talent agencies turning to Bilibili to grow their fan base and maximize their commercial potential.\\nOn the e-sports front, our three-year strategic partnership with Riot Games will significantly enhance our position in this area. We will join forces with Riot Games and the local government to host diversified online and offline activities to promote world-renowned League of Legends World Championship events, while bringing more e-sports lovers to Bilibili.\\nOur premium memberships, which offer additional exclusive or advanced content to paid users, continued to flourish in the second quarter. By the end of June, we had 10.5 million premium members, up 100% year-over-year. These members represent the golden cohort of our most loyal users, who are also the most primed for future cross-selling opportunities. Notably, our comic business is also on the rise. Within two years, Bilibili Comic has grown from scratch to top three comic platforms in China, with over 1 million paid subscribers. As a natural extension from our core ACG content offering, we see great synergy between our main app and Bilibili Comic app with significant room to grow.\\nAs for our advertising business, our growing user base and increased brand awareness make Bilibili a must go-to platform for advertisers. Despite the tough macro economic environment, we grew our advertising business to RMB349 million, up 108% year-over-year and continued to broaden our customer base. The leading industry verticals in the period were games, e-commerce, 3C products, food and beverage and education.\\nIn summary, we had another strong quarter of growth and we are well poised to continue on this trajectory. Building on the positive momentum in the first half of this year, we plan to make additional investments in branding and channels in the coming quarters to further drive user growth and raise brand awareness. We believe these investments will boost our self-fulfilling growth cycle and yield considerable return in the long run. As we reach new heights, our focus will remain on the quality of growth and we will continue to closely monitor the ROI of our marketing expenses. We are confident that our effective strategic initiatives will further fuel our user growth and support our top line expansion as we continue to build value for our Company, investors and growing community of users.\\nThis concludes Mr. Chen's remarks. I will now provide a brief overview of our financial results for the second quarter of 2020.\\nOur total net revenues increased by 70% year-over-year to RMB2.6 billion, exceeding the high end of our guidance. With our games accounting for just under half of our total revenues, we are pleased to -- with the commercialization progress of our non-game offerings and our ability to convert our online traffic into paying users. The average number of monthly paying users increased by 105% year-over-year, reaching 12.9 million in the second quarter.\\nCost of revenues increased by 57% year-over-year to RMB2 billion. Revenue-sharing cost, a key component of cost of revenues, was RMB1 billion, a 79% increase from the same period in 2019.\\nGross profit increased by 140% year-over-year to RMB604 million. We are also starting to see operating leverage from our diversified revenue streams. With more revenue contribution from our higher margin business, as well as additional income from paying users, our gross profit margin continued to improve, reaching 23% in the second quarter.\\nTotal operating expenses increased to RMB1.2 billion, up 103% from the same period in 2019.\\nSelling and marketing expenses were RMB675 million, representing a 181% increase year-over-year. The increase was primarily attributable to the increased channel and marketing expenses associated with Bilibili's app and brand, as well as expenses for the Company's mobile games and selling and marketing personnel.\\nG&A expenses were RMB208 million, representing a 48% increase year-over-year. The increase was primarily due to increased headcount in G&A personnel and increased share-based compensation expenses.\\nR&D expenses were RMB331 million, representing a 53% increase year-over-year. The increase was primarily due to increased headcount in research and development personnel and increased share-based compensation expenses.\\nNet loss was RMB571 million for the second quarter of 2020, compared to RMB315 million in the same period of 2019. Adjusted net loss, which is a non-GAAP measure that excludes share-based compensation expenses and amortization expense related to intangible assets acquired through business acquisitions, was RMB476 million, compared to RMB256 million in the same period of 2019.\\nBasic and diluted net loss per share were RMB1.63. Adjusted basic and diluted net loss per share were RMB1.35.\\nAs of June 30, 2020, we had cash and cash equivalents, time deposits, as well as short-term investments of RMB15.6 billion, or $2.2 billion, compared to RMB8.1 billion as of December 31, 2019.\\nFor the third quarter of 2020, we are currently projecting net revenues to be between RMB3.05 billion and RMB3.10 billion.\\nThank you for your attention. We would like now to open the call to your questions. Operator, please go ahead.\\nQuestions and Answers:\\nOperator\\nThank you, sir. [Operator Instructions] Your first question in queue comes from the line of Alex Poon from Morgan Stanley. Alex, please ask your question. Your line is open.\\nAlex Poon -- Morgan Stanley -- Analyst\\n[Foreign Speech] My first question is regarding the user growth. First half, the user growth is very strong. May I know -- can you share with us the quality and retention and the user profile of the new user growth in first half and about the second half growth and also next year, what is the key focuses of your strategy of user growth? How are you going to balance the user retention and maintain the fast user growth in second half of next year? Thank you very much.\\nRui Chen -- Chairman and Chief Executive Officer\\n[Foreign Speech] I will translate for Mr. Chen. Last year, we have reinforced and reaffirmed user growth will be our key strategic focus and we have been carrying out the strategy efficiently going through the first half of this year, and have made very positive progress.\\nAs for the new user profile you asked, there is no significant change of the new user profile, we still see a lot of new young generations that are coming in. The average age of our new user is about 20 years old. However, we would like to emphasize during the user growth process, we're more focused on the quality over quantity, and the quality of our users can be supported by the daily time spend, daily time spend of 79 minutes per day. And our user engagement were up to 5.2 billion on a monthly basis, and our daily video views reached 1.2 billion. So, all of these numbers supported our users are not growing very -- not only growing very fast, their quality are very, very high.\\n[Foreign Speech] And notably, we've noticed that the new user who come in during the first half of 2020 and also paid for our services within the same period, the ratio has significantly increased compared to the same period last year. And also the new users who came on our platform during 2017, 2018 and 2019 who also stayed and paid for the next few years, their paying ratio is also increasing. So, once again, the -- this set of numbers is a strong testimony of the quality of our new user growth.\\n[Foreign Speech] So here we also wanted to emphasize the methodology of our user growth. The reason why we are very confident in the user growth trajectory is based on the concept that we have been really emphasizing that we use our content to attract user and use our community to retain users. And as you may notice in the first half of this year, we've done some significant progress to allow our content to reach a much broader audiences. And this type of user growth cannot be achieved by purely channel acquisition or user acquisition. If a user comes to our platform simply through the channel acquisition, we cannot retain them if there's no good content. And the key strategy is to allow our content to grow to a much broader category, and this opens up to new -- for us to new demographics.\\n[Foreign Speech] And Bilibili is a community with high engagement level and high retention level. Although our users increased significantly, our overall community maintains the same intensity and continues to be very sticky and with high retention rate.\\n[Foreign Speech] I'll update you the schedule of our user growth plan. So everybody know during Q1, the pandemic period, people have more time in their hands, so that gives us very good window to invest in user growth. And the second quarter, as people are going back to work and return to school, it came to a more stabilized period that we'll be focusing on raising our retention and converting those users to pay users. And notably, we've also made very good progress to raise our brand awareness in the second quarter and achieve pretty good results. And in the Q3 is traditionally strong peak season for us, so that we plan to make additional investment in both brand, as well as channel acquisition.\\n[Foreign Speech] I would also update you with our brand -- branding campaigns. In the second quarter, starting from May, we have made a very successful marketing campaign trilogy profits with Hou Lang, Ru Hai and Xi Xiang Feng, and we believe this series of campaigns as a complete marketing event, which we consider to be the most successful branding campaign among Chinese Internet companies during the second quarter.\\n[Foreign Speech] This proves our ability to not only to do amazing events among young generation, but we also have the ability to touch much wider, broader audiences.\\n[Foreign Speech] And the reason why we want to emphasize on branding campaign is based on our business model, we use content to attract user and community to retain user. As our content continues to evolve to reach broader audiences, one important step, too, is to allow more people to know that Bilibili have so much content to offer, which are in line with our new brand slogan Bilibili-All the Videos You Like.\\n[Foreign Speech] Okay. As far as our Q3 user outlook, we believe we'll reach historical highs during this quarter. And this summer is a little bit special because in July, a majority of the students are still in school, and August is a full month of summer vacation, and September will be the period where students are returning to school. So, in August, we believe we are able to achieve a pretty high MAU target, and on quarterly, monthly average basis we believe we can reach historical high.\\n[Foreign Speech] So, on a single month basis, we believe we can achieve over 200 million MAU target during Q3, on a single month basis.\\nCarly Lee -- Vice Chairwoman and Chief Operating Officer\\n[Foreign Speech] Carly would like to supplement a few points. During our brand upgrade campaign this year, our overall brand exposure has achieved over 5 billion times. And the brand recognition level among -- just among the age brackets in between 17 to 35 has raised to 80% -- I'm sorry, 60%. And in the second half, our main focus will be on to convert people from recognizing Bilibili brand to turning to Bilibili users. And we -- during the second half, the marketing campaign were [Phonetic] surrounded our key activity around the key time slots, such as the summer vacation and returning to school, as well as the League of Legends World Championship and our New Year's Eve Gala and many work-like scenario among young generation and to create new content, new brand campaigns and further drive our user growth.\\nOperator\\nOur next question comes from the line of Lei Zhang from Bank of America Merrill Lynch. Lei, your line is now open.\\nLei Zhang -- Bank of America Merrill Lynch -- Analyst\\n[Foreign Speech] Thanks, management, and congrats on the strong results. My question is actually regarding your game business, which is quite solid in the second quarter. I wonder could you share more color on the performance of Princess Connect!. Specifically, what's your expectation on the longevity for this game?\\nAnd secondly, can you give us some update on your game pipeline? Any game launch we can expect, specifically your expectation about the mobile version of Fall Guys? Thank you.\\nRui Chen -- Chairman and Chief Executive Officer\\n[Foreign Speech] Regarding Princess Connect! Re:Dive, it's like we expect this game will be having very long life cycle, and we expect this game to last quite -- to quite a long period. And for this game, our -- in many aspects, it has broke the historical record. In terms of pre-registered number, we have over 6.5 million people pre-registered, and the newly added user for this game also achieved a record high number. And the success of this game proves two one. One is that the ACG game has become the mainstream of young generation preferences over game genres. And second is, over the years, our ability to operate and sustain our ACG titles have improved significantly. And we're quite confident to continue the success.\\n[Foreign Speech] And for games like Princess Connect!, with such large user base and within the four-month period of operating history, it has been very smooth in terms of operations and technical operations. So, this once again support our testimony that Bilibili is able to operate this genre's game quite well. As for the long life -- the life cycle of this game, we expect it could be something like FGO and to last couple of years.\\n[Foreign Speech] As for our game -- overall game business, currently, we have over 30 games in our pipeline. And those games are not only ACG titles, we have been actively expanding our content offerings across different genres since last year, and we've made a quite good progress on some of the console games, indie games and have received good results.\\n[Foreign Speech] The Fall Guys game that you mentioned is another example of our successful attempt in expanding into new genres. And looking ahead, we'll continue to explore the new genres that will fit to our user demographic.\\n[Foreign Speech] In terms of revenue contribution, we believe ACG titles still have advantage in this area. And in our pipeline, we believe the Sword Art Online: Integral Factor will be a title that could make decent contribution in the revenue department.\\nOperator\\nOur next question comes from the line of Daniel Chen from J.P. Morgan. Daniel, please ask your question. Your line is now open.\\nDaniel Chen -- J.P. Morgan -- Analyst\\n[Foreign Speech] Thanks, management. I have a question on advertising. Our ad revenue growth actually accelerated on a year-over-year basis from -- in the second quarter. Should we expect the ad revenue to sustain such strong momentum in the second half? What are the key drivers behind? Is it brand advertising? Or is it because of performance advertising, including fees? So, what is our expectation for the new ad system we launched in the third quarter for the content providers? Thank you.\\nCarly Lee -- Vice Chairwoman and Chief Operating Officer\\n[Foreign Speech] Overall 2020 is still full of uncertainties and lots of vitality. However, under this challenging macro environment, we still delivered a pretty good advertising growth rate at 108% year-over-year.\\n[Foreign Speech] So Bilibili has a video platform, we are one of the biggest beneficiary in the overall videolization industry trend. And we have observed that the advertisers' budget has shifted from the traditional portal to the video platforms.\\n[Foreign Speech] As we mentioned earlier, we have invested significantly in expanding our brand awareness and raised our brand influence in the first half. And we have become the must go-to platform for advertisers, who wanted to reach the younger generation demographic, at the same time we also become the media center to create viral marketing event. And Bilibili's brand upgrade, brand awareness increases has direct relationship with advertisers' perception toward Bilibili's brand proposition.\\n[Foreign Speech] So, as our user continue to grow and our PUGV ecosystem continue to thrive, we've seen that we've made decent progress in expanding advert content verticals, such as fashion, lifestyle, technology, fitness, as well as autos. So we are also hoping to reach, expand our advertisers' customers into those industry verticals.\\n[Foreign Speech] So during the second quarter, we didn't make any singular marketing campaign toward certain verticals, but rather emphasizing our overall marketing solutions, as well as Bilibili's brand propositions and influence. And it's working well for us. And we aim to continue this strategy going forward.\\n[Foreign Speech] The reason that the supporting system behind our Q2 strong growth is on our improvement in terms of our advertising products and our advertisers verticals, as well as our AI-powered algorithms to improve our ad efficiencies. And we're confident to carry on this good trajectory into the third quarter.\\n[Foreign Speech] So looking ahead in Q3 and Q4, we are quite confident we can deliver a continued growth rate on our advertisement business and to develop a Bilibili specialty advertisement solution campaign.\\n[Foreign Speech] So the area of focus could be on the e-commerce area. Bilibili's vibrant and engaged community has become many e-commerce platforms' ideal platform to promote shopping festivals and shopping events. So in the second half of this year, this could be a rising sector for us.\\n[Foreign Speech] So as our content verticals expansion, we are quite confident to also expand our advertisers in those verticals.\\n[Foreign Speech] The third point would be on the continuous improvement on our algorithm. We will continue to invest in improving our advertisement efficiency to increase our advertisers' ROI. And the fourth point is on the big events in the second half, there could be new variety shows, as well as new events and gala. And this type of Bilibili specialty event has become the advertisers' favorite advertising avenues to reach young audiences.\\n[Foreign Speech] So the Sparkle [Phonetic] platform is a new platform we launched to help our content creators to connect with brand advertisers. And this platform provides our content creators, a pricing system, order management, as well as settlement services. We're hoping this platform will better serve our content creators to increase and expand their commercial potentials and increase their incomes.\\n[Foreign Speech] Since its launch in July, we have over 8,000 content creator have already participated and signed up for this platform. For the GMV, we'll disclose when we reach a certain milestone.\\n[Foreign Speech] And lastly, we'll continue to focus on ways of improving our data power to provide better decision making assistance, pre-sale or post-sale and to increase our content creators' earning power.\\nOperator\\nYour next question comes from the line of Alex Liu from China Renaissance. Alex, please ask your question. Your line is now open.\\nAlex Liu -- China Renaissance Securities Limited -- Analyst\\n[Foreign Speech] I'll translate myself very quickly. Just wondering what are the major difference in terms of operating know-how and the roadmap between live streaming business and all the core business. Should we consider live streaming as a business that requires some time of incubations and will reach an inflection point on user adoptions? If that's the case, how far are we standing from that inflection point? Thank you.\\nRui Chen -- Chairman and Chief Executive Officer\\n[Foreign Speech] Live broadcasting business is, as we mentioned earlier, has always been a part of our content ecosystem. This is not a singular commercialization avenue for us, but also an important part of our content. A live broadcasting also provides a very good avenue for our content creators to activate and retain their followers, as well as for them to increase their commercialization potential.\\n[Foreign Speech] So, in the past few years, you may have noticed there's such heavy competition among other live broadcasting platform. However, Bilibili has remained within our own self-sustaining ecosystem that continuously helped talented content creators rising above, and they become our live broadcasting host and are providing very good content. This is quite different. Bilibili's business, live broadcasting business is quite different from other singular live broadcasting platform.\\n[Foreign Speech] Our content offering on the live broadcasting business is actually mirroring what we have to offer on the video platform. For example, our popular game-related video would also be our popular live broadcasting content. And hence that, on Bilibili's live broadcasting verticals, games and talent shows and lifestyle-related content are the top verticals.\\n[Foreign Speech] So you may have seen on our platform, a lot of the popular live broadcasting hosts are also our top popular top content creators. And there are two key factors among the live broadcasting industry. One is the good base of live broadcasting host, and second is a good base of users. And we believe we have these particular audiences for the two factors. We have both the highest quality content creator as, aka, our live broadcasting host, and we also have a very high-quality set of users who love to watch live broadcasting content.\\n[Foreign Speech] So compared to other live broadcasting platforms, you're right about the revenue trajectory, we tend to have more stable growth instead of a sharply increased circle because their platform might pursuing [Phonetic] the signing top content host, which will drive the revenue in a short-term. But the merits of our business model is we tend to have a more stable and sustaining life cycle and our content creator, the live broadcasting hosts life cycle will also tend to be longer period.\\n[Foreign Speech] We're quite confident to become the best platform for video content creators, given that the video equals live broadcasting content on our platform, we're also quite confident that will become one of the most popular live broadcasting platform in the future.\\nOperator\\nAnd that concludes the question-and-answer session. I would like to turn the conference back over to management for any additional or closing comments.\\nJuliet Yang -- Senior Director of Investor Relations\\nThank you once again for joining us today. If you have any further questions, please contact myself, Juliet Yang, Bilibili's Senior IR Director or TPG Investor Relations. Our contact information for IR in both China and the US can be found on today's press release. Have a great day.\\nOperator\\n[Operator Closing Remarks]\\nDuration: 61 minutes\\nCall participants:\\nJuliet Yang -- Senior Director of Investor Relations\\nXin Fan -- Chief Financial Officer\\nRui Chen -- Chairman and Chief Executive Officer\\nCarly Lee -- Vice Chairwoman and Chief Operating Officer\\nAlex Poon -- Morgan Stanley -- Analyst\\nLei Zhang -- Bank of America Merrill Lynch -- Analyst\\nDaniel Chen -- J.P. Morgan -- Analyst\\nAlex Liu -- China Renaissance Securities Limited -- Analyst\\nMore BILI analysis\\nAll earnings call transcripts\\n\\n\\n\\n\\n\""
      ]
     },
     "execution_count": 5,
     "metadata": {},
     "output_type": "execute_result"
    }
   ],
   "source": [
    "transcripts_data[\"transcript\"].iloc[0]"
   ]
  },
  {
   "cell_type": "code",
   "execution_count": 6,
   "id": "fe200a32-b485-47e6-8dfc-855cd13a23fe",
   "metadata": {},
   "outputs": [],
   "source": [
    "transcripts_data_google = transcripts_data[transcripts_data[\"ticker\"]==\"GOOGL\"]"
   ]
  },
  {
   "cell_type": "code",
   "execution_count": 7,
   "id": "6e4f68db-b627-4370-9a19-b5101c8dd4df",
   "metadata": {},
   "outputs": [
    {
     "name": "stderr",
     "output_type": "stream",
     "text": [
      "/var/folders/5h/1cc6fvqn1nsf3cqhcndrlz280000gn/T/ipykernel_69591/3932416784.py:23: SettingWithCopyWarning: \n",
      "A value is trying to be set on a copy of a slice from a DataFrame.\n",
      "Try using .loc[row_indexer,col_indexer] = value instead\n",
      "\n",
      "See the caveats in the documentation: https://pandas.pydata.org/pandas-docs/stable/user_guide/indexing.html#returning-a-view-versus-a-copy\n",
      "  transcripts_data_google[['participants', 'excluded_participants']] = transcripts_data_google['transcript'].apply(lambda x: pd.Series(extract_participants_and_exclude(x)))\n",
      "/var/folders/5h/1cc6fvqn1nsf3cqhcndrlz280000gn/T/ipykernel_69591/3932416784.py:23: SettingWithCopyWarning: \n",
      "A value is trying to be set on a copy of a slice from a DataFrame.\n",
      "Try using .loc[row_indexer,col_indexer] = value instead\n",
      "\n",
      "See the caveats in the documentation: https://pandas.pydata.org/pandas-docs/stable/user_guide/indexing.html#returning-a-view-versus-a-copy\n",
      "  transcripts_data_google[['participants', 'excluded_participants']] = transcripts_data_google['transcript'].apply(lambda x: pd.Series(extract_participants_and_exclude(x)))\n"
     ]
    }
   ],
   "source": [
    "# Function to extract participants from the transcript and exlude the ones asking questions\n",
    "def extract_participants_and_exclude(transcript):\n",
    "    # Regular expression to capture participants under \"Call participants\" which we see in the end of the transcript\n",
    "    participants_pattern = r\"Call participants:(.*?)(?=\\nMore|\\nAll|\\Z)\"\n",
    "    \n",
    "    # Find participants using the pattern\n",
    "    match = re.search(participants_pattern, transcript, re.DOTALL)\n",
    "    if match:\n",
    "        participants_text = match.group(1)\n",
    "        \n",
    "        # Split participants into a list\n",
    "        participants_list = participants_text.strip().split(\"\\n\")\n",
    "        \n",
    "        # if participants with company names then they are not from the company\n",
    "        included_participants = [participant for participant in participants_list if len(participant.split(\" -- \")) == 2]\n",
    "        excluded_participants = [participant for participant in participants_list if len(participant.split(\" -- \")) != 2]\n",
    "        \n",
    "        return included_participants, excluded_participants\n",
    "    else:\n",
    "        return [], []\n",
    "\n",
    "# Apply the function to the 'transcript' column\n",
    "transcripts_data_google[['participants', 'excluded_participants']] = transcripts_data_google['transcript'].apply(lambda x: pd.Series(extract_participants_and_exclude(x)))\n"
   ]
  },
  {
   "cell_type": "code",
   "execution_count": 8,
   "id": "4f81543f-d20a-4cc1-9b3a-60331bd8a1c1",
   "metadata": {},
   "outputs": [
    {
     "data": {
      "text/html": [
       "<div>\n",
       "<style scoped>\n",
       "    .dataframe tbody tr th:only-of-type {\n",
       "        vertical-align: middle;\n",
       "    }\n",
       "\n",
       "    .dataframe tbody tr th {\n",
       "        vertical-align: top;\n",
       "    }\n",
       "\n",
       "    .dataframe thead th {\n",
       "        text-align: right;\n",
       "    }\n",
       "</style>\n",
       "<table border=\"1\" class=\"dataframe\">\n",
       "  <thead>\n",
       "    <tr style=\"text-align: right;\">\n",
       "      <th></th>\n",
       "      <th>date</th>\n",
       "      <th>exchange</th>\n",
       "      <th>q</th>\n",
       "      <th>ticker</th>\n",
       "      <th>transcript</th>\n",
       "      <th>participants</th>\n",
       "      <th>excluded_participants</th>\n",
       "    </tr>\n",
       "  </thead>\n",
       "  <tbody>\n",
       "    <tr>\n",
       "      <th>313</th>\n",
       "      <td>Jul 27, 2021, 4:30 p.m. ET</td>\n",
       "      <td>NASDAQ: GOOGL</td>\n",
       "      <td>2021-Q2</td>\n",
       "      <td>GOOGL</td>\n",
       "      <td>Prepared Remarks:\\nOperator\\nWelcome, everyone...</td>\n",
       "      <td>[Jim Friedland -- Director of Investor Relatio...</td>\n",
       "      <td>[Brian Nowak -- Morgan Stanley -- Analyst, Dou...</td>\n",
       "    </tr>\n",
       "    <tr>\n",
       "      <th>634</th>\n",
       "      <td>April 28, 2020, 4:30 p.m. ET</td>\n",
       "      <td>NASDAQ: GOOGL</td>\n",
       "      <td>2020-Q1</td>\n",
       "      <td>GOOGL</td>\n",
       "      <td>Prepared Remarks:\\nOperator\\nLadies and gentle...</td>\n",
       "      <td>[Jim Friedland -- Director of Investor Relatio...</td>\n",
       "      <td>[Eric Sheridan -- UBS -- Analyst, Doug Anmuth ...</td>\n",
       "    </tr>\n",
       "    <tr>\n",
       "      <th>770</th>\n",
       "      <td>Apr 27, 2021, 5:00 p.m. ET</td>\n",
       "      <td>NASDAQ: GOOGL</td>\n",
       "      <td>2021-Q1</td>\n",
       "      <td>GOOGL</td>\n",
       "      <td>Prepared Remarks:\\nOperator\\nWelcome everyone,...</td>\n",
       "      <td>[Jim Friedland -- Director of Investor Relatio...</td>\n",
       "      <td>[Brian Nowak -- Morgan Stanley -- Analyst, Dou...</td>\n",
       "    </tr>\n",
       "    <tr>\n",
       "      <th>894</th>\n",
       "      <td>April 29, 2019, 4:30 p.m. ET</td>\n",
       "      <td>NASDAQ: GOOGL</td>\n",
       "      <td>2019-Q1</td>\n",
       "      <td>GOOGL</td>\n",
       "      <td>Prepared Remarks:\\nOperator\\nGood day, ladies ...</td>\n",
       "      <td>[Ellen West -- Vice President, Investor Relati...</td>\n",
       "      <td>[Eric Sheridan -- UBS -- Analyst, Doug Anmuth ...</td>\n",
       "    </tr>\n",
       "    <tr>\n",
       "      <th>954</th>\n",
       "      <td>Feb 2, 2021, 5:00 p.m. ET</td>\n",
       "      <td>NASDAQ: GOOGL</td>\n",
       "      <td>2020-Q4</td>\n",
       "      <td>GOOGL</td>\n",
       "      <td>Prepared Remarks:\\nOperator\\nWelcome everyone ...</td>\n",
       "      <td>[Jim Friedland -- Director of Investor Relatio...</td>\n",
       "      <td>[Eric Sheridan -- UBS -- Analyst, Doug Anmuth ...</td>\n",
       "    </tr>\n",
       "    <tr>\n",
       "      <th>1132</th>\n",
       "      <td>[Alphabet Inc. (GOOG 0.81%) (GOOGL 0.73%)Q4 20...</td>\n",
       "      <td>NASDAQ: GOOGL</td>\n",
       "      <td>2017-Q4</td>\n",
       "      <td>GOOGL</td>\n",
       "      <td>Prepared Remarks:\\nOperator\\nGood day, ladies ...</td>\n",
       "      <td>[Ellen West -- Head of Investor Relations, Rut...</td>\n",
       "      <td>[Eric J. Sheridan -- UBS Securities LLC -- Ana...</td>\n",
       "    </tr>\n",
       "    <tr>\n",
       "      <th>1446</th>\n",
       "      <td>Feb 01, 2022, 5:00 p.m. ET</td>\n",
       "      <td>NASDAQ: GOOGL</td>\n",
       "      <td>2021-Q4</td>\n",
       "      <td>GOOGL</td>\n",
       "      <td>Prepared Remarks:\\nOperator\\nWelcome, everyone...</td>\n",
       "      <td>[Jim Friedland -- Director of Investor Relatio...</td>\n",
       "      <td>[Doug Anmuth -- J.P. Morgan -- Analyst, Eric S...</td>\n",
       "    </tr>\n",
       "    <tr>\n",
       "      <th>1491</th>\n",
       "      <td>Oct 26, 2021, 4:30 p.m. ET</td>\n",
       "      <td>NASDAQ: GOOGL</td>\n",
       "      <td>2021-Q3</td>\n",
       "      <td>GOOGL</td>\n",
       "      <td>Prepared Remarks:\\nOperator\\nWelcome, everyone...</td>\n",
       "      <td>[James Friedland -- Director of Investor Relat...</td>\n",
       "      <td>[Eric Sheridan -- Goldman Sachs -- Analyst, Br...</td>\n",
       "    </tr>\n",
       "    <tr>\n",
       "      <th>2760</th>\n",
       "      <td>[Alphabet Inc Class C (GOOGL 0.75%) (GOOG 0.84...</td>\n",
       "      <td>NASDAQ: GOOGL</td>\n",
       "      <td>2018-Q4</td>\n",
       "      <td>GOOGL</td>\n",
       "      <td>Prepared Remarks:\\nOperator\\nGood day, ladies ...</td>\n",
       "      <td>[Ellen West -- Head of Investor Relations, Rut...</td>\n",
       "      <td>[Eric Sheridan -- UBS Securities LLC -- Analys...</td>\n",
       "    </tr>\n",
       "    <tr>\n",
       "      <th>3281</th>\n",
       "      <td>Jul 26, 2022, 5:00 p.m. ET</td>\n",
       "      <td>NASDAQ: GOOGL</td>\n",
       "      <td>2022-Q2</td>\n",
       "      <td>GOOGL</td>\n",
       "      <td>Prepared Remarks:\\nOperator\\nWelcome, everyone...</td>\n",
       "      <td>[Jim Friedland -- Director of Investor Relatio...</td>\n",
       "      <td>[Douglas Anmuth -- J.P. Morgan -- Analyst, Bri...</td>\n",
       "    </tr>\n",
       "    <tr>\n",
       "      <th>3409</th>\n",
       "      <td>Oct 29, 2020, 4:30 p.m. ET</td>\n",
       "      <td>NASDAQ: GOOGL</td>\n",
       "      <td>2020-Q3</td>\n",
       "      <td>GOOGL</td>\n",
       "      <td>Prepared Remarks:\\nOperator\\nLadies and gentle...</td>\n",
       "      <td>[Jim Friedland -- Director of Investor Relatio...</td>\n",
       "      <td>[Eric Sheridan -- UBS -- Analyst, Doug Anmuth ...</td>\n",
       "    </tr>\n",
       "    <tr>\n",
       "      <th>4510</th>\n",
       "      <td>Jul. 30, 2020, 4:30 p.m. ET</td>\n",
       "      <td>NASDAQ: GOOGL</td>\n",
       "      <td>2020-Q2</td>\n",
       "      <td>GOOGL</td>\n",
       "      <td>Prepared Remarks:\\nOperator\\nLadies and gentle...</td>\n",
       "      <td>[Jim Friedland -- Director of Investor Relatio...</td>\n",
       "      <td>[Eric Sheridan -- UBS -- Analyst, Doug Anmuth ...</td>\n",
       "    </tr>\n",
       "    <tr>\n",
       "      <th>11144</th>\n",
       "      <td>Apr 26, 2022, 5:00 p.m. ET</td>\n",
       "      <td>NASDAQ: GOOGL</td>\n",
       "      <td>2022-Q1</td>\n",
       "      <td>GOOGL</td>\n",
       "      <td>Prepared Remarks:\\nOperator\\nWelcome, everyone...</td>\n",
       "      <td>[Jim Friedland -- Director of Investor Relatio...</td>\n",
       "      <td>[Brian Nowak -- Morgan Stanley -- Analyst, Eri...</td>\n",
       "    </tr>\n",
       "    <tr>\n",
       "      <th>12135</th>\n",
       "      <td>Feb 02, 2023, 4:30 p.m. ET</td>\n",
       "      <td>NASDAQ: GOOGL</td>\n",
       "      <td>2022-Q4</td>\n",
       "      <td>GOOGL</td>\n",
       "      <td>Prepared Remarks:\\nOperator\\nWelcome, everyone...</td>\n",
       "      <td>[Jim Friedland -- Director, Investor Relations...</td>\n",
       "      <td>[Brian Nowak -- Morgan Stanley -- Analyst, Mic...</td>\n",
       "    </tr>\n",
       "    <tr>\n",
       "      <th>15452</th>\n",
       "      <td>Oct 25, 2022, 5:00 p.m. ET</td>\n",
       "      <td>NASDAQ: GOOGL</td>\n",
       "      <td>2022-Q3</td>\n",
       "      <td>GOOGL</td>\n",
       "      <td>Prepared Remarks:\\nOperator\\nWelcome, everyone...</td>\n",
       "      <td>[Jim Friedland -- Director of Investor Relatio...</td>\n",
       "      <td>[Eric Sheridan -- Goldman Sachs -- Analyst, Br...</td>\n",
       "    </tr>\n",
       "  </tbody>\n",
       "</table>\n",
       "</div>"
      ],
      "text/plain": [
       "                                                    date       exchange  \\\n",
       "313                           Jul 27, 2021, 4:30 p.m. ET  NASDAQ: GOOGL   \n",
       "634                         April 28, 2020, 4:30 p.m. ET  NASDAQ: GOOGL   \n",
       "770                           Apr 27, 2021, 5:00 p.m. ET  NASDAQ: GOOGL   \n",
       "894                         April 29, 2019, 4:30 p.m. ET  NASDAQ: GOOGL   \n",
       "954                            Feb 2, 2021, 5:00 p.m. ET  NASDAQ: GOOGL   \n",
       "1132   [Alphabet Inc. (GOOG 0.81%) (GOOGL 0.73%)Q4 20...  NASDAQ: GOOGL   \n",
       "1446                          Feb 01, 2022, 5:00 p.m. ET  NASDAQ: GOOGL   \n",
       "1491                          Oct 26, 2021, 4:30 p.m. ET  NASDAQ: GOOGL   \n",
       "2760   [Alphabet Inc Class C (GOOGL 0.75%) (GOOG 0.84...  NASDAQ: GOOGL   \n",
       "3281                          Jul 26, 2022, 5:00 p.m. ET  NASDAQ: GOOGL   \n",
       "3409                          Oct 29, 2020, 4:30 p.m. ET  NASDAQ: GOOGL   \n",
       "4510                         Jul. 30, 2020, 4:30 p.m. ET  NASDAQ: GOOGL   \n",
       "11144                         Apr 26, 2022, 5:00 p.m. ET  NASDAQ: GOOGL   \n",
       "12135                         Feb 02, 2023, 4:30 p.m. ET  NASDAQ: GOOGL   \n",
       "15452                         Oct 25, 2022, 5:00 p.m. ET  NASDAQ: GOOGL   \n",
       "\n",
       "             q ticker                                         transcript  \\\n",
       "313    2021-Q2  GOOGL  Prepared Remarks:\\nOperator\\nWelcome, everyone...   \n",
       "634    2020-Q1  GOOGL  Prepared Remarks:\\nOperator\\nLadies and gentle...   \n",
       "770    2021-Q1  GOOGL  Prepared Remarks:\\nOperator\\nWelcome everyone,...   \n",
       "894    2019-Q1  GOOGL  Prepared Remarks:\\nOperator\\nGood day, ladies ...   \n",
       "954    2020-Q4  GOOGL  Prepared Remarks:\\nOperator\\nWelcome everyone ...   \n",
       "1132   2017-Q4  GOOGL  Prepared Remarks:\\nOperator\\nGood day, ladies ...   \n",
       "1446   2021-Q4  GOOGL  Prepared Remarks:\\nOperator\\nWelcome, everyone...   \n",
       "1491   2021-Q3  GOOGL  Prepared Remarks:\\nOperator\\nWelcome, everyone...   \n",
       "2760   2018-Q4  GOOGL  Prepared Remarks:\\nOperator\\nGood day, ladies ...   \n",
       "3281   2022-Q2  GOOGL  Prepared Remarks:\\nOperator\\nWelcome, everyone...   \n",
       "3409   2020-Q3  GOOGL  Prepared Remarks:\\nOperator\\nLadies and gentle...   \n",
       "4510   2020-Q2  GOOGL  Prepared Remarks:\\nOperator\\nLadies and gentle...   \n",
       "11144  2022-Q1  GOOGL  Prepared Remarks:\\nOperator\\nWelcome, everyone...   \n",
       "12135  2022-Q4  GOOGL  Prepared Remarks:\\nOperator\\nWelcome, everyone...   \n",
       "15452  2022-Q3  GOOGL  Prepared Remarks:\\nOperator\\nWelcome, everyone...   \n",
       "\n",
       "                                            participants  \\\n",
       "313    [Jim Friedland -- Director of Investor Relatio...   \n",
       "634    [Jim Friedland -- Director of Investor Relatio...   \n",
       "770    [Jim Friedland -- Director of Investor Relatio...   \n",
       "894    [Ellen West -- Vice President, Investor Relati...   \n",
       "954    [Jim Friedland -- Director of Investor Relatio...   \n",
       "1132   [Ellen West -- Head of Investor Relations, Rut...   \n",
       "1446   [Jim Friedland -- Director of Investor Relatio...   \n",
       "1491   [James Friedland -- Director of Investor Relat...   \n",
       "2760   [Ellen West -- Head of Investor Relations, Rut...   \n",
       "3281   [Jim Friedland -- Director of Investor Relatio...   \n",
       "3409   [Jim Friedland -- Director of Investor Relatio...   \n",
       "4510   [Jim Friedland -- Director of Investor Relatio...   \n",
       "11144  [Jim Friedland -- Director of Investor Relatio...   \n",
       "12135  [Jim Friedland -- Director, Investor Relations...   \n",
       "15452  [Jim Friedland -- Director of Investor Relatio...   \n",
       "\n",
       "                                   excluded_participants  \n",
       "313    [Brian Nowak -- Morgan Stanley -- Analyst, Dou...  \n",
       "634    [Eric Sheridan -- UBS -- Analyst, Doug Anmuth ...  \n",
       "770    [Brian Nowak -- Morgan Stanley -- Analyst, Dou...  \n",
       "894    [Eric Sheridan -- UBS -- Analyst, Doug Anmuth ...  \n",
       "954    [Eric Sheridan -- UBS -- Analyst, Doug Anmuth ...  \n",
       "1132   [Eric J. Sheridan -- UBS Securities LLC -- Ana...  \n",
       "1446   [Doug Anmuth -- J.P. Morgan -- Analyst, Eric S...  \n",
       "1491   [Eric Sheridan -- Goldman Sachs -- Analyst, Br...  \n",
       "2760   [Eric Sheridan -- UBS Securities LLC -- Analys...  \n",
       "3281   [Douglas Anmuth -- J.P. Morgan -- Analyst, Bri...  \n",
       "3409   [Eric Sheridan -- UBS -- Analyst, Doug Anmuth ...  \n",
       "4510   [Eric Sheridan -- UBS -- Analyst, Doug Anmuth ...  \n",
       "11144  [Brian Nowak -- Morgan Stanley -- Analyst, Eri...  \n",
       "12135  [Brian Nowak -- Morgan Stanley -- Analyst, Mic...  \n",
       "15452  [Eric Sheridan -- Goldman Sachs -- Analyst, Br...  "
      ]
     },
     "execution_count": 8,
     "metadata": {},
     "output_type": "execute_result"
    }
   ],
   "source": [
    "transcripts_data_google"
   ]
  },
  {
   "cell_type": "code",
   "execution_count": 9,
   "id": "e178d775-c870-4c49-96ae-8b1a6c16ac71",
   "metadata": {
    "scrolled": true
   },
   "outputs": [
    {
     "data": {
      "text/plain": [
       "['Brian Nowak -- Morgan Stanley -- Analyst',\n",
       " 'Doug Anmuth -- J.P. Morgan -- Analyst',\n",
       " 'Justin Post -- Bank of America -- Analyst',\n",
       " 'Colin Sebastian -- Robert W. Baird -- Analyst',\n",
       " 'Brent Thill -- Jefferies -- Analyst',\n",
       " 'Mark Mahaney -- Evercore ISI -- Analyst',\n",
       " 'Michael Nathanson -- MoffettNathanson -- Analyst',\n",
       " 'Jason Bazinet -- Citi -- Analyst']"
      ]
     },
     "execution_count": 9,
     "metadata": {},
     "output_type": "execute_result"
    }
   ],
   "source": [
    "transcripts_data_google[\"excluded_participants\"].iloc[0]"
   ]
  },
  {
   "cell_type": "code",
   "execution_count": 10,
   "id": "67603f82-f1dd-4f55-8f30-9740df171804",
   "metadata": {},
   "outputs": [
    {
     "data": {
      "text/plain": [
       "['Jim Friedland -- Director of Investor Relations',\n",
       " 'Sundar Pichai -- Chief Executive Officer',\n",
       " 'Philipp Schindler -- Chief Business Officer',\n",
       " 'Ruth Porat -- Chief Financial Officer']"
      ]
     },
     "execution_count": 10,
     "metadata": {},
     "output_type": "execute_result"
    }
   ],
   "source": [
    "transcripts_data_google[\"participants\"].iloc[0]"
   ]
  },
  {
   "cell_type": "code",
   "execution_count": 11,
   "id": "87fb072d-dfff-4e72-afac-be4e95f1c072",
   "metadata": {
    "scrolled": true
   },
   "outputs": [
    {
     "data": {
      "text/plain": [
       "\"Prepared Remarks:\\nOperator\\nWelcome, everyone. Thank you for standing by for the Alphabet Second Quarter 2021 Earnings Conference Call. [Operator Instructions]\\nI would now like to hand the conference over to your speaker today, Jim Friedland, Director of Investor Relations. Please go ahead.\\nJim Friedland -- Director of Investor Relations\\nThank you. Good afternoon everyone and welcome to Alphabet's second quarter earnings conference call. With us today are Sundar Pichai, Philipp Schindler and Ruth Porat.\\nNow, I'll quickly cover the Safe Harbor. Some of the statements that we make today regarding our business, operations and financial performance, including the effect of the COVID-19 pandemic on those areas may be considered forward-looking and such statements involve a number of risks and uncertainties that could cause actual results to differ materially. For more information, please refer to the risk factors discussed in our most recent Form 10-K filed with the SEC.\\nDuring this call, we will present both GAAP and non-GAAP financial measures. A reconciliation of non-GAAP to GAAP measures is included in today's earnings press release, which is distributed and available to the public through our Investor Relations website located at abc.xyz/investor.\\nAnd now I'll turn the call over to Sundar.\\nSundar Pichai -- Chief Executive Officer\\nThank you, Jim, and good afternoon, everyone. It's good to be with you. Today, I'll give an overview of the quarter, going through some of our product momentum, then touching on Cloud and YouTube.\\nFirst, I want to acknowledge that the new COVID-19 variants have been challenging for so many communities across the world. As the pandemic evolves, we want to help people get the information they need to keep themselves and their families safe. I really encourage everyone to get the vaccine when it's available to you.\\nTurning to the quarter, we saw a rising tide of online consumer and business activity. We are proud that our services helped so many businesses and partners. In fact, we set a number of records this quarter. This quarter, publisher partners earned more than they ever have from our network. We also paid more to YouTube creators and partners than in any quarter in our history. And on top of that, over the past year, we have sent more traffic to third-party websites than any year prior in addition to generating billions of direct connections like phone calls, directions, ordering food and making reservations that drove customers and revenue to businesses around the world that are working to get back on their feet.\\nA few years ago, we placed a bet on AI believing that it would be a fundamental technology that would underpin and dramatically improve all our products. That vision was on full display at our I/O event in May where we announced new advancements that will be helpful to people and businesses everywhere. As one example, we introduced Multitask Unified Models or MUM. MUM is a big advancement in Search, a 1,000 times more powerful than our current systems. It has the ability to learn and transfer knowledge across 75 languages, which means that it can learn from sources in one language and help bring that information to you in another.\\nWe also announced a new AI system called Lambda that achieves a new level of natural conversation capabilities. We think Lambda will help make information and computing more accessible and we are excited about this early stage research. And last week, DeepMind shared its new AlphaFold Protein Structure Database, which doubled the number of high accuracy human protein structures available to researchers. In the coming months, it will include almost every sequence protein known to science.\\nTurning to Android. We previewed Android 12 at Google I/O. The latest version will include new ways to personalize devices and significantly improved speed and power efficiency. We have built new privacy protections directly into the OS. So there's a new privacy dashboard to help people keep information safe and private. Android 12 will, of course, be central to Google phone devices. I'm very excited by our fall lineup which will showcase Android 12 and some of the deep technology investments that are helping us push boundaries. Pixel remains at the heart of that long-term strategy and I'm proud of how the team continues to deliver the best of Google through our family of helpful devices, including Nest and Fitbit. You can see all of these devices at our first retail store in New York City and I'm looking forward to seeing some new ones there soon.\\nWe are also seeing developers getting tremendous benefit from Google Play. Through the end of Q2, over $120 billion has been earned cumulatively by developers around the world from Google Play. Let me talk a bit more about Cloud. Q2 revenue grew 54% year-over-year. Our innovative products, focused go-to-market strategy and growing ecosystem are driving our momentum. Organizations across industries are choosing Google Cloud as their platform for digital transformation, including SAP customers like PayPal, Johnson Controls and Whirlpool, who have deployed SAP environments on Google Cloud.\\nThis quarter we saw three distinct trends. First, the increase in cyber and ransomware attacks is a wakeup call for the industry. Over two decades, Google has built some of the most secure computing systems in the world. And we are proud that our Google Cloud customers can benefit from our experience here. Customers like Major League Baseball are partnering with Google Cloud to further enhance their security program. We pioneered the zero trust approach, an architecture that builds in multiple layers of defense against unauthorized access. This approach and other security solutions help customers minimize the impact of cyber attacks and prevent them completely. At our Cloud Security Summit last week, we announced new solutions across our portfolio of products. BT is bringing our new security operation solutions based on Chronicle to the managed security services market. And Adobe and the State of Wisconsin are helping protect users with our fraud detection product.\\nSecond, our expertise in real-time data and analytics continues to differentiate us in the Data Cloud; one of the fastest growing segments of the market. BigQuery is not only a data warehouse, it's a platform for customer innovation and it's helping drive our strong year-over-year growth with customers like HCA Healthcare, who will be using BigQuery to analyze data to improve clinical care. Additionally, our deep expertise in AI and machine learning remains a key differentiator, winning customers like Groupe Casino and leading to partnerships with industrial automation leaders like Siemens. Our focus on delivering industry-specific solutions, coupled with our secure open cloud infrastructure, enable us to support leading telecommunications companies such as Reliance Jio, Telecom Italia Tim and Ericsson to work together on applications and new solutions for 5G networks and mobile edge computing. These join existing customers Vodafone, Telus and many others.\\nThird, Google Workspace continues to show strong growth, particularly in the enterprise space because we have designed the product to meet the challenges of hybrid work. This includes the announcements we made at I/O about smart cameras, as well as expanding our advanced security and compliance capabilities and solutions for frontline workers. These innovations are landing wins with companies like Carvana, the online auto retailer and software company Red Hat.\\nTurning next to YouTube. YouTube Shorts continues to gain momentum. We've been rolling it out everywhere YouTube is available, in more than 100 countries worldwide. I'm proud to announce that YouTube Shorts has just surpassed 15 billion daily views. And also pleased with the progress we are making with YouTube subscription products across Music, Premium and YouTube TV, each delivering a fantastic experience and content for viewers.\\nAnd, finally, Waymo continues to build and commercialize the Waymo Driver and grow the team. People love the fully autonomous ride hailing service in Phoenix. Since first launching its services to the public in October 2020, Waymo has safely served tens of thousands of rides without a human driver in the vehicle and we look forward to many more.\\nBefore I close, let me call out our continued work on sustainability, which has been a core value for us since our founding. As you'll recall, we were the first to announce an ambitious goal that will be transformative for the industry. We aim to operate on 24/7 carbon-free energy by 2030. In Q2, we announced that five of our data centers are already operating at or near 90% carbon-free energy. To help us reach our target everywhere, we implemented a system to shift flexible computing tasks to different times and places with greater availability of carbon-free energy, and we are working to enable geothermal power in more places starting in Nevada next year.\\nI want to thank all our employees around the world for their contributions to a great quarter. I know it's been a challenging 18 months. Through it all, taking care of everyone in our workforce has remained a top priority. Now, we are reimagining the future of work with flexibility as a guiding principle. I was excited to see so many people in person as we started a voluntary return to our California offices recently. As we make our way back, we are giving employees more flexibility in how and where they work and we'll continue to invest in our sites in the U.S. and elsewhere.\\nOver to Philipp.\\nPhilipp Schindler -- Chief Business Officer\\nThanks, Sundar, and hello everyone. It's great to be with you today. We are pleased with the growth in Google Services revenues in the second quarter. Year-on-year performance reflects elevated consumer online activity, broad-based strength in advertiser spend and the lapping of the first ever revenue decline in our Ads business last year due to COVID. In the second quarter, retail again was, by far, the largest contributor to the year-on-year growth of our Ads business. Travel, financial services and media and entertainment were also strong contributors.\\nLet's now take a few minutes to talk about the trends we've seen across our business. Over the last 18 months, we've been deeply focused on helping businesses, big and small, navigate profound change; first as a lifeline during the pandemic, and now as a partner to reaccelerate growth as the world begins to reopen. The road to global recovery is likely to be uneven and unpredictable. That's why the real-time insights we've put in the hands of businesses going into the pandemic will be just as important coming out of it.\\nNew tools like Travel Insights, which launched in the U.S. this month after rolling out to select countries in APAC and EMEA in December are helping our partners get a clearer picture of where demand is coming from. Wyndham Hotels and Resorts, for example, is leaning into insights and automation across Search, Display and YouTube to meet travelers wherever and whenever they need a hotel. They drove nearly 2 times more direct bookings from media deployed on Google in the first half of 2021 versus the year prior. Or take Amtrak, COVID hit, ridership plummeted, budgets were cut, uncertainty ensued on how to efficiently reach essential travelers. So we stepped in with insights and automation. Bookings for the last quarter, which was Q2, increased 3 times year-over-year with cost per acquisition down 52%.\\nThese examples also underscore the value of AI and automation in a world that's changing fast. We know today that more than 80% of our advertisers use automated bidding. Using ML, our Ads products are more efficiently connecting businesses with our customers taking the guesswork out of getting the right message at the right time to the right customer, all in a privacy-first way. And Performance Max, our newest AI-powered campaign is now in beta. It let's brands buy ads from a single campaign across all Google properties, helping drive more online sales, more leads and/or more store visits. Early results for participating advertisers are great.\\nMoving on to retail where momentum remains strong, we're continuing to build an open ecosystem that benefits both users and merchants. Last year, we removed financial barriers with free product listings and zero commission fees. This year, we are removing integration barriers. With Shopify, WooCommerce, GoDaddy and Square, merchants can now onboard and show their products across Google for free. And our Shopping graph is using AI to connect these products to the people who want them with over 24 billion listings for millions of merchants across the web.\\nLet's talk omnichannel. Last quarter, I said it was here to stay and it is. Retailers continue to build their digital presence to drive both online and offline sales and we're helping them to do it. Take Bed Bath & Beyond, who quickly pivoted to curbside pickup, pickup in store and same-day delivery when people were stuck at home. They've continued these offerings across Google with impressive success. Omni and digital shoppers now make up 50% of customers and in Q1, a third of total digital sales were fulfilled by stores. Of course, they've tapped YouTube to build awareness for their new customer-inspired own brands. We'll continue to invest in new ways to help retailers through what is likely to be a long and uncertain recovery around the world.\\nLet's move to YouTube, which had a great quarter with strong growth in both Brand and Direct Response. We've seen three key trends. First, Brand. YouTube is helping advertisers reach audiences they can't find anywhere else. According to Nielsen's Total Ad Ratings reach reporting, from Q4 '18 to Q4 '20, on average, 70% of YouTube's reach was delivered to an audience not reached by the advertisers TV media. In other words, YouTube's reach is becoming increasingly incremental to TV and this audience dynamic is a huge win for brands. In fact, Nielsen found that U.S. advertisers who shifted just 20% of spend from TV to YouTube generated a 25% increase to their total campaign reach within their target audience, while lowering their cost per reach point by almost 20%. These combined effects of approved reach and efficiency are helping advertisers get the most out of their brand investments.\\nSecond, Direct Response. Advertisers are turning to the platform to generate demand and drive transactions. Like Malaysian Ed-Tech platform Mindvalley, which focuses on personal growth and learning, increased their investment in TrueView for Action and now Video Action as people turned to YouTube in record numbers to learn. In Q2, this generated 600,000-plus leads with 20% coming from the U.S.\\nThird, YouTube is uniquely positioned to drive both massive reach and action. We're seeing more advertisers adopt a full frontal approach to scale their businesses with increased efficiency. Compara, a financial services market leader in Chile combined a reach and Direct Response campaign to capitalize on leads. Over 10 weeks, they reached 5 million users with incremental conversions up 70%. This trend is widely embraced by the largest advertisers where business are breaking down silos between online and offline.\\nSince our founding, we've always believed that the future of Google and the future of our partners are intrinsically linked. From individual YouTube creators and major music labels, to global and local online publishers, to play developers, big and small, our business is built on revenue share models that succeed only when our partners succeed.\\nOne excellent example of how we're helping our partners innovate is our work with the telecom industry. Sundar talked about efforts in Cloud to help them build more efficient networks and transition to 5G. We're also working cross Google to help carriers, including AT&T, Telstra, T-Mobile and Verizon launch new devices and services add new subscribers. We're seeing customer engagement via business messaging partnerships and support enterprise growth.\\nI want to close with two huge thank you's; first, to our customers and partners for their collaboration; second, to our product, partnership, sales and many support teams for their extraordinary work this quarter and dedication to our customers' and partners' success.\\nNow, over to Ruth.\\nRuth Porat -- Chief Financial Officer\\nThank you, Philipp. Our strong revenue performance in the second quarter reflects lapping the impact of COVID on our business, elevated consumer online activity, broad-based strength in advertiser spend, as well as the benefit of excellent ongoing execution by our teams. My comments will be on year-over-year comparisons for the second quarter unless I state otherwise. We'll start with results at the Alphabet level, followed by segment results and conclude with our outlook.\\nFor the second quarter, our consolidated revenues were $61.9 billion, up 62% or up 57% in constant currency. Our total cost of revenues was $26.2 billion, up 41%, primarily driven by growth in TAC, which was $10.9 billion, up 63%, followed by growth in other cost of revenues, which was $15.3 billion, up 29%, the largest driver of which was content acquisition costs.\\nOperating expenses were $16.3 billion, up 22%. In terms of the three component parts of opex, first, the increase in R&D expenses was driven primarily by headcount growth. Second, the growth in sales and marketing expenses was due primarily to the ramp up of spending on ads and promo in contrast to the pullback in the second quarter last year. Finally, the increase in G&A reflects the impact of charges relating to legal matters.\\nHeadcount was up 4,061 from the first quarter. Operating income was $19.4 billion, up 203% and our operating margin in the quarter was 31%. Other income and expense was $2.6 billion, which primarily reflects unrealized gains and the value of investments in equity securities. Net income was $18.5 billion.\\nLet me now turn to our segment financial results starting with our Google Services segment. Total Google Services revenues were $57.1 billion, up 63%. Google Search and other advertising revenues of $35.8 billion in the quarter were up 68% with broad-based strength across our business, led again by strong growth in retail. YouTube advertising revenues of $7 billion were up 84%, driven by Brand, followed by Direct Response. Network advertising revenues of $7.6 billion were up 60%, driven by Ad Manager and AdMob. Other revenues were $6.6 billion, up 29%, primarily driven by growth in YouTube non-advertising revenues, followed by Hardware, which benefited from the addition of Fitbit revenues and finally Google Play which lapped the increased level of user engagement that started in Q1 last year due to the pandemic. Google Services operating income was $22.3 billion, up 134% and the operating margin was 39%.\\nTurning to the Google Cloud segment. Revenues were $4.6 billion for the second quarter, up 54%. GCPs revenue growth was again above Cloud overall, reflecting significant growth in both infrastructure and platform services. Once again, strong growth in Google Workspace revenues was driven by robust growth in both seats and average revenue per seat. Google Cloud had an operating loss of $591 million.\\nAs to our Other Bets, in the first quarter, revenues were $192 million. The operating loss was $1.4 billion.\\nLet me close with some comments on our outlook. In the second quarter, revenues benefited from an FX tailwind of more than 4% at the consolidated level. Based on FX spot rates against the dollar, relative to the third quarter of last year, we expect a more muted tailwind to revenues in the third quarter. In terms of outlook by segment, for Google Services, the benefit to revenue growth in Q2 from lapping the effects of COVID last year will diminish through the balance of the year as we begin to lap stronger performance in the second half of 2020. In the second quarter, we continued to benefit from elevated consumer online activity and broad-based strength in advertiser spend. We believe it is still too early to forecast the longer-term trends as markets reopen, especially, given the recent increase in COVID cases globally.\\nWithin Other Revenues, Play revenue growth for the balance of the year will face headwinds due to the impact of lapping elevated engagement in the pandemic, as well as the change in fee structure, which was implemented as of July 1. We continue to invest across Google Services to support the extraordinary opportunities we see.\\nA couple of reminders, consistent with prior years. We expect that headcount additions will be seasonally higher in Q3 as we bring on new graduates. In addition, we expect sales and marketing expenses to be more heavily weighted to the back half of the year, in part, to support product launches and the holiday season. As for Google Cloud, we remain focused on revenue growth and are pleased with the trends we are seeing. Across Cloud, we will continue to invest aggressively, given the opportunity we see.\\nTurning to capex. The results in the second quarter primarily reflect ongoing investment in our technical infrastructure, most notably in servers to support ongoing growth across Google. We also began to increase the pace of investment in ground-up construction and fit-outs of office facilities, which were slowed due to COVID and are focused now on [Technical Issues].\\nTurning to cash and capital allocation, we continue to generate strong free cash flow of $16.4 billion in the quarter and $58.5 billion for the trailing 12 months. We ended the second quarter with $136 billion in cash and marketable securities. As we indicated in our press release today, our Board has approved an amendment to the existing $50 billion stock repurchase program, permitting us to repurchase both Class A and Class C shares in a manner that's in the best interest of the company and its stockholders.\\nThank you, and now Sundar, Philipp, and I will take your questions.\\nQuestions and Answers:\\nOperator\\nThank you. [Operator Instructions] And our first question comes from Brian Nowak with Morgan Stanley. Your line is open.\\nBrian Nowak -- Morgan Stanley -- Analyst\\nThanks for taking my question. I have two, one for Sundar and one for Philipp. Sundar, the first one is you've had so much innovation over the years using AI to improve Search and improve the overall business. Can you just give us some examples of where you still see marketing fruit or areas for further improvement in the company's overall products using AI etc. over the next couple of years?\\nAnd then, Philipp, your comments on omnichannel were pretty loud and clear. Give us some examples of where you're most focused to continue to enable more retailers to move in the omnichannel to drive that kind of business. Thanks.\\nSundar Pichai -- Chief Executive Officer\\nBrian, thanks. Couple -- we see so much headroom, given our bet on AI going to our most important product of all, Search. When you see the launch of BERT, which was a significant improvement and we are following that up with MUM, which is another extraordinary advance. So the rate -- I mean, information is growing pretty rapidly. And so, constantly developing better models to improve our search quality, ranking, etc. is one of the most important ways we invest. Beyond that, I would say, all the work we are doing into making sure computers can understand in a multi-modal way, be it images, audio, text, video and then bringing it up across our products, I think, is an important way we'll approach it. Philipp?\\nPhilipp Schindler -- Chief Business Officer\\nYes. And to my part of the question, look, we want to make sure that when people come to Google, they are able to basically find the best products and prices available from, frankly, the widest possible range of merchants. And we're making strong progress on the build leadership. And as I said earlier, 2020 was about removing financial barriers. We made listings free, removed commission fees. And it's worth pointing out the upside of combining free listings with Shopping Ads actually. Merchants that used both in Q1 saw a 50% lift in clicks once they started. I think that's pretty impressive.\\n2021, as I said, has been about removing integration barriers. We have the partnerships with Shopify, Square, BigCommerce, GoDaddy, WooCommerce and so on. And they're making it easier for businesses to get started with us, whether it's across Search and Shopping and Image Search and YouTube. And then once merchants are on-boarded, I mean, there is so much more value we can offer them. We launched a new measurement tool to help retailers better understand performance and pricing. You asked specifically a question about focus areas. And then we're making the product and user experience better, not only with our UI/UX research feedback, with our tech and AI capabilities.\\nAnd maybe a cool example is how we're using AI to bring in-store experiences online like with auto dealerships and on letting users really try before they buy and we do this in cosmetics and in apparel categories and we have the Shopping graph, which I mentioned earlier. And we think it will open up completely new product experiences across Google. Shopping with Lens is one example. You can shop with your screenshots or use your phone camera to find the dress or pair of sneakers that caught your eye or whatever. And we're working hard to build an open retail ecosystem and that really levels the playing field for all merchants and we think there is a lot of opportunity ahead. And I think those are our biggest areas of focus.\\nBrian Nowak -- Morgan Stanley -- Analyst\\nGreat, thank you, both.\\nOperator\\nThank you. Our next question comes from Doug Anmuth with J.P. Morgan. Your line is open.\\nDoug Anmuth -- J.P. Morgan -- Analyst\\nGreat, thanks for taking the question. I have two. First, just -- I think a key initiative over the last couple of years has been to bring the full breadth of Google Services to customers. So I was hoping you could talk more just about, when you think about the Search and overall Ads recovery and also growth in Google Cloud, how those efforts are going as you work across businesses with corporate customers and what their reception has been.\\nAnd then, Ruth, just on costs, kind of, in the back half and going forward, as you think about bringing some of these costs back, just curious if you can comment more around some of the puts and takes as you think about the overall cost structure pre-COVID versus post-COVID. Thanks.\\nSundar Pichai -- Chief Executive Officer\\nYeah. Thanks, Doug. I would say, overall, as you realize, it's a broad digital shift. Customers are looking for digital transformation and depending on the sector they are in, they look to Alphabet as a digital partner and we try to bring the broader solution set that's possible across our capabilities and that's been working well. You mentioned Cloud, most of our Cloud customers are either in conversations with us. It could be because they're concerned about security on their supply chain, or they are trying to understand the shift to digital and invest more in data analytics or the shift to a hybrid workforce is what's probably getting them to think about Workspace and so on.\\nAnd if they are retailers, we can bring in our expertise across Ads, the work we're doing on commerce to be -- with the partnerships we have and so we can bring those additional expertise to bear. And so that's a trend we are seeing across. Philipp gave examples of our telco partnerships. And so across our priority verticals, we are able to engage in a broad way. And maybe the recent Googlewide partnership with Univision was another example of a multi-year multi-product partnership with companies.\\nRuth Porat -- Chief Financial Officer\\nAnd with respect to the second question, how we think about investments in the back half. Really the driving focus is how do we support near-term, long-term quality growth and I think it's important to note that some of our costs are less variable in the short term, such as depreciation and the operations costs of our data centers. So when you look at Q2 performance, in part, the meaningful year-on-year improvement in the operating margin in the second quarter clearly reflects the strong revenue growth, but also the fact that some of these costs are less variable in the short term.\\nHowever, to support long-term growth and very much to your questions, through -- across both Google Services and Google Cloud, we will continue to increase the pace of investment and that's true in headcount, it's true with continued sales and marketing, really across the board. And you also heard that in some of my comments about capex, we're continuing to pick up the pace of investment in office facilities. Both fit-outs and ground-up construction had been slowed as a result of COVID and we're pleased that the pace has picked up and that really relates to our comments about continuing to build out across the U.S., around the globe, in line with continuing to invest in headcount growth.\\nI'd make one other point, which is -- I think you're aware of this, but in this quarter, the results also reflect the benefit from the change in useful lives that we talked about earlier in the year that reduced depreciation expense. It's a benefit of about $721 million in the quarter and the benefit from this change will be lower in the second half as you're looking ahead.\\nDoug Anmuth -- J.P. Morgan -- Analyst\\nGreat. Thank you, Sundar and Ruth.\\nOperator\\nThank you. Our next question comes from Justin Post with Bank of America. Your line is open.\\nJustin Post -- Bank of America -- Analyst\\nGreat, thanks for taking my questions; a couple. When you look at Search in the quarter, it really accelerated beyond the comp. And if you look at it quarter-over-quarter, it was really good. So wondering if there's any products or verticals that really surprised you or things to call out. And how do you think about the sustainability here, specifically in Search, and the product pipeline from here? And then secondly, on Cloud, really saw a nice margin improvement there. How do you feel about where you are in the infrastructure side and ability to really continue to show kind of that improvement in margins over time? Thank you.\\nSundar Pichai -- Chief Executive Officer\\nTwo questions, maybe I'll take the second, first. On the Cloud side, first of all, we do -- in the investments in our infrastructure, first of all, we are doing it across the set of Cloud services we are building for Google and it's the same that we bring to Cloud. And so there is tremendous synergies we have there. And maybe to give you an example of it, I earlier mentioned data analytics and processing, it's the same infrastructure, be it BigQuery, etc., which we have invested and built over time. And people are looking to use data analytics alongside with machine learning and AI. They want to do this across structured and unstructured data, do it across any platform. And so that's the kind of capability we are able to bring. And overall -- I'll let Ruth comment on maybe the margin side of this a bit more. Ruth?\\nRuth Porat -- Chief Financial Officer\\nYeah, I would just build on Sundar's comment. There is really no change in our approach to building the Cloud business. We do intend to continue to invest meaningfully. We are very pleased with the business as we both said. As an example, we're continuing to build out the global footprint, continuing to invest in our compute capacity globally. As an example, we most recently announced a second Cloud region in India. This is our 26th Cloud datacenter region globally. And so, continuing to invest across the board, given the opportunity that we see. And as I said last quarter, I would not extrapolate from quarter-to-quarter, given we still are in the early stages of building the business and we do intend to continue to invest aggressively, including expanding our go-to-market organization, our channel expansion, our product offerings and our compute capacity; excited about what we're seeing the team executing upon here.\\nSundar Pichai -- Chief Executive Officer\\nOn Search, the first part of your...\\nPhilipp Schindler -- Chief Business Officer\\nYeah. Can you hear me?\\nSundar Pichai -- Chief Executive Officer\\nYeah.\\nPhilipp Schindler -- Chief Business Officer\\nYeah. And to the first part of the question, it's similar to what I said in my remarks at the beginning. Retail was again by far the largest contributor to the year-on-year growth of our Ads business. Travel, financial services, media entertainment were also very, very strong contributors.\\nJustin Post -- Bank of America -- Analyst\\nThank you.\\nOperator\\nThank you. Our next question comes from Colin Sebastian with Baird. Your line is open.\\nColin Sebastian -- Robert W. Baird -- Analyst\\nGreat, thanks for taking my questions. First, Sundar, as a follow-up on Cloud, you talked about the tailwinds from advanced AI and data analytics in terms of growth. Is it fair to say, as well, based on your initial comments that security also represents some competitive differentiation that's contributing incrementally to business developments? And then for Philipp, on the momentum in YouTube and capturing the shift in viewership and advertising away from linear TV, how do the different Google Services fit together in that, not just core YouTube, but Android TV, Google TV, YouTube TV? Is this something that's been increasingly connected or linked in the back end, and as well on the front end for consumers? Thanks.\\nSundar Pichai -- Chief Executive Officer\\nOn security and Cloud, we definitely see it as a strong differentiation. Obviously, Google for a long time, we are Cloud native, we pioneered approaches like zero trust, build our architecture out from a security-first perspective. And so particularly over the course of the last couple of years, as companies have really -- with the recent attacks, they've really started thinking deeply about the vulnerabilities. Supply chain security has been a major source of consensus, particularly over the past few quarters. Cyber threats increasingly is in the mind of not just CIOs but CEOs across our partners. And so, it's definitely an area where we are seeing a lot of conversations, lot of interest. It's our strongest product portfolio and we are continuing to enhance our solutions, be it integrating Chronicle beyond core and all the product competence we have there. So a definite source of strength and you'll continue to see us invest here.\\nPhilipp Schindler -- Chief Business Officer\\nAnd on the second part of your question, look, momentum is really strong across both our Brand and Direct Response business on YouTube. Maybe let me start on the Brand side. The global shift to online video and streaming continues with over, like, 2 billion monthly active users now, 1 billion-plus hours of video watched every day. I think we're at the forefront of this shift. And advertisers have increasingly needed to look beyond linear TV alternatives to achieve their reach and awareness goals. And as I said earlier, Nielsen's Total Ad Ratings reach reporting found, on average, 70% of YouTube's reach was delivered to an audience not reached by the advertisers TV media. So not only are we driving improved reach, but we're also helping brands do it more efficiently. And as a result of this, you see many advertisers reevaluating their media mix and increasing their investments in our platforms.\\nAnd as far as the Direct Response part goes, we're helping advertisers convert intent into action. We tried to drive performance at an incredible scale. Take an example like with Video Action campaigns, which is our next generation TrueView for Action format. Advertisers are getting access to even more inventory across YouTube and our partners all in a single automated campaign. And as I said before, we're working really hard to make YouTube not only more actionable, but also more shoppable. So YouTube is proving to be meaningful for not just brand building and reaching a massive audience, but also for converting viewers into buyers. And what's nice is that we're seeing more advertisers leveraging Brand to create demand and Direct Response to convert it. So they're basically using the full funnel very, very smartly.\\nAnd then to the second part of your second question, the YouTube TV ads, for example, this part, we're really trying to bring the -- well, connected TV is -- let me phrase it from connected TV part, I think that's easier. It is really the fastest growing consumer surface that we have and that growth started before the pandemic and has frankly solidified since. And in the U.S., we have over 120 [Phonetic] million people who watch YouTube on TVs every month and that's up from like 100 million last year. We're number one in reach and watch time among ad-supported streaming services. So we're very, very happy with the development that we're seeing here.\\nOperator\\nThank you. Our next question comes from Brent Thill with Jefferies. Your line is open.\\nBrent Thill -- Jefferies -- Analyst\\nThanks. Just a follow-up on YouTube. Can you maybe talk to the e-commerce opportunity that you're seeing evolve, where you're at now and eventually where would you like to be. Thank you.\\nSundar Pichai -- Chief Executive Officer\\nOn YouTube, look, I mean, if you look at the engagement across the platform, we definitely see a lot of headroom for e-commerce. Over the past year, you've seen us really focus on accelerating a shift to in terms of on-boarding merchants across Google. So we've definitely invested both in terms of bringing merchants on board, removing barriers there, providing better integrations by partnering with players -- platform providers across the industry. And now we are investing in our consumer experiences speed on Google Search or on YouTube. And so you will see us roll out features over time. Philipp, do you want to add more here?\\nPhilipp Schindler -- Chief Business Officer\\nYeah, look, there is a ton of commercial intent across YouTube and it was a shopping destination before COVID. I mean, think unboxing videos, product reviews, make-up tutorials and so on. And throughout the pandemic, we've really seen more shoppers turn to the platform for ideas, inspiration and really help them decide what to buy. And a number of shopping capabilities are already underway and we are working real hard to make it easier for users to discover and buy directly on YouTube.\\nAnd I mentioned how merchants can globally add their product feeds now right into Video Action campaigns and brands and shoppers alike are loving it and we also began beta testing this, for example, with Discovery Ads. And kind of last quarter, I mentioned, I hope viewers can make purchases from their favorite creators with their early experiments with BrandConnect and shoppable product shelves and early adopters are seeing a lot of success here. So stay tuned for more updates later this year.\\nBrent Thill -- Jefferies -- Analyst\\nGreat, thank you.\\nOperator\\nThank you. Our next question comes from Mark Mahaney with Evercore ISI. Your line is open.\\nMark Mahaney -- Evercore ISI -- Analyst\\nThanks. We've had record new business formation in the U.S. and I think globally in the wake of COVID. And my guess is that, that's also been a major driver of growth for you. Could you just talk about that a little bit to the extent to which you think some of these, especially the advertising trends come from these new businesses that are formed, whether they're digital, hybrid or whatever? And then secondly, how do you go from tens of thousands of Waymo rides to millions of rides? Like, what are the biggest obstacles to that? Any clue at all as to how long that takes? Is -- are the issues more regulatory, more technical? Thank you.\\nPhilipp Schindler -- Chief Business Officer\\nNew businesses, small businesses are the backbone of our economy here. But, obviously, local communities are in varying stages of recovery. Some are reopening, while others are unfortunately returning to lockdown. And we're focused on continuing to, I would say, level the playing field for SMBs here and from getting them online and frankly set up for success to giving them all the digital tools they need to get discovered and be ready for what's ahead. This includes the ability to, like, seamlessly transition between online and offline and reach customers nearby, far beyond their local neighborhoods as well.\\nSo over the past few months, I mean, literally, just the past few months, we've made it easier for SMBs to show their product across Google for free and we added new ways for them to highlight in-store inventories through local inventory ads and we've also made it easier for them to leverage the power of YouTube. They now can create video ad campaigns, literally, within minutes via their smartphone.\\nAnd these are just a few examples of the ways we're helping, plus also interesting trend, people are more eager than ever to support their local small businesses. Searches for Support Local Business are up like 20 times last year in the U.S. alone. And this is creating a lot of opportunity for SMBs overall. And I don't know, take an example like Ayla Beauty, for example. It's a San Francisco beauty brand. They made a 100% pivot to online during the pandemic, and with insights into popular wellness and beauty searches in Google Ads, has been really able to grow their business significantly over the last year.\\nSundar Pichai -- Chief Executive Officer\\nOn Waymo, as you mentioned, in Phoenix, we've had very good experience by scaling up rides. These are driver-less rides and no one's in the car other than the passengers and people have had a very positive experience overall. We are obviously with a strong focus on safety. We are looking to scale it up. Through it all, we are building newer capabilities as well, investing in next generation of hardware and software. So it's an iterative process and at each step, it's very clear to us that we are ahead and we are making progress, and you'll see us continue to invest here with a focus on safety-first. And I expect us to scale up more through the course of 2022.\\nMark Mahaney -- Evercore ISI -- Analyst\\nThank you, Sundar, and thank you, Philipp.\\nOperator\\nThank you. Our next question comes from Michael Nathanson with MoffettNathanson. Your line is open.\\nMichael Nathanson -- MoffettNathanson -- Analyst\\nGreat, thanks. I have one for you, Sundar, and one for Philipp. Just a minute ago, Philipp spoke to the acceleration in streaming and smart TVs worldwide and the importance that YouTube has on the TV glass. I wanted to hear from you about your interest in supporting the Smart TV ecosystem and what do you see as the opportunity for Google in terms of your product offerings to maybe improve consumer adoption of connected TVs?\\nAnd then for you, Philipp, people have been asking about Search, but if you look at Search on a two-year stack, the growth is as high as it's been in years. And I wonder if you can disaggregate for us the growth between maybe new Search customers coming on the platform versus increased spending on a existing per customer basis or anything to help us kind of what drove it on a client-by-client basis on Search?\\nSundar Pichai -- Chief Executive Officer\\nOn the first question on the Smart TV ecosystem, look, I mean, there is a shift to these becoming computing devices over time. They're going to be connected computing experiences. People will both consume content passively, actively, including gaming, over-the-top video and so on. So we view this as part of our platform shift. Android TV has made tremendous strides. It's a very customizable platform. We are working not only with TV providers globally, we are doing it with cable box manufacturers, as well as we supplemented with Google TV with Chromecast as well. So it's a significant investment from our side, making sure we can drive that shift and obviously it adds a lot of synergies for us in terms of being able to bring our services to our users, as well as give more opportunities for our Play developers to reach more users as well. But definite strong integration points with YouTube and YouTube TV as well.\\nPhilipp Schindler -- Chief Business Officer\\nLook, maybe rather than go into the deep disaggregation that you're talking about, let me maybe talk a little about how we think about the overall market for Search in the addressable market. In the last call -- last quarter, I gave you a little bit of a breakdown here, but what is really important is we're not just addressing above-the-line marketing budgets, which is different metrics around, let's say, around $0.5 trillion, which is traditional advertising, TV advertising and so on. And there is also significant upside in below-the-line budgets overall, like promotional pricing, product within sponsorships and so on. And, sure, we've seen COVID accelerate the shift to e-commerce at an astounding rate, but keep also in mind, 80% of commerce still remains offline. So there's a lot of room for digital to play a bigger role and we think we can tap into other budgets that were traditionally used for, let's say, local advertising to derive sales.\\nAnd as we think about our long runway for growth, we also think, obviously, about improving user and advertiser experiences for years to come here. And we are constantly asking ourselves, how do we derive better answers to queries, including those with commercial intent and how do we use our ML to deliver even more relevant and higher quality experiences for users. And our primary focus is really on delivering great experiences for users and driving incremental value for our partners and making them successful. And I think as long as we do this, we should continue to see budgets move our way.\\nMichael Nathanson -- MoffettNathanson -- Analyst\\nOkay, thank you, both.\\nOperator\\nThank you. Our last question comes from Jason Bazinet with Citi. Your line is open.\\nJason Bazinet -- Citi -- Analyst\\nI just had one question, maybe it dovetails off of what you just said. But if I take your ad dollars this quarter, $50 billion in annualized, it's like $200 billion a year. Are you or the Board focused at all on trying to diversify away from the ad market or do you just feel like there is so much runway that there is no real reason to stay focused on non-ad based growth?\\nSundar Pichai -- Chief Executive Officer\\nLook, at a high level, we -- multiple parts to your question. Obviously, we are very focused on -- we have a mission, we have an approach of being helpful across certain important attributes and we do deep investments in computer science and AI to build services. And out of that, naturally, there is diversification over time when you look at YouTube as contributing to that, you look at Cloud and within Cloud we have both GCP and Workspace contributing to that. And longer term, we have efforts like Waymo as well. Beyond that, as both Philipp and Ruth have spoken about, with this digital shift, we see a lot of headroom in terms of where market for either advertising or e-commerce, and so we see a lot of headroom there as well.\\nSo we take a long-term view. We start from first principles toward focusing on both investing in deep technology and solving user problems and out of that, I think you have a set of diversified models that emerge; both different types of businesses. And also within a business, for example, in YouTube, we have both ads and subscription over time. And so I think we'll continue approaching it that way with an eye for the long term.\\nJason Bazinet -- Citi -- Analyst\\nThank you.\\nOperator\\nThank you. And that concludes our question-and-answer session for today. I'd like to turn the conference back over to Jim Friedland for any further remarks.\\nJim Friedland -- Director of Investor Relations\\nThanks everyone for joining us today. We look forward to speaking with you again on our third quarter 2021 call. Thank you and have a good evening.\\nOperator\\n[Operator Closing Remarks]\\nDuration: 52 minutes\\nCall participants:\\nJim Friedland -- Director of Investor Relations\\nSundar Pichai -- Chief Executive Officer\\nPhilipp Schindler -- Chief Business Officer\\nRuth Porat -- Chief Financial Officer\\nBrian Nowak -- Morgan Stanley -- Analyst\\nDoug Anmuth -- J.P. Morgan -- Analyst\\nJustin Post -- Bank of America -- Analyst\\nColin Sebastian -- Robert W. Baird -- Analyst\\nBrent Thill -- Jefferies -- Analyst\\nMark Mahaney -- Evercore ISI -- Analyst\\nMichael Nathanson -- MoffettNathanson -- Analyst\\nJason Bazinet -- Citi -- Analyst\\nMore GOOGL analysis\\nAll earnings call transcripts\\n\\n\\n\\n\\n\""
      ]
     },
     "execution_count": 11,
     "metadata": {},
     "output_type": "execute_result"
    }
   ],
   "source": [
    "transcripts_data_google[\"transcript\"].iloc[0]"
   ]
  },
  {
   "cell_type": "code",
   "execution_count": 12,
   "id": "92f4d2b2-0e34-4b66-950f-71f220a68075",
   "metadata": {},
   "outputs": [
    {
     "name": "stderr",
     "output_type": "stream",
     "text": [
      "/var/folders/5h/1cc6fvqn1nsf3cqhcndrlz280000gn/T/ipykernel_69591/3870756276.py:29: SettingWithCopyWarning: \n",
      "A value is trying to be set on a copy of a slice from a DataFrame.\n",
      "Try using .loc[row_indexer,col_indexer] = value instead\n",
      "\n",
      "See the caveats in the documentation: https://pandas.pydata.org/pandas-docs/stable/user_guide/indexing.html#returning-a-view-versus-a-copy\n",
      "  df['extracted_speech'] = df.apply(lambda row: extract_speech(row['transcript'], row['participants'], row['excluded_participants']), axis=1)\n"
     ]
    }
   ],
   "source": [
    "# Function to extract relevant speech, handling multiple occurrences and considering delimiters\n",
    "def extract_speech(transcript, participants, excluded_participants):\n",
    "    extracted_speech = {}\n",
    "\n",
    "    # Define a regex to match any participant's speech until another participant's name or excluded names\n",
    "    for participant in participants:\n",
    "        # Build a dynamic regex pattern\n",
    "        delimiters = participants + excluded_participants + [\"Questions and Answers\", \"Operator\"]\n",
    "        delimiter_pattern = '|'.join([re.escape(d) for d in delimiters])\n",
    "        pattern = re.compile(rf\"({re.escape(participant)})\\s*(.*?)(?=\\n(?:{delimiter_pattern}|$))\", re.DOTALL)\n",
    "        \n",
    "        # Find all matches for this participant's speech\n",
    "        matches = pattern.findall(transcript)\n",
    "        \n",
    "        # If matches are found, clean the speech by removing other participants' names\n",
    "        if matches:\n",
    "            participant_speech = [match[1].strip() for match in matches]\n",
    "            for other_participant in participants + excluded_participants:\n",
    "                if other_participant != participant:\n",
    "                    participant_speech = [re.sub(rf\"\\b{re.escape(other_participant)}\\b\", \"\", speech) for speech in participant_speech]\n",
    "            extracted_speech[participant] = participant_speech\n",
    "        else:\n",
    "            extracted_speech[participant] = [\"No speech found.\"]\n",
    "    \n",
    "    return extracted_speech\n",
    "\n",
    "# Function to apply extract_speech to each row\n",
    "def extract_speech_from_df(df):\n",
    "    df['extracted_speech'] = df.apply(lambda row: extract_speech(row['transcript'], row['participants'], row['excluded_participants']), axis=1)\n",
    "    return df\n",
    "\n",
    "\n",
    "# Apply the function to the DataFrame\n",
    "transcripts_data_google = extract_speech_from_df(transcripts_data_google)\n"
   ]
  },
  {
   "cell_type": "code",
   "execution_count": 13,
   "id": "c557b42e-4d76-4a06-a2f0-694d6f7a1f2b",
   "metadata": {},
   "outputs": [
    {
     "name": "stderr",
     "output_type": "stream",
     "text": [
      "/var/folders/5h/1cc6fvqn1nsf3cqhcndrlz280000gn/T/ipykernel_69591/119950247.py:1: SettingWithCopyWarning: \n",
      "A value is trying to be set on a copy of a slice from a DataFrame.\n",
      "Try using .loc[row_indexer,col_indexer] = value instead\n",
      "\n",
      "See the caveats in the documentation: https://pandas.pydata.org/pandas-docs/stable/user_guide/indexing.html#returning-a-view-versus-a-copy\n",
      "  transcripts_data_google['extracted_speech_length'] = transcripts_data_google['extracted_speech'].apply(lambda speech_dict: sum(len(speech.replace(\"\\n\", \" \")) for speeches in speech_dict.values() for speech in speeches))\n"
     ]
    }
   ],
   "source": [
    "transcripts_data_google['extracted_speech_length'] = transcripts_data_google['extracted_speech'].apply(lambda speech_dict: sum(len(speech.replace(\"\\n\", \" \")) for speeches in speech_dict.values() for speech in speeches))\n",
    "\n"
   ]
  },
  {
   "cell_type": "code",
   "execution_count": 14,
   "id": "656cdd6d-66e3-4685-b55b-5b4fa6ee972e",
   "metadata": {},
   "outputs": [
    {
     "data": {
      "text/plain": [
       "48912"
      ]
     },
     "execution_count": 14,
     "metadata": {},
     "output_type": "execute_result"
    }
   ],
   "source": [
    "len(transcripts_data_google[\"transcript\"].iloc[0])"
   ]
  },
  {
   "cell_type": "code",
   "execution_count": 15,
   "id": "749c21dc-e1dd-4fbb-a360-af75a6727c0b",
   "metadata": {},
   "outputs": [
    {
     "data": {
      "text/plain": [
       "{'Jim Friedland -- Director of Investor Relations': [\"Thank you. Good afternoon everyone and welcome to Alphabet's second quarter earnings conference call. With us today are Sundar Pichai, Philipp Schindler and Ruth Porat.\\nNow, I'll quickly cover the Safe Harbor. Some of the statements that we make today regarding our business, operations and financial performance, including the effect of the COVID-19 pandemic on those areas may be considered forward-looking and such statements involve a number of risks and uncertainties that could cause actual results to differ materially. For more information, please refer to the risk factors discussed in our most recent Form 10-K filed with the SEC.\\nDuring this call, we will present both GAAP and non-GAAP financial measures. A reconciliation of non-GAAP to GAAP measures is included in today's earnings press release, which is distributed and available to the public through our Investor Relations website located at abc.xyz/investor.\\nAnd now I'll turn the call over to Sundar.\",\n",
       "  'Thanks everyone for joining us today. We look forward to speaking with you again on our third quarter 2021 call. Thank you and have a good evening.',\n",
       "  ''],\n",
       " 'Sundar Pichai -- Chief Executive Officer': [\"Thank you, Jim, and good afternoon, everyone. It's good to be with you. Today, I'll give an overview of the quarter, going through some of our product momentum, then touching on Cloud and YouTube.\\nFirst, I want to acknowledge that the new COVID-19 variants have been challenging for so many communities across the world. As the pandemic evolves, we want to help people get the information they need to keep themselves and their families safe. I really encourage everyone to get the vaccine when it's available to you.\\nTurning to the quarter, we saw a rising tide of online consumer and business activity. We are proud that our services helped so many businesses and partners. In fact, we set a number of records this quarter. This quarter, publisher partners earned more than they ever have from our network. We also paid more to YouTube creators and partners than in any quarter in our history. And on top of that, over the past year, we have sent more traffic to third-party websites than any year prior in addition to generating billions of direct connections like phone calls, directions, ordering food and making reservations that drove customers and revenue to businesses around the world that are working to get back on their feet.\\nA few years ago, we placed a bet on AI believing that it would be a fundamental technology that would underpin and dramatically improve all our products. That vision was on full display at our I/O event in May where we announced new advancements that will be helpful to people and businesses everywhere. As one example, we introduced Multitask Unified Models or MUM. MUM is a big advancement in Search, a 1,000 times more powerful than our current systems. It has the ability to learn and transfer knowledge across 75 languages, which means that it can learn from sources in one language and help bring that information to you in another.\\nWe also announced a new AI system called Lambda that achieves a new level of natural conversation capabilities. We think Lambda will help make information and computing more accessible and we are excited about this early stage research. And last week, DeepMind shared its new AlphaFold Protein Structure Database, which doubled the number of high accuracy human protein structures available to researchers. In the coming months, it will include almost every sequence protein known to science.\\nTurning to Android. We previewed Android 12 at Google I/O. The latest version will include new ways to personalize devices and significantly improved speed and power efficiency. We have built new privacy protections directly into the OS. So there's a new privacy dashboard to help people keep information safe and private. Android 12 will, of course, be central to Google phone devices. I'm very excited by our fall lineup which will showcase Android 12 and some of the deep technology investments that are helping us push boundaries. Pixel remains at the heart of that long-term strategy and I'm proud of how the team continues to deliver the best of Google through our family of helpful devices, including Nest and Fitbit. You can see all of these devices at our first retail store in New York City and I'm looking forward to seeing some new ones there soon.\\nWe are also seeing developers getting tremendous benefit from Google Play. Through the end of Q2, over $120 billion has been earned cumulatively by developers around the world from Google Play. Let me talk a bit more about Cloud. Q2 revenue grew 54% year-over-year. Our innovative products, focused go-to-market strategy and growing ecosystem are driving our momentum. Organizations across industries are choosing Google Cloud as their platform for digital transformation, including SAP customers like PayPal, Johnson Controls and Whirlpool, who have deployed SAP environments on Google Cloud.\\nThis quarter we saw three distinct trends. First, the increase in cyber and ransomware attacks is a wakeup call for the industry. Over two decades, Google has built some of the most secure computing systems in the world. And we are proud that our Google Cloud customers can benefit from our experience here. Customers like Major League Baseball are partnering with Google Cloud to further enhance their security program. We pioneered the zero trust approach, an architecture that builds in multiple layers of defense against unauthorized access. This approach and other security solutions help customers minimize the impact of cyber attacks and prevent them completely. At our Cloud Security Summit last week, we announced new solutions across our portfolio of products. BT is bringing our new security operation solutions based on Chronicle to the managed security services market. And Adobe and the State of Wisconsin are helping protect users with our fraud detection product.\\nSecond, our expertise in real-time data and analytics continues to differentiate us in the Data Cloud; one of the fastest growing segments of the market. BigQuery is not only a data warehouse, it's a platform for customer innovation and it's helping drive our strong year-over-year growth with customers like HCA Healthcare, who will be using BigQuery to analyze data to improve clinical care. Additionally, our deep expertise in AI and machine learning remains a key differentiator, winning customers like Groupe Casino and leading to partnerships with industrial automation leaders like Siemens. Our focus on delivering industry-specific solutions, coupled with our secure open cloud infrastructure, enable us to support leading telecommunications companies such as Reliance Jio, Telecom Italia Tim and Ericsson to work together on applications and new solutions for 5G networks and mobile edge computing. These join existing customers Vodafone, Telus and many others.\\nThird, Google Workspace continues to show strong growth, particularly in the enterprise space because we have designed the product to meet the challenges of hybrid work. This includes the announcements we made at I/O about smart cameras, as well as expanding our advanced security and compliance capabilities and solutions for frontline workers. These innovations are landing wins with companies like Carvana, the online auto retailer and software company Red Hat.\\nTurning next to YouTube. YouTube Shorts continues to gain momentum. We've been rolling it out everywhere YouTube is available, in more than 100 countries worldwide. I'm proud to announce that YouTube Shorts has just surpassed 15 billion daily views. And also pleased with the progress we are making with YouTube subscription products across Music, Premium and YouTube TV, each delivering a fantastic experience and content for viewers.\\nAnd, finally, Waymo continues to build and commercialize the Waymo Driver and grow the team. People love the fully autonomous ride hailing service in Phoenix. Since first launching its services to the public in October 2020, Waymo has safely served tens of thousands of rides without a human driver in the vehicle and we look forward to many more.\\nBefore I close, let me call out our continued work on sustainability, which has been a core value for us since our founding. As you'll recall, we were the first to announce an ambitious goal that will be transformative for the industry. We aim to operate on 24/7 carbon-free energy by 2030. In Q2, we announced that five of our data centers are already operating at or near 90% carbon-free energy. To help us reach our target everywhere, we implemented a system to shift flexible computing tasks to different times and places with greater availability of carbon-free energy, and we are working to enable geothermal power in more places starting in Nevada next year.\\nI want to thank all our employees around the world for their contributions to a great quarter. I know it's been a challenging 18 months. Through it all, taking care of everyone in our workforce has remained a top priority. Now, we are reimagining the future of work with flexibility as a guiding principle. I was excited to see so many people in person as we started a voluntary return to our California offices recently. As we make our way back, we are giving employees more flexibility in how and where they work and we'll continue to invest in our sites in the U.S. and elsewhere.\\nOver to Philipp.\",\n",
       "  \"Brian, thanks. Couple -- we see so much headroom, given our bet on AI going to our most important product of all, Search. When you see the launch of BERT, which was a significant improvement and we are following that up with MUM, which is another extraordinary advance. So the rate -- I mean, information is growing pretty rapidly. And so, constantly developing better models to improve our search quality, ranking, etc. is one of the most important ways we invest. Beyond that, I would say, all the work we are doing into making sure computers can understand in a multi-modal way, be it images, audio, text, video and then bringing it up across our products, I think, is an important way we'll approach it. Philipp?\",\n",
       "  \"Yeah. Thanks, Doug. I would say, overall, as you realize, it's a broad digital shift. Customers are looking for digital transformation and depending on the sector they are in, they look to Alphabet as a digital partner and we try to bring the broader solution set that's possible across our capabilities and that's been working well. You mentioned Cloud, most of our Cloud customers are either in conversations with us. It could be because they're concerned about security on their supply chain, or they are trying to understand the shift to digital and invest more in data analytics or the shift to a hybrid workforce is what's probably getting them to think about Workspace and so on.\\nAnd if they are retailers, we can bring in our expertise across Ads, the work we're doing on commerce to be -- with the partnerships we have and so we can bring those additional expertise to bear. And so that's a trend we are seeing across. Philipp gave examples of our telco partnerships. And so across our priority verticals, we are able to engage in a broad way. And maybe the recent Googlewide partnership with Univision was another example of a multi-year multi-product partnership with companies.\",\n",
       "  \"Two questions, maybe I'll take the second, first. On the Cloud side, first of all, we do -- in the investments in our infrastructure, first of all, we are doing it across the set of Cloud services we are building for Google and it's the same that we bring to Cloud. And so there is tremendous synergies we have there. And maybe to give you an example of it, I earlier mentioned data analytics and processing, it's the same infrastructure, be it BigQuery, etc., which we have invested and built over time. And people are looking to use data analytics alongside with machine learning and AI. They want to do this across structured and unstructured data, do it across any platform. And so that's the kind of capability we are able to bring. And overall -- I'll let Ruth comment on maybe the margin side of this a bit more. Ruth?\",\n",
       "  'On Search, the first part of your...',\n",
       "  'Yeah.',\n",
       "  \"On security and Cloud, we definitely see it as a strong differentiation. Obviously, Google for a long time, we are Cloud native, we pioneered approaches like zero trust, build our architecture out from a security-first perspective. And so particularly over the course of the last couple of years, as companies have really -- with the recent attacks, they've really started thinking deeply about the vulnerabilities. Supply chain security has been a major source of consensus, particularly over the past few quarters. Cyber threats increasingly is in the mind of not just CIOs but CEOs across our partners. And so, it's definitely an area where we are seeing a lot of conversations, lot of interest. It's our strongest product portfolio and we are continuing to enhance our solutions, be it integrating Chronicle beyond core and all the product competence we have there. So a definite source of strength and you'll continue to see us invest here.\",\n",
       "  \"On YouTube, look, I mean, if you look at the engagement across the platform, we definitely see a lot of headroom for e-commerce. Over the past year, you've seen us really focus on accelerating a shift to in terms of on-boarding merchants across Google. So we've definitely invested both in terms of bringing merchants on board, removing barriers there, providing better integrations by partnering with players -- platform providers across the industry. And now we are investing in our consumer experiences speed on Google Search or on YouTube. And so you will see us roll out features over time. Philipp, do you want to add more here?\",\n",
       "  \"On Waymo, as you mentioned, in Phoenix, we've had very good experience by scaling up rides. These are driver-less rides and no one's in the car other than the passengers and people have had a very positive experience overall. We are obviously with a strong focus on safety. We are looking to scale it up. Through it all, we are building newer capabilities as well, investing in next generation of hardware and software. So it's an iterative process and at each step, it's very clear to us that we are ahead and we are making progress, and you'll see us continue to invest here with a focus on safety-first. And I expect us to scale up more through the course of 2022.\",\n",
       "  \"On the first question on the Smart TV ecosystem, look, I mean, there is a shift to these becoming computing devices over time. They're going to be connected computing experiences. People will both consume content passively, actively, including gaming, over-the-top video and so on. So we view this as part of our platform shift. Android TV has made tremendous strides. It's a very customizable platform. We are working not only with TV providers globally, we are doing it with cable box manufacturers, as well as we supplemented with Google TV with Chromecast as well. So it's a significant investment from our side, making sure we can drive that shift and obviously it adds a lot of synergies for us in terms of being able to bring our services to our users, as well as give more opportunities for our Play developers to reach more users as well. But definite strong integration points with YouTube and YouTube TV as well.\",\n",
       "  \"Look, at a high level, we -- multiple parts to your question. Obviously, we are very focused on -- we have a mission, we have an approach of being helpful across certain important attributes and we do deep investments in computer science and AI to build services. And out of that, naturally, there is diversification over time when you look at YouTube as contributing to that, you look at Cloud and within Cloud we have both GCP and Workspace contributing to that. And longer term, we have efforts like Waymo as well. Beyond that, as both Philipp and Ruth have spoken about, with this digital shift, we see a lot of headroom in terms of where market for either advertising or e-commerce, and so we see a lot of headroom there as well.\\nSo we take a long-term view. We start from first principles toward focusing on both investing in deep technology and solving user problems and out of that, I think you have a set of diversified models that emerge; both different types of businesses. And also within a business, for example, in YouTube, we have both ads and subscription over time. And so I think we'll continue approaching it that way with an eye for the long term.\",\n",
       "  ''],\n",
       " 'Philipp Schindler -- Chief Business Officer': [\"Thanks, Sundar, and hello everyone. It's great to be with you today. We are pleased with the growth in Google Services revenues in the second quarter. Year-on-year performance reflects elevated consumer online activity, broad-based strength in advertiser spend and the lapping of the first ever revenue decline in our Ads business last year due to COVID. In the second quarter, retail again was, by far, the largest contributor to the year-on-year growth of our Ads business. Travel, financial services and media and entertainment were also strong contributors.\\nLet's now take a few minutes to talk about the trends we've seen across our business. Over the last 18 months, we've been deeply focused on helping businesses, big and small, navigate profound change; first as a lifeline during the pandemic, and now as a partner to reaccelerate growth as the world begins to reopen. The road to global recovery is likely to be uneven and unpredictable. That's why the real-time insights we've put in the hands of businesses going into the pandemic will be just as important coming out of it.\\nNew tools like Travel Insights, which launched in the U.S. this month after rolling out to select countries in APAC and EMEA in December are helping our partners get a clearer picture of where demand is coming from. Wyndham Hotels and Resorts, for example, is leaning into insights and automation across Search, Display and YouTube to meet travelers wherever and whenever they need a hotel. They drove nearly 2 times more direct bookings from media deployed on Google in the first half of 2021 versus the year prior. Or take Amtrak, COVID hit, ridership plummeted, budgets were cut, uncertainty ensued on how to efficiently reach essential travelers. So we stepped in with insights and automation. Bookings for the last quarter, which was Q2, increased 3 times year-over-year with cost per acquisition down 52%.\\nThese examples also underscore the value of AI and automation in a world that's changing fast. We know today that more than 80% of our advertisers use automated bidding. Using ML, our Ads products are more efficiently connecting businesses with our customers taking the guesswork out of getting the right message at the right time to the right customer, all in a privacy-first way. And Performance Max, our newest AI-powered campaign is now in beta. It let's brands buy ads from a single campaign across all Google properties, helping drive more online sales, more leads and/or more store visits. Early results for participating advertisers are great.\\nMoving on to retail where momentum remains strong, we're continuing to build an open ecosystem that benefits both users and merchants. Last year, we removed financial barriers with free product listings and zero commission fees. This year, we are removing integration barriers. With Shopify, WooCommerce, GoDaddy and Square, merchants can now onboard and show their products across Google for free. And our Shopping graph is using AI to connect these products to the people who want them with over 24 billion listings for millions of merchants across the web.\\nLet's talk omnichannel. Last quarter, I said it was here to stay and it is. Retailers continue to build their digital presence to drive both online and offline sales and we're helping them to do it. Take Bed Bath & Beyond, who quickly pivoted to curbside pickup, pickup in store and same-day delivery when people were stuck at home. They've continued these offerings across Google with impressive success. Omni and digital shoppers now make up 50% of customers and in Q1, a third of total digital sales were fulfilled by stores. Of course, they've tapped YouTube to build awareness for their new customer-inspired own brands. We'll continue to invest in new ways to help retailers through what is likely to be a long and uncertain recovery around the world.\\nLet's move to YouTube, which had a great quarter with strong growth in both Brand and Direct Response. We've seen three key trends. First, Brand. YouTube is helping advertisers reach audiences they can't find anywhere else. According to Nielsen's Total Ad Ratings reach reporting, from Q4 '18 to Q4 '20, on average, 70% of YouTube's reach was delivered to an audience not reached by the advertisers TV media. In other words, YouTube's reach is becoming increasingly incremental to TV and this audience dynamic is a huge win for brands. In fact, Nielsen found that U.S. advertisers who shifted just 20% of spend from TV to YouTube generated a 25% increase to their total campaign reach within their target audience, while lowering their cost per reach point by almost 20%. These combined effects of approved reach and efficiency are helping advertisers get the most out of their brand investments.\\nSecond, Direct Response. Advertisers are turning to the platform to generate demand and drive transactions. Like Malaysian Ed-Tech platform Mindvalley, which focuses on personal growth and learning, increased their investment in TrueView for Action and now Video Action as people turned to YouTube in record numbers to learn. In Q2, this generated 600,000-plus leads with 20% coming from the U.S.\\nThird, YouTube is uniquely positioned to drive both massive reach and action. We're seeing more advertisers adopt a full frontal approach to scale their businesses with increased efficiency. Compara, a financial services market leader in Chile combined a reach and Direct Response campaign to capitalize on leads. Over 10 weeks, they reached 5 million users with incremental conversions up 70%. This trend is widely embraced by the largest advertisers where business are breaking down silos between online and offline.\\nSince our founding, we've always believed that the future of Google and the future of our partners are intrinsically linked. From individual YouTube creators and major music labels, to global and local online publishers, to play developers, big and small, our business is built on revenue share models that succeed only when our partners succeed.\\nOne excellent example of how we're helping our partners innovate is our work with the telecom industry. Sundar talked about efforts in Cloud to help them build more efficient networks and transition to 5G. We're also working cross Google to help carriers, including AT&T, Telstra, T-Mobile and Verizon launch new devices and services add new subscribers. We're seeing customer engagement via business messaging partnerships and support enterprise growth.\\nI want to close with two huge thank you's; first, to our customers and partners for their collaboration; second, to our product, partnership, sales and many support teams for their extraordinary work this quarter and dedication to our customers' and partners' success.\\nNow, over to Ruth.\",\n",
       "  \"Yes. And to my part of the question, look, we want to make sure that when people come to Google, they are able to basically find the best products and prices available from, frankly, the widest possible range of merchants. And we're making strong progress on the build leadership. And as I said earlier, 2020 was about removing financial barriers. We made listings free, removed commission fees. And it's worth pointing out the upside of combining free listings with Shopping Ads actually. Merchants that used both in Q1 saw a 50% lift in clicks once they started. I think that's pretty impressive.\\n2021, as I said, has been about removing integration barriers. We have the partnerships with Shopify, Square, BigCommerce, GoDaddy, WooCommerce and so on. And they're making it easier for businesses to get started with us, whether it's across Search and Shopping and Image Search and YouTube. And then once merchants are on-boarded, I mean, there is so much more value we can offer them. We launched a new measurement tool to help retailers better understand performance and pricing. You asked specifically a question about focus areas. And then we're making the product and user experience better, not only with our UI/UX research feedback, with our tech and AI capabilities.\\nAnd maybe a cool example is how we're using AI to bring in-store experiences online like with auto dealerships and on letting users really try before they buy and we do this in cosmetics and in apparel categories and we have the Shopping graph, which I mentioned earlier. And we think it will open up completely new product experiences across Google. Shopping with Lens is one example. You can shop with your screenshots or use your phone camera to find the dress or pair of sneakers that caught your eye or whatever. And we're working hard to build an open retail ecosystem and that really levels the playing field for all merchants and we think there is a lot of opportunity ahead. And I think those are our biggest areas of focus.\",\n",
       "  'Yeah. Can you hear me?',\n",
       "  \"Yeah. And to the first part of the question, it's similar to what I said in my remarks at the beginning. Retail was again by far the largest contributor to the year-on-year growth of our Ads business. Travel, financial services, media entertainment were also very, very strong contributors.\",\n",
       "  \"And on the second part of your question, look, momentum is really strong across both our Brand and Direct Response business on YouTube. Maybe let me start on the Brand side. The global shift to online video and streaming continues with over, like, 2 billion monthly active users now, 1 billion-plus hours of video watched every day. I think we're at the forefront of this shift. And advertisers have increasingly needed to look beyond linear TV alternatives to achieve their reach and awareness goals. And as I said earlier, Nielsen's Total Ad Ratings reach reporting found, on average, 70% of YouTube's reach was delivered to an audience not reached by the advertisers TV media. So not only are we driving improved reach, but we're also helping brands do it more efficiently. And as a result of this, you see many advertisers reevaluating their media mix and increasing their investments in our platforms.\\nAnd as far as the Direct Response part goes, we're helping advertisers convert intent into action. We tried to drive performance at an incredible scale. Take an example like with Video Action campaigns, which is our next generation TrueView for Action format. Advertisers are getting access to even more inventory across YouTube and our partners all in a single automated campaign. And as I said before, we're working really hard to make YouTube not only more actionable, but also more shoppable. So YouTube is proving to be meaningful for not just brand building and reaching a massive audience, but also for converting viewers into buyers. And what's nice is that we're seeing more advertisers leveraging Brand to create demand and Direct Response to convert it. So they're basically using the full funnel very, very smartly.\\nAnd then to the second part of your second question, the YouTube TV ads, for example, this part, we're really trying to bring the -- well, connected TV is -- let me phrase it from connected TV part, I think that's easier. It is really the fastest growing consumer surface that we have and that growth started before the pandemic and has frankly solidified since. And in the U.S., we have over 120 [Phonetic] million people who watch YouTube on TVs every month and that's up from like 100 million last year. We're number one in reach and watch time among ad-supported streaming services. So we're very, very happy with the development that we're seeing here.\",\n",
       "  \"Yeah, look, there is a ton of commercial intent across YouTube and it was a shopping destination before COVID. I mean, think unboxing videos, product reviews, make-up tutorials and so on. And throughout the pandemic, we've really seen more shoppers turn to the platform for ideas, inspiration and really help them decide what to buy. And a number of shopping capabilities are already underway and we are working real hard to make it easier for users to discover and buy directly on YouTube.\\nAnd I mentioned how merchants can globally add their product feeds now right into Video Action campaigns and brands and shoppers alike are loving it and we also began beta testing this, for example, with Discovery Ads. And kind of last quarter, I mentioned, I hope viewers can make purchases from their favorite creators with their early experiments with BrandConnect and shoppable product shelves and early adopters are seeing a lot of success here. So stay tuned for more updates later this year.\",\n",
       "  \"New businesses, small businesses are the backbone of our economy here. But, obviously, local communities are in varying stages of recovery. Some are reopening, while others are unfortunately returning to lockdown. And we're focused on continuing to, I would say, level the playing field for SMBs here and from getting them online and frankly set up for success to giving them all the digital tools they need to get discovered and be ready for what's ahead. This includes the ability to, like, seamlessly transition between online and offline and reach customers nearby, far beyond their local neighborhoods as well.\\nSo over the past few months, I mean, literally, just the past few months, we've made it easier for SMBs to show their product across Google for free and we added new ways for them to highlight in-store inventories through local inventory ads and we've also made it easier for them to leverage the power of YouTube. They now can create video ad campaigns, literally, within minutes via their smartphone.\\nAnd these are just a few examples of the ways we're helping, plus also interesting trend, people are more eager than ever to support their local small businesses. Searches for Support Local Business are up like 20 times last year in the U.S. alone. And this is creating a lot of opportunity for SMBs overall. And I don't know, take an example like Ayla Beauty, for example. It's a San Francisco beauty brand. They made a 100% pivot to online during the pandemic, and with insights into popular wellness and beauty searches in Google Ads, has been really able to grow their business significantly over the last year.\",\n",
       "  \"Look, maybe rather than go into the deep disaggregation that you're talking about, let me maybe talk a little about how we think about the overall market for Search in the addressable market. In the last call -- last quarter, I gave you a little bit of a breakdown here, but what is really important is we're not just addressing above-the-line marketing budgets, which is different metrics around, let's say, around $0.5 trillion, which is traditional advertising, TV advertising and so on. And there is also significant upside in below-the-line budgets overall, like promotional pricing, product within sponsorships and so on. And, sure, we've seen COVID accelerate the shift to e-commerce at an astounding rate, but keep also in mind, 80% of commerce still remains offline. So there's a lot of room for digital to play a bigger role and we think we can tap into other budgets that were traditionally used for, let's say, local advertising to derive sales.\\nAnd as we think about our long runway for growth, we also think, obviously, about improving user and advertiser experiences for years to come here. And we are constantly asking ourselves, how do we derive better answers to queries, including those with commercial intent and how do we use our ML to deliver even more relevant and higher quality experiences for users. And our primary focus is really on delivering great experiences for users and driving incremental value for our partners and making them successful. And I think as long as we do this, we should continue to see budgets move our way.\",\n",
       "  ''],\n",
       " 'Ruth Porat -- Chief Financial Officer': [\"Thank you, Philipp. Our strong revenue performance in the second quarter reflects lapping the impact of COVID on our business, elevated consumer online activity, broad-based strength in advertiser spend, as well as the benefit of excellent ongoing execution by our teams. My comments will be on year-over-year comparisons for the second quarter unless I state otherwise. We'll start with results at the Alphabet level, followed by segment results and conclude with our outlook.\\nFor the second quarter, our consolidated revenues were $61.9 billion, up 62% or up 57% in constant currency. Our total cost of revenues was $26.2 billion, up 41%, primarily driven by growth in TAC, which was $10.9 billion, up 63%, followed by growth in other cost of revenues, which was $15.3 billion, up 29%, the largest driver of which was content acquisition costs.\\nOperating expenses were $16.3 billion, up 22%. In terms of the three component parts of opex, first, the increase in R&D expenses was driven primarily by headcount growth. Second, the growth in sales and marketing expenses was due primarily to the ramp up of spending on ads and promo in contrast to the pullback in the second quarter last year. Finally, the increase in G&A reflects the impact of charges relating to legal matters.\\nHeadcount was up 4,061 from the first quarter. Operating income was $19.4 billion, up 203% and our operating margin in the quarter was 31%. Other income and expense was $2.6 billion, which primarily reflects unrealized gains and the value of investments in equity securities. Net income was $18.5 billion.\\nLet me now turn to our segment financial results starting with our Google Services segment. Total Google Services revenues were $57.1 billion, up 63%. Google Search and other advertising revenues of $35.8 billion in the quarter were up 68% with broad-based strength across our business, led again by strong growth in retail. YouTube advertising revenues of $7 billion were up 84%, driven by Brand, followed by Direct Response. Network advertising revenues of $7.6 billion were up 60%, driven by Ad Manager and AdMob. Other revenues were $6.6 billion, up 29%, primarily driven by growth in YouTube non-advertising revenues, followed by Hardware, which benefited from the addition of Fitbit revenues and finally Google Play which lapped the increased level of user engagement that started in Q1 last year due to the pandemic. Google Services operating income was $22.3 billion, up 134% and the operating margin was 39%.\\nTurning to the Google Cloud segment. Revenues were $4.6 billion for the second quarter, up 54%. GCPs revenue growth was again above Cloud overall, reflecting significant growth in both infrastructure and platform services. Once again, strong growth in Google Workspace revenues was driven by robust growth in both seats and average revenue per seat. Google Cloud had an operating loss of $591 million.\\nAs to our Other Bets, in the first quarter, revenues were $192 million. The operating loss was $1.4 billion.\\nLet me close with some comments on our outlook. In the second quarter, revenues benefited from an FX tailwind of more than 4% at the consolidated level. Based on FX spot rates against the dollar, relative to the third quarter of last year, we expect a more muted tailwind to revenues in the third quarter. In terms of outlook by segment, for Google Services, the benefit to revenue growth in Q2 from lapping the effects of COVID last year will diminish through the balance of the year as we begin to lap stronger performance in the second half of 2020. In the second quarter, we continued to benefit from elevated consumer online activity and broad-based strength in advertiser spend. We believe it is still too early to forecast the longer-term trends as markets reopen, especially, given the recent increase in COVID cases globally.\\nWithin Other Revenues, Play revenue growth for the balance of the year will face headwinds due to the impact of lapping elevated engagement in the pandemic, as well as the change in fee structure, which was implemented as of July 1. We continue to invest across Google Services to support the extraordinary opportunities we see.\\nA couple of reminders, consistent with prior years. We expect that headcount additions will be seasonally higher in Q3 as we bring on new graduates. In addition, we expect sales and marketing expenses to be more heavily weighted to the back half of the year, in part, to support product launches and the holiday season. As for Google Cloud, we remain focused on revenue growth and are pleased with the trends we are seeing. Across Cloud, we will continue to invest aggressively, given the opportunity we see.\\nTurning to capex. The results in the second quarter primarily reflect ongoing investment in our technical infrastructure, most notably in servers to support ongoing growth across Google. We also began to increase the pace of investment in ground-up construction and fit-outs of office facilities, which were slowed due to COVID and are focused now on [Technical Issues].\\nTurning to cash and capital allocation, we continue to generate strong free cash flow of $16.4 billion in the quarter and $58.5 billion for the trailing 12 months. We ended the second quarter with $136 billion in cash and marketable securities. As we indicated in our press release today, our Board has approved an amendment to the existing $50 billion stock repurchase program, permitting us to repurchase both Class A and Class C shares in a manner that's in the best interest of the company and its stockholders.\\nThank you, and now Sundar, Philipp, and I will take your questions.\",\n",
       "  \"And with respect to the second question, how we think about investments in the back half. Really the driving focus is how do we support near-term, long-term quality growth and I think it's important to note that some of our costs are less variable in the short term, such as depreciation and the operations costs of our data centers. So when you look at Q2 performance, in part, the meaningful year-on-year improvement in the operating margin in the second quarter clearly reflects the strong revenue growth, but also the fact that some of these costs are less variable in the short term.\\nHowever, to support long-term growth and very much to your questions, through -- across both Google Services and Google Cloud, we will continue to increase the pace of investment and that's true in headcount, it's true with continued sales and marketing, really across the board. And you also heard that in some of my comments about capex, we're continuing to pick up the pace of investment in office facilities. Both fit-outs and ground-up construction had been slowed as a result of COVID and we're pleased that the pace has picked up and that really relates to our comments about continuing to build out across the U.S., around the globe, in line with continuing to invest in headcount growth.\\nI'd make one other point, which is -- I think you're aware of this, but in this quarter, the results also reflect the benefit from the change in useful lives that we talked about earlier in the year that reduced depreciation expense. It's a benefit of about $721 million in the quarter and the benefit from this change will be lower in the second half as you're looking ahead.\",\n",
       "  \"Yeah, I would just build on Sundar's comment. There is really no change in our approach to building the Cloud business. We do intend to continue to invest meaningfully. We are very pleased with the business as we both said. As an example, we're continuing to build out the global footprint, continuing to invest in our compute capacity globally. As an example, we most recently announced a second Cloud region in India. This is our 26th Cloud datacenter region globally. And so, continuing to invest across the board, given the opportunity that we see. And as I said last quarter, I would not extrapolate from quarter-to-quarter, given we still are in the early stages of building the business and we do intend to continue to invest aggressively, including expanding our go-to-market organization, our channel expansion, our product offerings and our compute capacity; excited about what we're seeing the team executing upon here.\",\n",
       "  '']}"
      ]
     },
     "execution_count": 15,
     "metadata": {},
     "output_type": "execute_result"
    }
   ],
   "source": [
    "transcripts_data_google[\"extracted_speech\"].iloc[0]"
   ]
  },
  {
   "cell_type": "code",
   "execution_count": 16,
   "id": "7614f81f-77ab-4015-b119-7e585c2b99ea",
   "metadata": {},
   "outputs": [
    {
     "name": "stderr",
     "output_type": "stream",
     "text": [
      "Device set to use mps:0\n"
     ]
    }
   ],
   "source": [
    "from transformers import BertTokenizer, BertForSequenceClassification\n",
    "from transformers import pipeline\n",
    "\n",
    "# Load FinBERT\n",
    "finbert = BertForSequenceClassification.from_pretrained('yiyanghkust/finbert-tone', num_labels=3)\n",
    "tokenizer = BertTokenizer.from_pretrained('yiyanghkust/finbert-tone')\n",
    "\n",
    "nlp = pipeline(\"sentiment-analysis\", model=finbert, tokenizer=tokenizer)"
   ]
  },
  {
   "cell_type": "code",
   "execution_count": 20,
   "id": "5d57fc95-544b-43c1-93a9-186b4cdaa393",
   "metadata": {},
   "outputs": [
    {
     "name": "stderr",
     "output_type": "stream",
     "text": [
      "/var/folders/5h/1cc6fvqn1nsf3cqhcndrlz280000gn/T/ipykernel_69591/472484847.py:68: SettingWithCopyWarning: \n",
      "A value is trying to be set on a copy of a slice from a DataFrame.\n",
      "Try using .loc[row_indexer,col_indexer] = value instead\n",
      "\n",
      "See the caveats in the documentation: https://pandas.pydata.org/pandas-docs/stable/user_guide/indexing.html#returning-a-view-versus-a-copy\n",
      "  transcripts_data_google[\"extracted_speech_sentiment\"] = transcripts_data_google[\"extracted_speech\"].apply(analyze_extracted_speech)\n"
     ]
    }
   ],
   "source": [
    "# Function to split text into paragraphs based on single newline character\n",
    "def split_text_to_paragraphs(text):\n",
    "    return text.split(\"\\n\")  # Split based on single newlines\n",
    "\n",
    "# Function to analyze sentiment for extracted speech\n",
    "def analyze_extracted_speech(extracted_speech):\n",
    "    participant_sentiments = {}\n",
    "    \n",
    "    for person, texts in extracted_speech.items():\n",
    "        # Initialize probabilities\n",
    "        probabilities = {\"negative\": 0, \"neutral\": 0, \"positive\": 0}\n",
    "        \n",
    "        for text in texts:\n",
    "            if text.strip():  # Process non-empty text\n",
    "                # print(f\"Processing text: {text}\")\n",
    "                # print(f\"Text length: {len(text)}\")\n",
    "                \n",
    "                # Tokenize the text to check if it exceeds the token limit\n",
    "                inputs = tokenizer(text, return_tensors=\"pt\")\n",
    "                \n",
    "                # Check if the text exceeds the token limit\n",
    "                if inputs['input_ids'].size(1) > 512:\n",
    "                    # Split the text into paragraphs if it's too long\n",
    "                    paragraphs = split_text_to_paragraphs(text)\n",
    "                    \n",
    "                    # Loop through paragraphs and analyze sentiment\n",
    "                    for paragraph in paragraphs:\n",
    "                        if paragraph.strip():  # Skip empty paragraphs\n",
    "                            # print(f\"Analyzing paragraph: {paragraph}\")\n",
    "                            results = nlp(paragraph)  # Assuming `nlp` is the sentiment analysis model\n",
    "                            # print(results)\n",
    "                            for res in results:\n",
    "                                if res[\"label\"] == \"Neutral\":  # Neutral\n",
    "                                    probabilities[\"neutral\"] += res[\"score\"]\n",
    "                                elif res[\"label\"] == \"Positive\":  # Positive\n",
    "                                    probabilities[\"positive\"] += res[\"score\"]\n",
    "                                elif res[\"label\"] == \"Negative\":  # Negative\n",
    "                                    probabilities[\"negative\"] += res[\"score\"]\n",
    "                else:\n",
    "                    # Proceed with sentiment analysis for the full text\n",
    "                    results = nlp(text)  # Assuming `nlp` is the sentiment analysis model\n",
    "                    # print(results)\n",
    "                    for res in results:\n",
    "                        if res[\"label\"] == \"Neutral\":  # Neutral\n",
    "                            probabilities[\"neutral\"] += res[\"score\"]\n",
    "                        elif res[\"label\"] == \"Positive\":  # Positive\n",
    "                            probabilities[\"positive\"] += res[\"score\"]\n",
    "                        elif res[\"label\"] == \"Negative\":  # Negative\n",
    "                            probabilities[\"negative\"] += res[\"score\"]\n",
    "                        # print(\"probabilities:\",probabilities)\n",
    "        \n",
    "        # Normalize the probabilities\n",
    "        total = sum(probabilities.values())\n",
    "        if total > 0:\n",
    "            probabilities = {k: v / total for k, v in probabilities.items()}\n",
    "        \n",
    "        # Find max sentiment\n",
    "        max_sentiment = max(probabilities, key=probabilities.get)\n",
    "        \n",
    "        # Store results for the person\n",
    "        participant_sentiments[person] = {\n",
    "            **probabilities,\n",
    "            \"max_sentiment\": max_sentiment\n",
    "        }\n",
    "    \n",
    "    return participant_sentiments\n",
    "\n",
    "transcripts_data_google[\"extracted_speech_sentiment\"] = transcripts_data_google[\"extracted_speech\"].apply(analyze_extracted_speech)"
   ]
  },
  {
   "cell_type": "code",
   "execution_count": 22,
   "id": "7f9a0639-6749-40d0-b757-fed6ff4a3960",
   "metadata": {},
   "outputs": [
    {
     "data": {
      "text/plain": [
       "{'Jim Friedland -- Director of Investor Relations': {'negative': 0.0,\n",
       "  'neutral': 0.5646152370561309,\n",
       "  'positive': 0.4353847629438691,\n",
       "  'max_sentiment': 'neutral'},\n",
       " 'Sundar Pichai -- Chief Executive Officer': {'negative': 0.0,\n",
       "  'neutral': 0.35207972721928477,\n",
       "  'positive': 0.6479202727807152,\n",
       "  'max_sentiment': 'positive'},\n",
       " 'Philipp Schindler -- Chief Business Officer': {'negative': 0.04345331118504299,\n",
       "  'neutral': 0.1553802530340193,\n",
       "  'positive': 0.8011664357809377,\n",
       "  'max_sentiment': 'positive'},\n",
       " 'Ruth Porat -- Chief Financial Officer': {'negative': 0.13544291559865212,\n",
       "  'neutral': 0.1876133734710394,\n",
       "  'positive': 0.6769437109303085,\n",
       "  'max_sentiment': 'positive'}}"
      ]
     },
     "execution_count": 22,
     "metadata": {},
     "output_type": "execute_result"
    }
   ],
   "source": [
    "transcripts_data_google[\"extracted_speech_sentiment\"].iloc[0]"
   ]
  },
  {
   "cell_type": "code",
   "execution_count": 19,
   "id": "32fee7cd-366a-4920-93fa-26a76cab33d9",
   "metadata": {
    "scrolled": true
   },
   "outputs": [
    {
     "data": {
      "text/plain": [
       "{'Ellen West -- Vice President, Investor Relations': {'negative': 0.0,\n",
       "  'neutral': 0.5860441752785112,\n",
       "  'positive': 0.4139558247214888,\n",
       "  'max_sentiment': 'neutral'},\n",
       " 'Ruth Porat -- Senior Vice President and Chief Financial Officer': {'negative': 0.07540706467024873,\n",
       "  'neutral': 0.4655106896740092,\n",
       "  'positive': 0.45908224565574207,\n",
       "  'max_sentiment': 'neutral'},\n",
       " 'Sundar Pichai -- Chief Executive Officer': {'negative': 0.0,\n",
       "  'neutral': 0.20441481228564037,\n",
       "  'positive': 0.7955851877143596,\n",
       "  'max_sentiment': 'positive'}}"
      ]
     },
     "execution_count": 19,
     "metadata": {},
     "output_type": "execute_result"
    }
   ],
   "source": [
    "transcripts_data_google[\"extracted_speech_sentiment\"].iloc[3]"
   ]
  }
 ],
 "metadata": {
  "kernelspec": {
   "display_name": "Python 3 (ipykernel)",
   "language": "python",
   "name": "python3"
  },
  "language_info": {
   "codemirror_mode": {
    "name": "ipython",
    "version": 3
   },
   "file_extension": ".py",
   "mimetype": "text/x-python",
   "name": "python",
   "nbconvert_exporter": "python",
   "pygments_lexer": "ipython3",
   "version": "3.12.6"
  }
 },
 "nbformat": 4,
 "nbformat_minor": 5
}
