{
 "cells": [
  {
   "cell_type": "code",
   "execution_count": 1,
   "id": "4e841176-5559-40cf-b335-3700907217f2",
   "metadata": {},
   "outputs": [],
   "source": [
    "import pandas as pd\n",
    "import numpy as np\n",
    "import matplotlib.pyplot as plt\n",
    "import seaborn as sns\n",
    "from matplotlib.ticker import FuncFormatter\n",
    "import matplotlib.pyplot as plt\n",
    "import logging"
   ]
  },
  {
   "cell_type": "code",
   "execution_count": 3,
   "id": "99124b7e-4eb9-40d3-be3f-599c15e86b76",
   "metadata": {},
   "outputs": [],
   "source": [
    "data = pd.read_pickle(\"motley-fool-data.pkl\")"
   ]
  },
  {
   "cell_type": "code",
   "execution_count": 4,
   "id": "22abb9be-fb1d-4605-91db-40c1f5a0d74e",
   "metadata": {},
   "outputs": [
    {
     "data": {
      "text/html": [
       "<div>\n",
       "<style scoped>\n",
       "    .dataframe tbody tr th:only-of-type {\n",
       "        vertical-align: middle;\n",
       "    }\n",
       "\n",
       "    .dataframe tbody tr th {\n",
       "        vertical-align: top;\n",
       "    }\n",
       "\n",
       "    .dataframe thead th {\n",
       "        text-align: right;\n",
       "    }\n",
       "</style>\n",
       "<table border=\"1\" class=\"dataframe\">\n",
       "  <thead>\n",
       "    <tr style=\"text-align: right;\">\n",
       "      <th></th>\n",
       "      <th>date</th>\n",
       "      <th>exchange</th>\n",
       "      <th>q</th>\n",
       "      <th>ticker</th>\n",
       "      <th>transcript</th>\n",
       "    </tr>\n",
       "  </thead>\n",
       "  <tbody>\n",
       "    <tr>\n",
       "      <th>0</th>\n",
       "      <td>Aug 27, 2020, 9:00 p.m. ET</td>\n",
       "      <td>NASDAQ: BILI</td>\n",
       "      <td>2020-Q2</td>\n",
       "      <td>BILI</td>\n",
       "      <td>Prepared Remarks:\\nOperator\\nGood day, and wel...</td>\n",
       "    </tr>\n",
       "    <tr>\n",
       "      <th>1</th>\n",
       "      <td>Jul 30, 2020, 4:30 p.m. ET</td>\n",
       "      <td>NYSE: GFF</td>\n",
       "      <td>2020-Q3</td>\n",
       "      <td>GFF</td>\n",
       "      <td>Prepared Remarks:\\nOperator\\nThank you for sta...</td>\n",
       "    </tr>\n",
       "    <tr>\n",
       "      <th>2</th>\n",
       "      <td>Oct 23, 2019, 5:00 p.m. ET</td>\n",
       "      <td>NASDAQ: LRCX</td>\n",
       "      <td>2020-Q1</td>\n",
       "      <td>LRCX</td>\n",
       "      <td>Prepared Remarks:\\nOperator\\nGood day and welc...</td>\n",
       "    </tr>\n",
       "    <tr>\n",
       "      <th>3</th>\n",
       "      <td>Nov 6, 2019, 12:00 p.m. ET</td>\n",
       "      <td>NASDAQ: BBSI</td>\n",
       "      <td>2019-Q3</td>\n",
       "      <td>BBSI</td>\n",
       "      <td>Prepared Remarks:\\nOperator\\nGood day, everyon...</td>\n",
       "    </tr>\n",
       "    <tr>\n",
       "      <th>4</th>\n",
       "      <td>Aug 7, 2019, 8:30 a.m. ET</td>\n",
       "      <td>NASDAQ: CSTE</td>\n",
       "      <td>2019-Q2</td>\n",
       "      <td>CSTE</td>\n",
       "      <td>Prepared Remarks:\\nOperator\\nGreetings and wel...</td>\n",
       "    </tr>\n",
       "    <tr>\n",
       "      <th>...</th>\n",
       "      <td>...</td>\n",
       "      <td>...</td>\n",
       "      <td>...</td>\n",
       "      <td>...</td>\n",
       "      <td>...</td>\n",
       "    </tr>\n",
       "    <tr>\n",
       "      <th>18750</th>\n",
       "      <td>Nov 9, 2021, 1:00 p.m. ET</td>\n",
       "      <td>NYSE: SWX</td>\n",
       "      <td>2021-Q3</td>\n",
       "      <td>SWX</td>\n",
       "      <td>Prepared Remarks:\\nOperator\\nLadies and gentle...</td>\n",
       "    </tr>\n",
       "    <tr>\n",
       "      <th>18751</th>\n",
       "      <td>Nov 18, 2021, 12:00 p.m. ET</td>\n",
       "      <td>NYSE: PNNT</td>\n",
       "      <td>2021-Q4</td>\n",
       "      <td>PNNT</td>\n",
       "      <td>Prepared Remarks:\\nOperator\\nGood morning, and...</td>\n",
       "    </tr>\n",
       "    <tr>\n",
       "      <th>18752</th>\n",
       "      <td>Feb 08, 2022, 11:00 a.m. ET</td>\n",
       "      <td>NYSE: TDG</td>\n",
       "      <td>2022-Q1</td>\n",
       "      <td>TDG</td>\n",
       "      <td>Prepared Remarks:\\nOperator\\nThank you for sta...</td>\n",
       "    </tr>\n",
       "    <tr>\n",
       "      <th>18753</th>\n",
       "      <td>Feb 28, 2022, 4:30 p.m. ET</td>\n",
       "      <td>NASDAQ: DVAX</td>\n",
       "      <td>2021-Q4</td>\n",
       "      <td>DVAX</td>\n",
       "      <td>Prepared Remarks:\\nOperator\\nGood day, ladies ...</td>\n",
       "    </tr>\n",
       "    <tr>\n",
       "      <th>18754</th>\n",
       "      <td>Aug 12, 2021, 9:00 a.m. ET</td>\n",
       "      <td>(NYSE: CIB)</td>\n",
       "      <td>2021-Q2</td>\n",
       "      <td>CIB)</td>\n",
       "      <td>Prepared Remarks:\\nOperator\\nGood morning, lad...</td>\n",
       "    </tr>\n",
       "  </tbody>\n",
       "</table>\n",
       "<p>18755 rows × 5 columns</p>\n",
       "</div>"
      ],
      "text/plain": [
       "                              date      exchange        q ticker  \\\n",
       "0       Aug 27, 2020, 9:00 p.m. ET  NASDAQ: BILI  2020-Q2   BILI   \n",
       "1       Jul 30, 2020, 4:30 p.m. ET     NYSE: GFF  2020-Q3    GFF   \n",
       "2       Oct 23, 2019, 5:00 p.m. ET  NASDAQ: LRCX  2020-Q1   LRCX   \n",
       "3       Nov 6, 2019, 12:00 p.m. ET  NASDAQ: BBSI  2019-Q3   BBSI   \n",
       "4        Aug 7, 2019, 8:30 a.m. ET  NASDAQ: CSTE  2019-Q2   CSTE   \n",
       "...                            ...           ...      ...    ...   \n",
       "18750    Nov 9, 2021, 1:00 p.m. ET     NYSE: SWX  2021-Q3    SWX   \n",
       "18751  Nov 18, 2021, 12:00 p.m. ET    NYSE: PNNT  2021-Q4   PNNT   \n",
       "18752  Feb 08, 2022, 11:00 a.m. ET     NYSE: TDG  2022-Q1    TDG   \n",
       "18753   Feb 28, 2022, 4:30 p.m. ET  NASDAQ: DVAX  2021-Q4   DVAX   \n",
       "18754   Aug 12, 2021, 9:00 a.m. ET   (NYSE: CIB)  2021-Q2   CIB)   \n",
       "\n",
       "                                              transcript  \n",
       "0      Prepared Remarks:\\nOperator\\nGood day, and wel...  \n",
       "1      Prepared Remarks:\\nOperator\\nThank you for sta...  \n",
       "2      Prepared Remarks:\\nOperator\\nGood day and welc...  \n",
       "3      Prepared Remarks:\\nOperator\\nGood day, everyon...  \n",
       "4      Prepared Remarks:\\nOperator\\nGreetings and wel...  \n",
       "...                                                  ...  \n",
       "18750  Prepared Remarks:\\nOperator\\nLadies and gentle...  \n",
       "18751  Prepared Remarks:\\nOperator\\nGood morning, and...  \n",
       "18752  Prepared Remarks:\\nOperator\\nThank you for sta...  \n",
       "18753  Prepared Remarks:\\nOperator\\nGood day, ladies ...  \n",
       "18754  Prepared Remarks:\\nOperator\\nGood morning, lad...  \n",
       "\n",
       "[18755 rows x 5 columns]"
      ]
     },
     "execution_count": 4,
     "metadata": {},
     "output_type": "execute_result"
    }
   ],
   "source": [
    "data"
   ]
  },
  {
   "cell_type": "code",
   "execution_count": 5,
   "id": "fbfca05a-2675-4053-801d-5961facab33b",
   "metadata": {},
   "outputs": [
    {
     "data": {
      "text/plain": [
       "\"Prepared Remarks:\\nOperator\\nGood day, and welcome to the Bilibili 2020 Second Quarter Earnings Conference Call. Today's conference is being recorded.\\nAt this time, I would like to turn the conference over to Juliet Yang, Senior Director of Investor Relations. Please go ahead.\\nJuliet Yang -- Senior Director of Investor Relations\\nThank you, operator.\\nPlease note the discussion today will contain forward-looking statements relating to the Company's future performance, and are intended to qualify for the Safe Harbor from liability, as established by the US Private Securities Litigation Reform Act. Such statements are not guarantees of future performance and are subject to certain risks and uncertainties, assumptions and other factors. Some of these risks are beyond the Company's control and could cause actual results to differ materially from those mentioned in today's press release and this discussion. A general discussion of the risk factors that could affect Bilibili's business and financial results is included in certain filings of the Company with the Securities and Exchange Commission. The Company does not undertake any obligation to update this forward-looking information, except as required by law.\\nDuring today's call, management will also discuss certain non-GAAP financial measures, for comparison purposes only. For a definition of non-GAAP financial measures and the reconciliation of GAAP to non-GAAP financial results, please see the 2020 second quarter financial results news release issued earlier today.\\nAs a reminder, this conference call is being recorded. In addition, an investor presentation and a webcast replay of this conference call will be available on the Bilibili investor relations website at ir.bilibili.com.\\nJoining us today on the call from Bilibili's senior management are Mr. Rui Chen, Chairman of the Board and Chief Executive Officer; Ms. Carly Lee, Vice Chairwoman of the Board and Chief Operating Officer; and Mr. Sam Fan, Chief Financial Officer.\\nAnd I will now turn the call over to Mr. Fan, who will read the prepared remarks on behalf of Mr. Chen.\\nXin Fan -- Chief Financial Officer\\nThank you, Juliet, and thank you, everyone, for participating in our 2020 second quarter conference call. I'm pleased to deliver today's opening remarks on behalf of Mr. Chen.\\nThe second quarter was another strong quarter of growth for Bilibili. Owing to our increasing diverse content and wider awareness of our brand, we are reaching a much broader audience. For the second quarter, MAUs were 172 million, up 55% and DAUs were up 52% to 51 million, both on a year-over-year basis. Mobile MAUs continued to be our fastest grower, reaching 153 million in the period, up 59% compared to the same period in 2019.\\nAlong with the expanded user base, user engagement continues to be strong. In the second quarter, our users spent an average of 79 minutes per day on our Bilibili app, making us one of the most popular platforms among our peers. As we move into our peak summer season, with solid execution of our initiatives, we're looking forward to further building on our user growth momentum.\\nWe continue to rollout more premium content and services, strengthen our monetization capabilities, and we are increasingly converting traffic to paid users. Our MPUs were up 105% year-over-year, reaching 12.9 million in the second quarter, and our paying ratio improved to 7.5%, compared to 5.7% from the same period last year. These increases fueled our top line growth and we once again reached record high revenues of RMB2.6 billion, beating the high-end of our guidance.\\nOur gross margin expanded to 23% from 16% in the second quarter of last year as we continued to realize more operating leverage.\\nWe remain committed to our user growth focused strategy. After 11 years of cultivation, we believe our content pool is deep and diverse enough to accommodate a much larger user base, and our community is friendly and robust enough to retain those newcomers. Hence, we have made more proactive user growth plans. Our primary areas of focus are on creating additional brand awareness and targeted channel acquisition. In the second quarter, we launched a series of campaigns aimed at spreading the Bilibili brand name among a broader audience, in tandem with expanding our content appeal to a mass market. During our 11th anniversary, we introduced a new slogan Bilibili-All the Videos You Like, helping to define our brand proposition and appeal to a wider base. With this vision in mind, we launched a branding campaign series that started with our blockbuster New Year's Eve gala in the first quarter, followed by the Hou Lang, Ru Hai, Xi Xiang Feng trilogy videos, which all have been widely successful, and we are seeing a clear uptick in brand perception and brand awareness across different demographics. This strategy is working well for us and we are determined to carry on as we move into the summer peak season.\\nLooking ahead, a number of positive industry trends are working in our favor. The adoption of a faster network and smarter hardware is making content creation easier and more accessible to everyone. Particularly, the video industry is emerging as the biggest beneficiary. Video is rapidly becoming the most interactive and influential method to convey information. Building on a decade of experience and leadership in the video community, we are well positioned to capture the growth opportunity.\\nWith that overview, I would like to walk through the latest updates of our content, community, commercialization and strategic growth plans. First, our content. Our PUGV ecosystem remains the cornerstone of our business. For the past decade, we have carefully cultivated our PUGV community, and risen as the clear industry leader. Our effective traffic distribution mechanism and friendly community environment make Bilibili an increasingly attractive platform for content creators. In addition to easy-to-use tools that make the content creation process simpler and more accessible, we launched our new ad platform to bring more commercial opportunities to our content creators. For the second quarter, we had approximately 1.9 million content creators uploading 6 million videos per month, representing increases of 123% and 148%, respectively, both year-over-year.\\nFor the second quarter, our most heavily trafficked verticals were lifestyle, game, entertainment, animation and tech and knowledge. With rapid trends in video content, newcomers and key opinion leaders from other platforms are turning to Bilibili. In the first half of 2020, the number of content creators who submitted their first video creation trial grew by 139% year-over-year. These creative minds open Bilibili up to expanded content categories. For instance, we officially launched a knowledge sector to encourage content creators to share their insights, such as business stories, how-to skills and professional experiences. With our effective operational campaigns and welcoming community atmosphere, knowledge has quickly become the fastest growing sector and we have ever seen -- we have seen excellent traction.\\nTurning to our OGV. We remain as the dominant leader in the animation field with one of China's largest anime libraries. Since beginning of this year, there were three new Chinese animes joined our 100 million video views club, including White Cat Legend, Da Li Si Rizhi, and our self-produced The Daily Life of the Immortal King, Xian Wang de Richang Shenghuo, and Carp Reborn, Yuan Long. Additionally, we plan to rollout more Bilibili-produced Chinese animes, including Ling Cage, Ling Long, A Mortal's Journey, [Foreign Speech] and The Legend of Tang [Foreign Speech]. We believe these new series will attract even more Chinese anime lovers to our platform in this summer.\\nAs a supplement to our vast content library, we expanded variety shows and documentaries continued to resonate with fans and provide good advertising avenues to our business partners. In August, we were excited to introduce our very first self-produced music variety show Rap for Youth [Foreign Speech], sponsored by Alibaba's Juhuasuan. We hope this rap-themed talent show will help further expand our content offerings, while inspiring our content creators and young generations alike.\\nIn the documentary department, we are pleased to have received wide recognition, not only from our users, but also professional institutions. Two of our Bilibili-produced documentaries were nominated by Bai Yu Lan for the Best Documentary Award, including And Yet the Books [Foreign Speech] and Police Stories [Foreign Speech]. The Hidden Kingdoms of China, a documentary that we co-produced with National Geographic, was nominated as the Best Limited Series-Long Form documentary by Jackson Wild Media Award.\\nTurning to our community. Our community size and engagement have been accelerating rapidly. Our platform is more robust than ever, and we are seeing record highs across all of our primary engagement metrics. In the second quarter, our daily video views reached 1.2 billion, up 97% year-over-year. And our users generated nearly 5.2 billion monthly interactions through bullet chats, comments, likes and Bilibili moment posts, nearly three times the amount from the same period in 2019.\\nOur official membership program is on a similar growth track. By the end of the second quarter, we had 89 million official members who passed our 100-question exam, up 65% year-over-year. Retention for this group remains well above 80%, demonstrating the loyalty of our users.\\nTurning to our commercialization progress, I will first review the status of our game business. Revenues from our mobile games business were up 36% year-over-year to RMB1.2 billion, accounting for 48% of our total revenues. Building on our massive and expanding gamer community, our distribution power in the ACG sector is becoming even stronger. In the second quarter, we were excited to add the new blockbuster title Princess Connect! [Foreign Speech] to our game portfolio. This exclusively licensed Japanese RPG was an instant hit after its release in April, and topped China's iOS download and grossing charts multiple times. Our legacy title Fate Grand Order, or FGO, continues to hold a considerable draw for its stable fan base. At the end of June, we were excited to celebrate Azur Lane's three-year anniversary with a major content update and accompanying offline activities. The long life cycles of these games continues to be a strong testimony to our ability to operate and sustain high quality games.\\nLooking at our game pipeline. Currently, we have 11 games that have acquired approvals and are scheduled to be released in the coming months. These include Magia Record, [Foreign Speech], a highly anticipated ACG title adapted by a popular Japanese anime, and Sword Art Online, [Foreign Speech], an exciting MMORPG. Additionally, while strengthening our ACG game operation, we continue to expand offerings in high-quality games. At the end of June -- July, we hosted our first-ever game release event Enter Your Fantasy World, where we introduced 11 exciting titles across different genres. These included simulation game Dark Boom, [Foreign Speech], a self-developed ACG game; [Foreign Speech], a highly anticipated title adapted from our self-owned Chinese anime IP; and, several high-quality ACG titles, [Foreign Speech] and [Foreign Speech]. In August, we are delighted to announce we are going to bring Chinese audiences the mobile version of Fall Guys, [Foreign Speech], an exciting casual Battle Royale game.\\nAs we solidify our game-related content offerings and welcome more game lovers to our platform, Bilibili has become the go-to place for joint operating partners. In the second half of the year, we will continue to work with leading game developers to bring our users premium games such as Mihoyo's Genshin Impact and NetEase's Harry Potter.\\nTurning to our VAS business. Revenues from VAS increased by 153% year-over-year, reaching RMB825 million in the second quarter. Our growth was mainly driven by increased contribution from premium memberships, live broadcasting and other value-added services. We continued to enrich our live broadcasting content and increase the penetration among our growing traffic. As our platform becomes more influential in China's online entertainment industry, we have seen more hosts and talent agencies turning to Bilibili to grow their fan base and maximize their commercial potential.\\nOn the e-sports front, our three-year strategic partnership with Riot Games will significantly enhance our position in this area. We will join forces with Riot Games and the local government to host diversified online and offline activities to promote world-renowned League of Legends World Championship events, while bringing more e-sports lovers to Bilibili.\\nOur premium memberships, which offer additional exclusive or advanced content to paid users, continued to flourish in the second quarter. By the end of June, we had 10.5 million premium members, up 100% year-over-year. These members represent the golden cohort of our most loyal users, who are also the most primed for future cross-selling opportunities. Notably, our comic business is also on the rise. Within two years, Bilibili Comic has grown from scratch to top three comic platforms in China, with over 1 million paid subscribers. As a natural extension from our core ACG content offering, we see great synergy between our main app and Bilibili Comic app with significant room to grow.\\nAs for our advertising business, our growing user base and increased brand awareness make Bilibili a must go-to platform for advertisers. Despite the tough macro economic environment, we grew our advertising business to RMB349 million, up 108% year-over-year and continued to broaden our customer base. The leading industry verticals in the period were games, e-commerce, 3C products, food and beverage and education.\\nIn summary, we had another strong quarter of growth and we are well poised to continue on this trajectory. Building on the positive momentum in the first half of this year, we plan to make additional investments in branding and channels in the coming quarters to further drive user growth and raise brand awareness. We believe these investments will boost our self-fulfilling growth cycle and yield considerable return in the long run. As we reach new heights, our focus will remain on the quality of growth and we will continue to closely monitor the ROI of our marketing expenses. We are confident that our effective strategic initiatives will further fuel our user growth and support our top line expansion as we continue to build value for our Company, investors and growing community of users.\\nThis concludes Mr. Chen's remarks. I will now provide a brief overview of our financial results for the second quarter of 2020.\\nOur total net revenues increased by 70% year-over-year to RMB2.6 billion, exceeding the high end of our guidance. With our games accounting for just under half of our total revenues, we are pleased to -- with the commercialization progress of our non-game offerings and our ability to convert our online traffic into paying users. The average number of monthly paying users increased by 105% year-over-year, reaching 12.9 million in the second quarter.\\nCost of revenues increased by 57% year-over-year to RMB2 billion. Revenue-sharing cost, a key component of cost of revenues, was RMB1 billion, a 79% increase from the same period in 2019.\\nGross profit increased by 140% year-over-year to RMB604 million. We are also starting to see operating leverage from our diversified revenue streams. With more revenue contribution from our higher margin business, as well as additional income from paying users, our gross profit margin continued to improve, reaching 23% in the second quarter.\\nTotal operating expenses increased to RMB1.2 billion, up 103% from the same period in 2019.\\nSelling and marketing expenses were RMB675 million, representing a 181% increase year-over-year. The increase was primarily attributable to the increased channel and marketing expenses associated with Bilibili's app and brand, as well as expenses for the Company's mobile games and selling and marketing personnel.\\nG&A expenses were RMB208 million, representing a 48% increase year-over-year. The increase was primarily due to increased headcount in G&A personnel and increased share-based compensation expenses.\\nR&D expenses were RMB331 million, representing a 53% increase year-over-year. The increase was primarily due to increased headcount in research and development personnel and increased share-based compensation expenses.\\nNet loss was RMB571 million for the second quarter of 2020, compared to RMB315 million in the same period of 2019. Adjusted net loss, which is a non-GAAP measure that excludes share-based compensation expenses and amortization expense related to intangible assets acquired through business acquisitions, was RMB476 million, compared to RMB256 million in the same period of 2019.\\nBasic and diluted net loss per share were RMB1.63. Adjusted basic and diluted net loss per share were RMB1.35.\\nAs of June 30, 2020, we had cash and cash equivalents, time deposits, as well as short-term investments of RMB15.6 billion, or $2.2 billion, compared to RMB8.1 billion as of December 31, 2019.\\nFor the third quarter of 2020, we are currently projecting net revenues to be between RMB3.05 billion and RMB3.10 billion.\\nThank you for your attention. We would like now to open the call to your questions. Operator, please go ahead.\\nQuestions and Answers:\\nOperator\\nThank you, sir. [Operator Instructions] Your first question in queue comes from the line of Alex Poon from Morgan Stanley. Alex, please ask your question. Your line is open.\\nAlex Poon -- Morgan Stanley -- Analyst\\n[Foreign Speech] My first question is regarding the user growth. First half, the user growth is very strong. May I know -- can you share with us the quality and retention and the user profile of the new user growth in first half and about the second half growth and also next year, what is the key focuses of your strategy of user growth? How are you going to balance the user retention and maintain the fast user growth in second half of next year? Thank you very much.\\nRui Chen -- Chairman and Chief Executive Officer\\n[Foreign Speech] I will translate for Mr. Chen. Last year, we have reinforced and reaffirmed user growth will be our key strategic focus and we have been carrying out the strategy efficiently going through the first half of this year, and have made very positive progress.\\nAs for the new user profile you asked, there is no significant change of the new user profile, we still see a lot of new young generations that are coming in. The average age of our new user is about 20 years old. However, we would like to emphasize during the user growth process, we're more focused on the quality over quantity, and the quality of our users can be supported by the daily time spend, daily time spend of 79 minutes per day. And our user engagement were up to 5.2 billion on a monthly basis, and our daily video views reached 1.2 billion. So, all of these numbers supported our users are not growing very -- not only growing very fast, their quality are very, very high.\\n[Foreign Speech] And notably, we've noticed that the new user who come in during the first half of 2020 and also paid for our services within the same period, the ratio has significantly increased compared to the same period last year. And also the new users who came on our platform during 2017, 2018 and 2019 who also stayed and paid for the next few years, their paying ratio is also increasing. So, once again, the -- this set of numbers is a strong testimony of the quality of our new user growth.\\n[Foreign Speech] So here we also wanted to emphasize the methodology of our user growth. The reason why we are very confident in the user growth trajectory is based on the concept that we have been really emphasizing that we use our content to attract user and use our community to retain users. And as you may notice in the first half of this year, we've done some significant progress to allow our content to reach a much broader audiences. And this type of user growth cannot be achieved by purely channel acquisition or user acquisition. If a user comes to our platform simply through the channel acquisition, we cannot retain them if there's no good content. And the key strategy is to allow our content to grow to a much broader category, and this opens up to new -- for us to new demographics.\\n[Foreign Speech] And Bilibili is a community with high engagement level and high retention level. Although our users increased significantly, our overall community maintains the same intensity and continues to be very sticky and with high retention rate.\\n[Foreign Speech] I'll update you the schedule of our user growth plan. So everybody know during Q1, the pandemic period, people have more time in their hands, so that gives us very good window to invest in user growth. And the second quarter, as people are going back to work and return to school, it came to a more stabilized period that we'll be focusing on raising our retention and converting those users to pay users. And notably, we've also made very good progress to raise our brand awareness in the second quarter and achieve pretty good results. And in the Q3 is traditionally strong peak season for us, so that we plan to make additional investment in both brand, as well as channel acquisition.\\n[Foreign Speech] I would also update you with our brand -- branding campaigns. In the second quarter, starting from May, we have made a very successful marketing campaign trilogy profits with Hou Lang, Ru Hai and Xi Xiang Feng, and we believe this series of campaigns as a complete marketing event, which we consider to be the most successful branding campaign among Chinese Internet companies during the second quarter.\\n[Foreign Speech] This proves our ability to not only to do amazing events among young generation, but we also have the ability to touch much wider, broader audiences.\\n[Foreign Speech] And the reason why we want to emphasize on branding campaign is based on our business model, we use content to attract user and community to retain user. As our content continues to evolve to reach broader audiences, one important step, too, is to allow more people to know that Bilibili have so much content to offer, which are in line with our new brand slogan Bilibili-All the Videos You Like.\\n[Foreign Speech] Okay. As far as our Q3 user outlook, we believe we'll reach historical highs during this quarter. And this summer is a little bit special because in July, a majority of the students are still in school, and August is a full month of summer vacation, and September will be the period where students are returning to school. So, in August, we believe we are able to achieve a pretty high MAU target, and on quarterly, monthly average basis we believe we can reach historical high.\\n[Foreign Speech] So, on a single month basis, we believe we can achieve over 200 million MAU target during Q3, on a single month basis.\\nCarly Lee -- Vice Chairwoman and Chief Operating Officer\\n[Foreign Speech] Carly would like to supplement a few points. During our brand upgrade campaign this year, our overall brand exposure has achieved over 5 billion times. And the brand recognition level among -- just among the age brackets in between 17 to 35 has raised to 80% -- I'm sorry, 60%. And in the second half, our main focus will be on to convert people from recognizing Bilibili brand to turning to Bilibili users. And we -- during the second half, the marketing campaign were [Phonetic] surrounded our key activity around the key time slots, such as the summer vacation and returning to school, as well as the League of Legends World Championship and our New Year's Eve Gala and many work-like scenario among young generation and to create new content, new brand campaigns and further drive our user growth.\\nOperator\\nOur next question comes from the line of Lei Zhang from Bank of America Merrill Lynch. Lei, your line is now open.\\nLei Zhang -- Bank of America Merrill Lynch -- Analyst\\n[Foreign Speech] Thanks, management, and congrats on the strong results. My question is actually regarding your game business, which is quite solid in the second quarter. I wonder could you share more color on the performance of Princess Connect!. Specifically, what's your expectation on the longevity for this game?\\nAnd secondly, can you give us some update on your game pipeline? Any game launch we can expect, specifically your expectation about the mobile version of Fall Guys? Thank you.\\nRui Chen -- Chairman and Chief Executive Officer\\n[Foreign Speech] Regarding Princess Connect! Re:Dive, it's like we expect this game will be having very long life cycle, and we expect this game to last quite -- to quite a long period. And for this game, our -- in many aspects, it has broke the historical record. In terms of pre-registered number, we have over 6.5 million people pre-registered, and the newly added user for this game also achieved a record high number. And the success of this game proves two one. One is that the ACG game has become the mainstream of young generation preferences over game genres. And second is, over the years, our ability to operate and sustain our ACG titles have improved significantly. And we're quite confident to continue the success.\\n[Foreign Speech] And for games like Princess Connect!, with such large user base and within the four-month period of operating history, it has been very smooth in terms of operations and technical operations. So, this once again support our testimony that Bilibili is able to operate this genre's game quite well. As for the long life -- the life cycle of this game, we expect it could be something like FGO and to last couple of years.\\n[Foreign Speech] As for our game -- overall game business, currently, we have over 30 games in our pipeline. And those games are not only ACG titles, we have been actively expanding our content offerings across different genres since last year, and we've made a quite good progress on some of the console games, indie games and have received good results.\\n[Foreign Speech] The Fall Guys game that you mentioned is another example of our successful attempt in expanding into new genres. And looking ahead, we'll continue to explore the new genres that will fit to our user demographic.\\n[Foreign Speech] In terms of revenue contribution, we believe ACG titles still have advantage in this area. And in our pipeline, we believe the Sword Art Online: Integral Factor will be a title that could make decent contribution in the revenue department.\\nOperator\\nOur next question comes from the line of Daniel Chen from J.P. Morgan. Daniel, please ask your question. Your line is now open.\\nDaniel Chen -- J.P. Morgan -- Analyst\\n[Foreign Speech] Thanks, management. I have a question on advertising. Our ad revenue growth actually accelerated on a year-over-year basis from -- in the second quarter. Should we expect the ad revenue to sustain such strong momentum in the second half? What are the key drivers behind? Is it brand advertising? Or is it because of performance advertising, including fees? So, what is our expectation for the new ad system we launched in the third quarter for the content providers? Thank you.\\nCarly Lee -- Vice Chairwoman and Chief Operating Officer\\n[Foreign Speech] Overall 2020 is still full of uncertainties and lots of vitality. However, under this challenging macro environment, we still delivered a pretty good advertising growth rate at 108% year-over-year.\\n[Foreign Speech] So Bilibili has a video platform, we are one of the biggest beneficiary in the overall videolization industry trend. And we have observed that the advertisers' budget has shifted from the traditional portal to the video platforms.\\n[Foreign Speech] As we mentioned earlier, we have invested significantly in expanding our brand awareness and raised our brand influence in the first half. And we have become the must go-to platform for advertisers, who wanted to reach the younger generation demographic, at the same time we also become the media center to create viral marketing event. And Bilibili's brand upgrade, brand awareness increases has direct relationship with advertisers' perception toward Bilibili's brand proposition.\\n[Foreign Speech] So, as our user continue to grow and our PUGV ecosystem continue to thrive, we've seen that we've made decent progress in expanding advert content verticals, such as fashion, lifestyle, technology, fitness, as well as autos. So we are also hoping to reach, expand our advertisers' customers into those industry verticals.\\n[Foreign Speech] So during the second quarter, we didn't make any singular marketing campaign toward certain verticals, but rather emphasizing our overall marketing solutions, as well as Bilibili's brand propositions and influence. And it's working well for us. And we aim to continue this strategy going forward.\\n[Foreign Speech] The reason that the supporting system behind our Q2 strong growth is on our improvement in terms of our advertising products and our advertisers verticals, as well as our AI-powered algorithms to improve our ad efficiencies. And we're confident to carry on this good trajectory into the third quarter.\\n[Foreign Speech] So looking ahead in Q3 and Q4, we are quite confident we can deliver a continued growth rate on our advertisement business and to develop a Bilibili specialty advertisement solution campaign.\\n[Foreign Speech] So the area of focus could be on the e-commerce area. Bilibili's vibrant and engaged community has become many e-commerce platforms' ideal platform to promote shopping festivals and shopping events. So in the second half of this year, this could be a rising sector for us.\\n[Foreign Speech] So as our content verticals expansion, we are quite confident to also expand our advertisers in those verticals.\\n[Foreign Speech] The third point would be on the continuous improvement on our algorithm. We will continue to invest in improving our advertisement efficiency to increase our advertisers' ROI. And the fourth point is on the big events in the second half, there could be new variety shows, as well as new events and gala. And this type of Bilibili specialty event has become the advertisers' favorite advertising avenues to reach young audiences.\\n[Foreign Speech] So the Sparkle [Phonetic] platform is a new platform we launched to help our content creators to connect with brand advertisers. And this platform provides our content creators, a pricing system, order management, as well as settlement services. We're hoping this platform will better serve our content creators to increase and expand their commercial potentials and increase their incomes.\\n[Foreign Speech] Since its launch in July, we have over 8,000 content creator have already participated and signed up for this platform. For the GMV, we'll disclose when we reach a certain milestone.\\n[Foreign Speech] And lastly, we'll continue to focus on ways of improving our data power to provide better decision making assistance, pre-sale or post-sale and to increase our content creators' earning power.\\nOperator\\nYour next question comes from the line of Alex Liu from China Renaissance. Alex, please ask your question. Your line is now open.\\nAlex Liu -- China Renaissance Securities Limited -- Analyst\\n[Foreign Speech] I'll translate myself very quickly. Just wondering what are the major difference in terms of operating know-how and the roadmap between live streaming business and all the core business. Should we consider live streaming as a business that requires some time of incubations and will reach an inflection point on user adoptions? If that's the case, how far are we standing from that inflection point? Thank you.\\nRui Chen -- Chairman and Chief Executive Officer\\n[Foreign Speech] Live broadcasting business is, as we mentioned earlier, has always been a part of our content ecosystem. This is not a singular commercialization avenue for us, but also an important part of our content. A live broadcasting also provides a very good avenue for our content creators to activate and retain their followers, as well as for them to increase their commercialization potential.\\n[Foreign Speech] So, in the past few years, you may have noticed there's such heavy competition among other live broadcasting platform. However, Bilibili has remained within our own self-sustaining ecosystem that continuously helped talented content creators rising above, and they become our live broadcasting host and are providing very good content. This is quite different. Bilibili's business, live broadcasting business is quite different from other singular live broadcasting platform.\\n[Foreign Speech] Our content offering on the live broadcasting business is actually mirroring what we have to offer on the video platform. For example, our popular game-related video would also be our popular live broadcasting content. And hence that, on Bilibili's live broadcasting verticals, games and talent shows and lifestyle-related content are the top verticals.\\n[Foreign Speech] So you may have seen on our platform, a lot of the popular live broadcasting hosts are also our top popular top content creators. And there are two key factors among the live broadcasting industry. One is the good base of live broadcasting host, and second is a good base of users. And we believe we have these particular audiences for the two factors. We have both the highest quality content creator as, aka, our live broadcasting host, and we also have a very high-quality set of users who love to watch live broadcasting content.\\n[Foreign Speech] So compared to other live broadcasting platforms, you're right about the revenue trajectory, we tend to have more stable growth instead of a sharply increased circle because their platform might pursuing [Phonetic] the signing top content host, which will drive the revenue in a short-term. But the merits of our business model is we tend to have a more stable and sustaining life cycle and our content creator, the live broadcasting hosts life cycle will also tend to be longer period.\\n[Foreign Speech] We're quite confident to become the best platform for video content creators, given that the video equals live broadcasting content on our platform, we're also quite confident that will become one of the most popular live broadcasting platform in the future.\\nOperator\\nAnd that concludes the question-and-answer session. I would like to turn the conference back over to management for any additional or closing comments.\\nJuliet Yang -- Senior Director of Investor Relations\\nThank you once again for joining us today. If you have any further questions, please contact myself, Juliet Yang, Bilibili's Senior IR Director or TPG Investor Relations. Our contact information for IR in both China and the US can be found on today's press release. Have a great day.\\nOperator\\n[Operator Closing Remarks]\\nDuration: 61 minutes\\nCall participants:\\nJuliet Yang -- Senior Director of Investor Relations\\nXin Fan -- Chief Financial Officer\\nRui Chen -- Chairman and Chief Executive Officer\\nCarly Lee -- Vice Chairwoman and Chief Operating Officer\\nAlex Poon -- Morgan Stanley -- Analyst\\nLei Zhang -- Bank of America Merrill Lynch -- Analyst\\nDaniel Chen -- J.P. Morgan -- Analyst\\nAlex Liu -- China Renaissance Securities Limited -- Analyst\\nMore BILI analysis\\nAll earnings call transcripts\\n\\n\\n\\n\\n\""
      ]
     },
     "execution_count": 5,
     "metadata": {},
     "output_type": "execute_result"
    }
   ],
   "source": [
    "data[\"transcript\"].iloc[0]"
   ]
  },
  {
   "cell_type": "code",
   "execution_count": null,
   "id": "704b2121-9b1a-4d83-81b7-bb805304926d",
   "metadata": {},
   "outputs": [],
   "source": []
  }
 ],
 "metadata": {
  "kernelspec": {
   "display_name": "Python 3 (ipykernel)",
   "language": "python",
   "name": "python3"
  },
  "language_info": {
   "codemirror_mode": {
    "name": "ipython",
    "version": 3
   },
   "file_extension": ".py",
   "mimetype": "text/x-python",
   "name": "python",
   "nbconvert_exporter": "python",
   "pygments_lexer": "ipython3",
   "version": "3.12.6"
  }
 },
 "nbformat": 4,
 "nbformat_minor": 5
}
